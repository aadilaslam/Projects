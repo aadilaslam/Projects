{
 "cells": [
  {
   "cell_type": "markdown",
   "metadata": {},
   "source": [
    "# Holiday Locations "
   ]
  },
  {
   "cell_type": "code",
   "execution_count": 3,
   "metadata": {},
   "outputs": [],
   "source": [
    "Location = ('Paris - France', 'Rome - Italy', 'Cairo - Egypt', 'Vienna - Austria', 'Venice - Italy', \n",
    "            'Berlin - Germany', 'New York', 'Nairobi - Kenya', 'Grenada - Spain','Uzbekistan', 'Kauai - Hawaii', \n",
    "            'Zambia', 'Iguazu Falls', 'Mauritius', 'Reykjavik - Iceland', 'Porto - Portugal', \n",
    "            'Cape Verde - Caribbean', 'Cape Town - South Africa', 'Goa - India', 'Andaman Islands', \n",
    "            'Elqui Valley - Chile (Good for stargazing)', 'Amsterdam - Netherlands', 'The Grand Canyon')"
   ]
  },
  {
   "cell_type": "code",
   "execution_count": 4,
   "metadata": {},
   "outputs": [
    {
     "name": "stdout",
     "output_type": "stream",
     "text": [
      "Last entry to the list is: The Grand Canyon\n",
      "Holiday Destination is: Elqui Valley - Chile (Good for stargazing)\n",
      "23\n"
     ]
    }
   ],
   "source": [
    "import random \n",
    "\n",
    "print(\"Last entry to the list is: \" + Location[-1]) # This prints the last element in the list.\n",
    "\n",
    "print(\"Holiday Destination is: \" + random.choice(Location)) # Chooses a random location from the list.\n",
    "\n",
    "print(len(Location)) # No. of places in the list.\n"
   ]
  },
  {
   "cell_type": "markdown",
   "metadata": {},
   "source": [
    "### How many locations are in the list"
   ]
  },
  {
   "cell_type": "code",
   "execution_count": 3,
   "metadata": {},
   "outputs": [
    {
     "data": {
      "text/plain": [
       "23"
      ]
     },
     "execution_count": 3,
     "metadata": {},
     "output_type": "execute_result"
    }
   ],
   "source": [
    "def flatten_list(ls, flattened_list=[]):\n",
    "    for elem in ls:\n",
    "        if not isinstance(elem, list): \n",
    "            flattened_list.append(elem)\n",
    "        else:\n",
    "            flatten_list(elem, flattened_list)\n",
    "    return flattened_list\n",
    "\n",
    "len(flatten_list(Location)) # Reveals how many locations are in the list.\n"
   ]
  },
  {
   "cell_type": "markdown",
   "metadata": {},
   "source": [
    "Countries / Cities Visited."
   ]
  },
  {
   "cell_type": "code",
   "execution_count": 4,
   "metadata": {},
   "outputs": [
    {
     "name": "stdout",
     "output_type": "stream",
     "text": [
      "('Spain: Barcelona, Seville', 'Greece: Athens', 'USA: New York', 'Germany: Berlin', 'Uganda', 'Netherlands: Amsterdam')\n"
     ]
    }
   ],
   "source": [
    "places_visited = ('Spain: Barcelona, Seville', 'Greece: Athens', 'USA: New York', 'Germany: Berlin', 'Uganda', \n",
    "                  'Netherlands: Amsterdam')\n",
    "\n",
    "print(places_visited[:])"
   ]
  },
  {
   "cell_type": "markdown",
   "metadata": {},
   "source": [
    "## Places to go with Eleanor"
   ]
  },
  {
   "cell_type": "code",
   "execution_count": 15,
   "metadata": {},
   "outputs": [
    {
     "name": "stdout",
     "output_type": "stream",
     "text": [
      "Rome - Italy\n"
     ]
    }
   ],
   "source": [
    "Destination = ('Lisbon - Portugal', 'Chile', 'Reykjavik - Iceland', 'Napoli - Italy', 'Rome - Italy', \n",
    "               'Edinburgh - Scotland', 'Barcelona - Spain', 'New York City')\n",
    "print(random.choice(Destination))\n"
   ]
  },
  {
   "cell_type": "code",
   "execution_count": 16,
   "metadata": {},
   "outputs": [
    {
     "name": "stdout",
     "output_type": "stream",
     "text": [
      "Leeds\n",
      "Sheffield\n"
     ]
    }
   ],
   "source": [
    "Places_Visited = ('Leeds', 'Sheffield')\n",
    "print(\"\\n\".join(str(x) for x in Places_Visited)) # Prints elements in the list vertically."
   ]
  },
  {
   "cell_type": "code",
   "execution_count": null,
   "metadata": {},
   "outputs": [],
   "source": []
  }
 ],
 "metadata": {
  "kernelspec": {
   "display_name": "Python 3",
   "language": "python",
   "name": "python3"
  },
  "language_info": {
   "codemirror_mode": {
    "name": "ipython",
    "version": 3
   },
   "file_extension": ".py",
   "mimetype": "text/x-python",
   "name": "python",
   "nbconvert_exporter": "python",
   "pygments_lexer": "ipython3",
   "version": "3.7.1"
  }
 },
 "nbformat": 4,
 "nbformat_minor": 2
}
