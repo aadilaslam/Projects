{
 "cells": [
  {
   "cell_type": "markdown",
   "metadata": {},
   "source": [
    "# CW7 - Statistical Thermodynamics\n",
    "## Problem Set 1\n",
    "### Aadil Aslam"
   ]
  },
  {
   "cell_type": "code",
   "execution_count": 1,
   "metadata": {},
   "outputs": [],
   "source": [
    "%matplotlib inline \n",
    "import numpy as np\n",
    "import matplotlib.pyplot as plt\n",
    "import scipy.integrate as integrate\n",
    "import math\n",
    "import pandas as pd\n",
    "from scipy import random\n",
    "import math, random\n",
    "from scipy.integrate import quad\n",
    "import sympy"
   ]
  },
  {
   "cell_type": "markdown",
   "metadata": {},
   "source": [
    "# Question 1\n",
    "## plot U(r) and f(r) \n",
    "### Helium"
   ]
  },
  {
   "cell_type": "code",
   "execution_count": 2,
   "metadata": {},
   "outputs": [
    {
     "data": {
      "image/png": "[encoded data removed]",
      "text/plain": [
       "<Figure size 432x288 with 1 Axes>"
      ]
     },
     "metadata": {
      "needs_background": "light"
     },
     "output_type": "display_data"
    }
   ],
   "source": [
    "He_sigma = 2.56E-10 # Sigma value in Metres\n",
    "He_epsilon = 1.41E-22 # Epsilon value in Joules\n",
    "r = np.linspace(2e-10, 20e-10, 10000) # Plots 10,000 values between 2 and 20 Angstroms\n",
    "\n",
    "def He_U(r):\n",
    "    return 4*He_epsilon*((He_sigma/r)**(12)-(He_sigma/r)**(6))\n",
    "\n",
    "plt.plot(r, He_U(r), 'r')\n",
    "plt.ylim(-0.2e-21,1e-21) # Sets y limits\n",
    "plt.title('U(r) for Helium')\n",
    "plt.xlabel('Distance in Metres')\n",
    "plt.ylabel('Potential Energy')\n",
    "plt.show()"
   ]
  },
  {
   "cell_type": "code",
   "execution_count": 3,
   "metadata": {},
   "outputs": [
    {
     "data": {
      "image/png": "[encoded data removed]",
      "text/plain": [
       "<Figure size 432x288 with 1 Axes>"
      ]
     },
     "metadata": {
      "needs_background": "light"
     },
     "output_type": "display_data"
    },
    {
     "name": "stdout",
     "output_type": "stream",
     "text": [
      "Helium max potential energy: 3.602767175832326e-20 Joules\n",
      "Helium min potential energy: -3.026494706310864e-21 Joules\n"
     ]
    }
   ],
   "source": [
    "k = 1.38E-23 # Boltzmann constant\n",
    "T = 293.15 # Temperature\n",
    "r = np.linspace(0.0001e-10, 20e-10, 10000) # Plots 10,000 values between 0.0001 and 20 Angstroms\n",
    "\n",
    "def He_f(r):\n",
    "    return (1-(np.exp((-He_U(r)/(k*T)))))*(r**2)\n",
    "            \n",
    "plt.plot(r, He_f(r),'r')\n",
    "plt.title('f(r) for Helium')\n",
    "plt.xlabel('Distance (m)')\n",
    "plt.ylabel('Potential Energy (J)')\n",
    "plt.show()\n",
    "\n",
    "# Finding the values for the maximum and minimum potential energies.\n",
    "\n",
    "def poten(r):\n",
    "    return (1-(np.exp((-He_U(r)/(k*T)))))*(r**2)\n",
    "\n",
    "r_min = 0.0001e-10\n",
    "r_max = 20e-10\n",
    "\n",
    "numSteps = 100000\n",
    "y_min = poten(r_min)\n",
    "y_max = y_min\n",
    "for i in range(numSteps):\n",
    "    r = r_min + (r_max - r_min) * float(i) / numSteps\n",
    "    y = poten(r)\n",
    "    if y < y_min: y_min = y\n",
    "    if y > y_max: y_max = y\n",
    "        \n",
    "print('Helium max potential energy:',y_max,'Joules')\n",
    "print('Helium min potential energy:',y_min,'Joules')"
   ]
  },
  {
   "cell_type": "markdown",
   "metadata": {},
   "source": [
    "### Monte Carlo for Helium"
   ]
  },
  {
   "cell_type": "code",
   "execution_count": 4,
   "metadata": {},
   "outputs": [
    {
     "name": "stdout",
     "output_type": "stream",
     "text": [
      "Area for the first part = 13.135947262513557 cm³ mol⁻¹\n",
      "Area for the second part = 1.973946426192428 cm³ mol⁻¹\n",
      "Monte Carlo Area = 11.162000836321129 cm³ mol⁻¹\n",
      "Literature value: 11.16 cm³ mol⁻¹\n"
     ]
    }
   ],
   "source": [
    "# Area between 0 and 2.56 angstroms\n",
    "\n",
    "def b_He(r):\n",
    "    return (1-(np.exp((-He_U(r)/(k*T)))))*(r**2)\n",
    "\n",
    "rmin = 0.0\n",
    "rmax = He_sigma\n",
    "\n",
    "ymin = 0.0\n",
    "ymax = y_max\n",
    "\n",
    "rectArea = (rmax - rmin) * (ymax - ymin)\n",
    "numPoints = 1000000 # Plots 1,000,000 points in the range \n",
    "ctr = 0\n",
    "for j in range(numPoints):\n",
    "    r = rmin + (rmax - rmin) * random.random()\n",
    "    y = ymin + (ymax - ymin) * random.random()\n",
    "    if b_He(r) > 0 and y > 0 and y <= b_He(r):\n",
    "        ctr += 1\n",
    "    if b_He(r) < 0 and y < 0 and y >= b_He(r):\n",
    "        ctr += 1\n",
    "\n",
    "# This converts to units of cm^3 mol^-1 from units of m^-3 and finishes the integral by multiplying by 2 Pi\n",
    "fnArea = ((rectArea * float(ctr)) / numPoints) * 2 * np.pi * 6.022e23 * 1e6\n",
    "print('Area for the first part =', fnArea, 'cm\\u00b3 mol\\u207b\\u00b9')\n",
    "\n",
    "# Area between 2.56 and 20 Angstroms\n",
    "\n",
    "def b(r):\n",
    "    return abs((1-(np.exp((-He_U(r)/(k*T)))))*(r**2))\n",
    "\n",
    "rmin1 = He_sigma\n",
    "rmax1 = 20e-10\n",
    "\n",
    "ymin1 = 0.0\n",
    "ymax1 = -y_min # Absolute value of the minimum potential energy\n",
    "\n",
    "rectArea1 = (rmax1 - rmin1) * (ymax1 - ymin1)\n",
    "numPoints = 1000000 # Plots 1,000,000 points in the range\n",
    "ctr = 0\n",
    "for i in range(numPoints):\n",
    "    r = rmin1 + (rmax1 - rmin1) * random.random()\n",
    "    y = ymin1 + (ymax1 - ymin1) * random.random()\n",
    "    if b(r) > 0 and y > 0 and y <= b(r):\n",
    "        ctr += 1\n",
    "    if b(r) < 0 and y < 0 and y >= b(r):\n",
    "        ctr += 1\n",
    "        \n",
    "# This converts to units of cm^3 mol^-1 from units of m^-3 and finishes the integral by multiplying by 2 Pi\n",
    "fnArea1 = ((rectArea1 * float(ctr)) / numPoints) * 2 * np.pi * 6.022e23 * 1e6 \n",
    "print('Area for the second part =', fnArea1, 'cm\\u00b3 mol\\u207b\\u00b9')\n",
    "\n",
    "He_MC = fnArea-fnArea1\n",
    "print('Monte Carlo Area =',He_MC, 'cm\\u00b3 mol\\u207b\\u00b9') # Prints Monte Carlo area.\n",
    "print('Literature value: 11.16 cm\\u00b3 mol\\u207b\\u00b9')"
   ]
  },
  {
   "cell_type": "markdown",
   "metadata": {},
   "source": [
    "### Numerical Integration for Helium"
   ]
  },
  {
   "cell_type": "code",
   "execution_count": 5,
   "metadata": {},
   "outputs": [
    {
     "data": {
      "image/png": "[encoded data removed]",
      "text/plain": [
       "<Figure size 432x288 with 1 Axes>"
      ]
     },
     "metadata": {
      "needs_background": "light"
     },
     "output_type": "display_data"
    },
    {
     "name": "stdout",
     "output_type": "stream",
     "text": [
      "First area: 13.14723518733594 cm³ mol⁻¹\n",
      "Second area: 1.9763604927472784 cm³ mol⁻¹ \n",
      "Actual area: 11.170874694588662 cm³ mol⁻¹\n",
      "Literature value: 11.16 cm³ mol⁻¹\n"
     ]
    }
   ],
   "source": [
    "r = np.linspace(.0001e-10, 20e-10,num=10000)\n",
    "He_pos = abs(He_f(r))\n",
    "\n",
    "plt.plot(r, He_pos, 'r') # Plots absolute value of the He_f(r) curve\n",
    "plt.axhline(y = 0, color = 'b', linestyle = '--')\n",
    "plt.axvline(x = 2.56e-10, color = 'b', linestyle = '--') # The sigma value where the potential is 0\n",
    "\n",
    "plt.show()\n",
    "\n",
    "def integrand(r):\n",
    "    return abs(He_f(r))\n",
    "\n",
    "ans, err = quad(integrand, 0, 2.56e-10) # Finds the area between 0 and 2.56 angstroms\n",
    "# This converts to units of cm^3 mol^-1 from units of m^-3 and finishes the integral by multiplying by 2 Pi\n",
    "b2_He1 = ans * (6.02214E23) * (1e6) * (2 * np.pi) \n",
    "print('First area:',b2_He1, 'cm\\u00b3 mol\\u207b\\u00b9')\n",
    "\n",
    "ans, err = quad(integrand, 2.56E-10, 20e-10) # Finds the area between 2.56 and 20 angstroms\n",
    "# This converts to units of cm^3 mol^-1 from units of m^-3 and finishes the integral by multiplying by 2 Pi\n",
    "b2_He2 = ans * (6.02214E23) * (1e6) * (2 * np.pi) \n",
    "print('Second area:',b2_He2, 'cm\\u00b3 mol\\u207b\\u00b9 ')\n",
    "\n",
    "print('Actual area:',b2_He1-b2_He2, 'cm\\u00b3 mol\\u207b\\u00b9') # The value that is supposed to be below the curve contributes a 'negative' area and so this has to be subtracted.\n",
    "print('Literature value: 11.16 cm\\u00b3 mol\\u207b\\u00b9')\n"
   ]
  },
  {
   "cell_type": "markdown",
   "metadata": {},
   "source": [
    "### Nitrogen"
   ]
  },
  {
   "cell_type": "code",
   "execution_count": 6,
   "metadata": {},
   "outputs": [
    {
     "data": {
      "image/png": "[encoded data removed]",
      "text/plain": [
       "<Figure size 432x288 with 1 Axes>"
      ]
     },
     "metadata": {
      "needs_background": "light"
     },
     "output_type": "display_data"
    }
   ],
   "source": [
    "N2_sigma = 3.75e-10 # Sigma value in Metres\n",
    "N2_epsilon = 1.32E-21 # Epsilon value in Joules\n",
    "r = np.linspace(3e-10, 20e-10, 10000) # Plots 10,000 values between 3 and 20 \n",
    "\n",
    "def N2_U(r):\n",
    "    return 4*N2_epsilon*((N2_sigma/r)**(12)-(N2_sigma/r)**(6))\n",
    "\n",
    "plt.plot(r, N2_U(r), 'purple')\n",
    "plt.ylim(-0.2e-20,1e-20)\n",
    "plt.title('U(r) for Nitrogen')\n",
    "plt.xlabel('Distance in Metres')\n",
    "plt.ylabel('Potential Energy')\n",
    "plt.show()"
   ]
  },
  {
   "cell_type": "code",
   "execution_count": 7,
   "metadata": {},
   "outputs": [
    {
     "data": {
      "image/png": "[encoded data removed]",
      "text/plain": [
       "<Figure size 432x288 with 1 Axes>"
      ]
     },
     "metadata": {
      "needs_background": "light"
     },
     "output_type": "display_data"
    },
    {
     "name": "stdout",
     "output_type": "stream",
     "text": [
      "Nitrogen max potential energy: 1.0467928159148345e-19 Joules\n",
      "Nitrogen min potential energy: -7.028693767748459e-20 Joules\n"
     ]
    }
   ],
   "source": [
    "k = 1.38E-23 #Boltzmann constant\n",
    "T = 293.15 # Temperature\n",
    "r = np.linspace(0.0001e-10, 20e-10, 10000) # Plots 10,000 values between 0.0001 and 20 Angstroms\n",
    "n= 100000\n",
    "\n",
    "def N2_f(r):\n",
    "    return (1-(np.exp((-N2_U(r)/(k*T)))))*(r**2)\n",
    "            \n",
    "plt.plot(r, N2_f(r), 'purple')\n",
    "plt.title('f(r) for Nitrogen')\n",
    "plt.xlabel('Distance in Metres')\n",
    "plt.ylabel('Potential Energy')\n",
    "\n",
    "plt.show()\n",
    "\n",
    "# Finding the values for the maximum and minimum potential energies.\n",
    "\n",
    "def poten(r):\n",
    "    return (1-(np.exp((-N2_U(r)/(k*T)))))*(r**2)\n",
    "\n",
    "r_min = 0.0001e-10\n",
    "r_max = 20e-10\n",
    "\n",
    "numSteps = 100000\n",
    "y_min = poten(r_min)\n",
    "y_max = y_min\n",
    "for i in range(numSteps):\n",
    "    r = r_min + (r_max - r_min) * float(i) / numSteps\n",
    "    y = poten(r)\n",
    "    if y < y_min: y_min = y\n",
    "    if y > y_max: y_max = y\n",
    "        \n",
    "print('Nitrogen max potential energy:',y_max,'Joules')\n",
    "print('Nitrogen min potential energy:',y_min,'Joules')"
   ]
  },
  {
   "cell_type": "markdown",
   "metadata": {},
   "source": [
    "### Monte Carlo for Nitrogen"
   ]
  },
  {
   "cell_type": "code",
   "execution_count": 8,
   "metadata": {},
   "outputs": [
    {
     "name": "stdout",
     "output_type": "stream",
     "text": [
      "Area for the first part = 56.25241626363192 cm³ mol⁻¹\n",
      "Area for the second part = 62.088140450887934 cm³ mol⁻¹\n",
      "Monte Carlo Area = -5.835724187256012 cm³ mol⁻¹\n",
      "Literature value: -6.14 cm³ mol⁻¹\n"
     ]
    }
   ],
   "source": [
    "# Area between 0 and 3.75 angstroms\n",
    "\n",
    "def b_N2(r):\n",
    "    return (1-(np.exp((-N2_U(r)/(k*T)))))*(r**2)\n",
    "\n",
    "rmin = 0.0\n",
    "rmax = N2_sigma\n",
    "\n",
    "ymin = 0.0\n",
    "ymax = y_max\n",
    "\n",
    "rectArea = (rmax - rmin) * (ymax - ymin)\n",
    "numPoints = 1000000\n",
    "ctr = 0\n",
    "for j in range(numPoints):\n",
    "    r = rmin + (rmax - rmin) * random.random()\n",
    "    y = ymin + (ymax - ymin) * random.random()\n",
    "    if b_N2(r) > 0 and y > 0 and y <= b_N2(r):\n",
    "        ctr += 1\n",
    "    if b_N2(r) < 0 and y < 0 and y >= b_N2(r):\n",
    "        ctr += 1\n",
    "\n",
    "# This converts to units of cm^3 mol^-1 from units of m^-3 and finishes the integral by multiplying by 2 Pi\n",
    "fnArea = ((rectArea * float(ctr)) / numPoints) * 2 * np.pi * 6.022e23 * 1e6\n",
    "print('Area for the first part =', fnArea, 'cm\\u00b3 mol\\u207b\\u00b9')\n",
    "\n",
    "# Area between 3.75 and 20 Angstroms\n",
    "\n",
    "def b(r):\n",
    "    return abs((1-(np.exp((-N2_U(r)/(k*T)))))*(r**2))\n",
    "\n",
    "rmin1 = N2_sigma\n",
    "rmax1 = 20e-10\n",
    "\n",
    "ymin1 = 0.0\n",
    "ymax1 = -y_min # Absolute value of the minimum potential energy\n",
    "\n",
    "rectArea1 = (rmax1 - rmin1) * (ymax1 - ymin1)\n",
    "numPoints = 1000000\n",
    "ctr = 0\n",
    "for i in range(numPoints):\n",
    "    r = rmin1 + (rmax1 - rmin1) * random.random()\n",
    "    y = ymin1 + (ymax1 - ymin1) * random.random()\n",
    "    if b(r) > 0 and y > 0 and y <= b(r):\n",
    "        ctr += 1\n",
    "    if b(r) < 0 and y < 0 and y >= b(r):\n",
    "        ctr += 1\n",
    "\n",
    "# This converts to units of cm^3 mol^-1 from units of m^-3 and finishes the integral by multiplying by 2 Pi\n",
    "fnArea1 = ((rectArea1 * float(ctr)) / numPoints) * 2 * np.pi * 6.022e23 * 1e6\n",
    "print('Area for the second part =', fnArea1, 'cm\\u00b3 mol\\u207b\\u00b9')\n",
    "\n",
    "N2_MC = fnArea-fnArea1\n",
    "print('Monte Carlo Area =',N2_MC, 'cm\\u00b3 mol\\u207b\\u00b9') # Prints Monte Carlo area.\n",
    "print('Literature value: -6.14 cm\\u00b3 mol\\u207b\\u00b9')"
   ]
  },
  {
   "cell_type": "markdown",
   "metadata": {},
   "source": [
    "### Numerical Integration for Nitrogen"
   ]
  },
  {
   "cell_type": "code",
   "execution_count": 9,
   "metadata": {},
   "outputs": [
    {
     "data": {
      "image/png": "[encoded data removed]",
      "text/plain": [
       "<Figure size 432x288 with 1 Axes>"
      ]
     },
     "metadata": {
      "needs_background": "light"
     },
     "output_type": "display_data"
    },
    {
     "name": "stdout",
     "output_type": "stream",
     "text": [
      "First area: 56.234894003944504 cm³/mol\n",
      "Second area: 61.98258250381506 cm³/mol\n",
      "Actual area: -5.747688499870556 cm³/mol\n",
      "Literature value: -6.14 cm³/mol\n"
     ]
    }
   ],
   "source": [
    "# Integration\n",
    "\n",
    "r = np.linspace(.0001e-10, 20e-10, 10000)\n",
    "N2_pos = abs(N2_f(r))\n",
    "\n",
    "plt.plot(r, N2_pos, 'purple') # Plots absolute value of the N2_f(r) curve\n",
    "plt.axhline(y = 0, color = 'c', linestyle = '--')\n",
    "plt.axvline(x = 3.75e-10, color = 'c', linestyle = '--') # The sigma value where the potential is 0\n",
    "\n",
    "plt.show()\n",
    "\n",
    "def integrand(r):\n",
    "    return abs(N2_f(r))\n",
    "\n",
    "ans, err = quad(integrand, 0, 3.75e-10) # Finds the area between 0 and 3.75 angstroms\n",
    "# This converts to units of cm^3 mol^-1 from units of m^-3 and finishes the integral by multiplying by 2 Pi\n",
    "b2_N2_1 = ans * (6.02214E23) * (1e6) * (2 * np.pi)\n",
    "print('First area:',b2_N2_1, 'cm\\u00b3/mol')\n",
    "\n",
    "ans, err = quad(integrand, 3.75e-10, 20e-10) # Finds the area between 3.75 and 20 angstroms\n",
    "# This converts to units of cm^3 mol^-1 from units of m^-3 and finishes the integral by multiplying by 2 Pi\n",
    "b2_N2_2 = ans * (6.02214E23) * (1e6) * (2 * np.pi)\n",
    "print('Second area:',b2_N2_2, 'cm\\u00b3/mol')\n",
    "\n",
    "print('Actual area:',b2_N2_1-b2_N2_2, 'cm\\u00b3/mol')\n",
    "print('Literature value: -6.14 cm\\u00b3/mol')"
   ]
  },
  {
   "cell_type": "markdown",
   "metadata": {},
   "source": [
    "### Argon"
   ]
  },
  {
   "cell_type": "code",
   "execution_count": 10,
   "metadata": {},
   "outputs": [
    {
     "data": {
      "image/png": "[encoded data removed]",
      "text/plain": [
       "<Figure size 432x288 with 1 Axes>"
      ]
     },
     "metadata": {
      "needs_background": "light"
     },
     "output_type": "display_data"
    }
   ],
   "source": [
    "Ar_sigma = 3.40E-10 # Sigma value in Metres\n",
    "Ar_epsilon = 1.65E-21 # Epsilon value in Joules\n",
    "r = np.linspace(3e-10, 20e-10,num=10000) # Plots 10,000 values between 3 and 20 Angstroms\n",
    "\n",
    "def Ar_U(r):\n",
    "    return 4*Ar_epsilon*((Ar_sigma/r)**(12)-(Ar_sigma/r)**(6))\n",
    "\n",
    "plt.plot(r, Ar_U(r), color = 'g')\n",
    "plt.ylim(-0.2e-20,1e-21)\n",
    "plt.title('U(r) for Argon')\n",
    "plt.xlabel('Distance in Metres')\n",
    "plt.ylabel('Potential Energy')\n",
    "plt.show()\n"
   ]
  },
  {
   "cell_type": "code",
   "execution_count": 11,
   "metadata": {},
   "outputs": [
    {
     "data": {
      "image/png": "[encoded data removed]",
      "text/plain": [
       "<Figure size 432x288 with 1 Axes>"
      ]
     },
     "metadata": {
      "needs_background": "light"
     },
     "output_type": "display_data"
    },
    {
     "name": "stdout",
     "output_type": "stream",
     "text": [
      "Argon max potential energy: 8.828709397090533e-20 Joules\n",
      "Argon min potential energy: -7.532641157841751e-20 Joules\n"
     ]
    }
   ],
   "source": [
    "k = 1.38E-23 #Boltzmann constant\n",
    "T = 293.15 # Temperature\n",
    "r = np.linspace(.0001e-10, 20e-10,num=10000) # Plots 10,000 values between 1 and 20 Angstroms\n",
    "\n",
    "def Ar_f(r):\n",
    "    return (1-(np.exp((-Ar_U(r)/(k*T)))))*(r**2)\n",
    "            \n",
    "plt.plot(r, Ar_f(r), color = 'g')\n",
    "plt.title('f(r) for Argon')\n",
    "plt.xlabel('Distance in Metres')\n",
    "plt.ylabel('Potential Energy')\n",
    "plt.show()\n",
    "\n",
    "# Finding the values for the maximum and minimum potential energies.\n",
    "\n",
    "def poten(r):\n",
    "    return (1-(np.exp((-Ar_U(r)/(k*T)))))*(r**2)\n",
    "\n",
    "r_min = 0.0001e-10\n",
    "r_max = 20e-10\n",
    "\n",
    "numSteps = 100000\n",
    "y_min = poten(r_min)\n",
    "y_max = y_min\n",
    "for i in range(numSteps):\n",
    "    r = r_min + (r_max - r_min) * float(i) / numSteps\n",
    "    y = poten(r)\n",
    "    if y < y_min: y_min = y\n",
    "    if y > y_max: y_max = y\n",
    "        \n",
    "print('Argon max potential energy:',y_max,'Joules')\n",
    "print('Argon min potential energy:',y_min,'Joules')"
   ]
  },
  {
   "cell_type": "markdown",
   "metadata": {},
   "source": [
    "### Monte Carlo for Argon"
   ]
  },
  {
   "cell_type": "code",
   "execution_count": 12,
   "metadata": {},
   "outputs": [
    {
     "name": "stdout",
     "output_type": "stream",
     "text": [
      "Area for the first part = 42.91569845588117 cm³/mol\n",
      "Area for the second part = 58.54449957959964 cm³/mol\n",
      "Monte Carlo Area = -15.628801123718468 cm³/mol\n",
      "Literature value: -16.90 cm³/mol\n"
     ]
    }
   ],
   "source": [
    "# Area between 0 and 3.40 angstroms\n",
    "\n",
    "def b_Ar(r):\n",
    "    return (1-(np.exp((-Ar_U(r)/(k*T)))))*(r**2)\n",
    "\n",
    "rmin = 0.0\n",
    "rmax = Ar_sigma\n",
    "\n",
    "ymin = 0.0\n",
    "ymax = y_max \n",
    "\n",
    "rectArea = (rmax - rmin) * (ymax - ymin)\n",
    "numPoints = 100000\n",
    "ctr = 0\n",
    "for j in range(numPoints):\n",
    "    r = rmin + (rmax - rmin) * random.random()\n",
    "    y = ymin + (ymax - ymin) * random.random()\n",
    "    if b_Ar(r) > 0 and y > 0 and y <= b_Ar(r):\n",
    "        ctr += 1\n",
    "    if b_Ar(r) < 0 and y < 0 and y >= b_Ar(r):\n",
    "        ctr += 1\n",
    "\n",
    "# This converts to units of cm^3 mol^-1 from units of m^-3 and finishes the integral by multiplying by 2 Pi\n",
    "fnArea = ((rectArea * float(ctr)) / numPoints) * 2 * np.pi * 6.022e23 * 1e6\n",
    "print('Area for the first part =', fnArea, 'cm\\u00b3/mol')\n",
    "\n",
    "# Area between 3.40 and 20 Angstroms\n",
    "\n",
    "def b(r):\n",
    "    return abs((1-(np.exp((-Ar_U(r)/(k*T)))))*(r**2))\n",
    "\n",
    "rmin1 = Ar_sigma\n",
    "rmax1 = 20e-10\n",
    "\n",
    "ymin1 = 0.0\n",
    "ymax1 = -y_min # Absolute value of the minimum potential energy\n",
    "\n",
    "rectArea1 = (rmax1 - rmin1) * (ymax1 - ymin1)\n",
    "numPoints = 100000\n",
    "ctr = 0\n",
    "for i in range(numPoints):\n",
    "    r = rmin1 + (rmax1 - rmin1) * random.random()\n",
    "    y = ymin1 + (ymax1 - ymin1) * random.random()\n",
    "    if b(r) > 0 and y > 0 and y <= b(r):\n",
    "        ctr += 1\n",
    "    if b(r) < 0 and y < 0 and y >= b(r):\n",
    "        ctr += 1\n",
    "\n",
    "# This converts to units of cm^3 mol^-1 from units of m^-3 and finishes the integral by multiplying by 2 Pi\n",
    "fnArea1 = ((rectArea1 * float(ctr)) / numPoints) * 2 * np.pi * 6.022e23 * 1e6\n",
    "print('Area for the second part =', fnArea1, 'cm\\u00b3/mol')\n",
    "Ar_MC = fnArea-fnArea1\n",
    "print('Monte Carlo Area =',Ar_MC, 'cm\\u00b3/mol') # Prints Monte Carlo area.\n",
    "print('Literature value: -16.90 cm\\u00b3/mol')"
   ]
  },
  {
   "cell_type": "markdown",
   "metadata": {},
   "source": [
    "### Numerical Integration for Argon"
   ]
  },
  {
   "cell_type": "code",
   "execution_count": 13,
   "metadata": {},
   "outputs": [
    {
     "data": {
      "image/png": "[encoded data removed]",
      "text/plain": [
       "<Figure size 432x288 with 1 Axes>"
      ]
     },
     "metadata": {
      "needs_background": "light"
     },
     "output_type": "display_data"
    },
    {
     "name": "stdout",
     "output_type": "stream",
     "text": [
      "First area: 42.800713126614674 cm³/mol\n",
      "Second area: 59.08800381871019\n",
      "Actual area: -16.287290692095517 cm³/mol\n",
      "Literature value: -16.90 cm³/mol\n"
     ]
    }
   ],
   "source": [
    "# Integration\n",
    "\n",
    "r = np.linspace(.0001e-10, 20e-10, 10000)\n",
    "Ar_pos = abs(Ar_f(r))\n",
    "\n",
    "plt.plot(r, Ar_pos, 'g') # Plots absolute value of the Ar_f(r) curve\n",
    "plt.axhline(y = 0, color = 'k', linestyle = '--')\n",
    "plt.axvline(x = 3.4e-10, color = 'k', linestyle = '--') # The sigma value where the potential is 0\n",
    "\n",
    "plt.show()\n",
    "\n",
    "def integrand(r):\n",
    "    return abs(Ar_f(r))\n",
    "\n",
    "ans, err = quad(integrand, 0, 3.4e-10) # Finds the area between 0 and 3.40 angstroms\n",
    "# This converts to units of cm^3 mol^-1 from units of m^-3 and finishes the integral by multiplying by 2 Pi\n",
    "b2_Ar1 = ans * (6.02214E23) * (1e6) * (2 * np.pi)\n",
    "print('First area:',b2_Ar1, 'cm\\u00b3/mol')\n",
    "\n",
    "ans, err = quad(integrand, 3.4E-10, 20e-10) # Finds the area between 3.40 and 20 angstroms\n",
    "# This converts to units of cm^3 mol^-1 from units of m^-3 and finishes the integral by multiplying by 2 Pi\n",
    "b2_Ar2 = ans * (6.02214E23) * (1e6) * (2 * np.pi)\n",
    "print('Second area:',b2_Ar2)\n",
    "\n",
    "print('Actual area:',b2_Ar1-b2_Ar2, 'cm\\u00b3/mol')\n",
    "print('Literature value: -16.90 cm\\u00b3/mol')"
   ]
  },
  {
   "cell_type": "markdown",
   "metadata": {},
   "source": [
    "### Xenon"
   ]
  },
  {
   "cell_type": "code",
   "execution_count": 14,
   "metadata": {},
   "outputs": [
    {
     "data": {
      "image/png": "[encoded data removed]",
      "text/plain": [
       "<Figure size 432x288 with 1 Axes>"
      ]
     },
     "metadata": {
      "needs_background": "light"
     },
     "output_type": "display_data"
    }
   ],
   "source": [
    "Xe_sigma = 4.07E-10 # Sigma value in Metres\n",
    "Xe_epsilon = 3.11E-21 # Epsilon value in Joules\n",
    "r = np.linspace(3.5e-10, 20e-10, 10000) # Plots 10,000 values between 3.5 and 20 Angstroms\n",
    "\n",
    "def Xe_U(r):\n",
    "    return 4*Xe_epsilon*((Xe_sigma/r)**(12)-(Xe_sigma/r)**(6))\n",
    "\n",
    "plt.plot(r, Xe_U(r), 'lightsalmon')\n",
    "plt.ylim(-3.25e-21,1e-21)\n",
    "plt.title('U(r) for Xenon')\n",
    "plt.xlabel('Distance in Metres')\n",
    "plt.ylabel('Potential Energy')\n",
    "plt.show()       "
   ]
  },
  {
   "cell_type": "code",
   "execution_count": 15,
   "metadata": {},
   "outputs": [
    {
     "data": {
      "image/png": "[encoded data removed]",
      "text/plain": [
       "<Figure size 432x288 with 1 Axes>"
      ]
     },
     "metadata": {
      "needs_background": "light"
     },
     "output_type": "display_data"
    },
    {
     "name": "stdout",
     "output_type": "stream",
     "text": [
      "Xenon max potential energy: 1.3522061312788092e-19 Joules\n",
      "Xenon min potential energy: -2.468796241795539e-19 Joules\n"
     ]
    }
   ],
   "source": [
    "k = 1.38E-23 #Boltzmann constant\n",
    "T = 293.15 # Temperature\n",
    "r = np.linspace(0.0001e-10, 20e-10, 10000) # Plots 10,000 values between 1 and 20 Angstroms\n",
    "n= 100000\n",
    "def Xe_f(r):\n",
    "    return (1-(np.exp((-Xe_U(r)/(k*T)))))*(r**2)\n",
    "            \n",
    "plt.plot(r, Xe_f(r), color = 'lightsalmon')\n",
    "plt.title('f(r) for Xenon')\n",
    "plt.xlabel('Distance in Metres')\n",
    "plt.ylabel('Potential Energy')\n",
    "plt.show()\n",
    "\n",
    "# Finding the values for the maximum and minimum potential energies.\n",
    "\n",
    "def poten(r):\n",
    "    return (1-(np.exp((-Xe_U(r)/(k*T)))))*(r**2)\n",
    "\n",
    "r_min = 0.0001e-10\n",
    "r_max = 20e-10\n",
    "\n",
    "numSteps = 100000\n",
    "y_min = poten(r_min)\n",
    "y_max = y_min\n",
    "for i in range(numSteps):\n",
    "    r = r_min + (r_max - r_min) * float(i) / numSteps\n",
    "    y = poten(r)\n",
    "    if y < y_min: y_min = y\n",
    "    if y > y_max: y_max = y\n",
    "        \n",
    "print('Xenon max potential energy:',y_max,'Joules')\n",
    "print('Xenon min potential energy:',y_min,'Joules')"
   ]
  },
  {
   "cell_type": "markdown",
   "metadata": {},
   "source": [
    "### Monto Carlo for Xenon"
   ]
  },
  {
   "cell_type": "code",
   "execution_count": 16,
   "metadata": {},
   "outputs": [
    {
     "name": "stdout",
     "output_type": "stream",
     "text": [
      "Area for the first part = 77.31132358969697 cm³/mol\n",
      "Area for the second part = 210.77088894053574 cm³/mol\n",
      "Monte Carlo Area = -133.45956535083877 cm³/mol\n",
      "Literature Value: -131.41 cm³/mol\n"
     ]
    }
   ],
   "source": [
    "# Area between 0 and 4.07 angstroms\n",
    "\n",
    "def b_Xe(r):\n",
    "    return (1-(np.exp((-Xe_U(r)/(k*T)))))*(r**2)\n",
    "\n",
    "rmin = 0.0\n",
    "rmax = Xe_sigma\n",
    "\n",
    "ymin = 0.0\n",
    "ymax = y_max\n",
    "\n",
    "rectArea = (rmax - rmin) * (ymax - ymin)\n",
    "numPoints = 1000000\n",
    "ctr = 0\n",
    "for j in range(numPoints):\n",
    "    r = rmin + (rmax - rmin) * random.random()\n",
    "    y = ymin + (ymax - ymin) * random.random()\n",
    "    if b_Xe(r) > 0 and y > 0 and y <= b_Xe(r):\n",
    "        ctr += 1\n",
    "    if b_Xe(r) < 0 and y < 0 and y >= b_Xe(r):\n",
    "        ctr += 1\n",
    "\n",
    "# This converts to units of cm^3 mol^-1 from units of m^-3 and finishes the integral by multiplying by 2 Pi\n",
    "fnArea = ((rectArea * float(ctr)) / numPoints) * 2 * np.pi * 6.022e23 * 1e6\n",
    "print('Area for the first part =', fnArea, 'cm\\u00b3/mol')\n",
    "\n",
    "# Area between 4.07 and 20 Angstroms\n",
    "\n",
    "def b(r):\n",
    "    return abs((1-(np.exp((-Xe_U(r)/(k*T)))))*(r**2))\n",
    "\n",
    "rmin1 = Xe_sigma\n",
    "rmax1 = 20e-10\n",
    "\n",
    "ymin1 = 0.0\n",
    "ymax1 = -y_min # Absolute value of the minimum potential energy\n",
    "\n",
    "rectArea1 = (rmax1 - rmin1) * (ymax1 - ymin1)\n",
    "numPoints = 1000000\n",
    "ctr = 0\n",
    "for i in range(numPoints):\n",
    "    r = rmin1 + (rmax1 - rmin1) * random.random()\n",
    "    y = ymin1 + (ymax1 - ymin1) * random.random()\n",
    "    if b(r) > 0 and y > 0 and y <= b(r):\n",
    "        ctr += 1\n",
    "    if b(r) < 0 and y < 0 and y >= b(r):\n",
    "        ctr += 1\n",
    "\n",
    "# This converts to units of cm^3 mol^-1 from units of m^-3 and finishes the integral by multiplying by 2 Pi\n",
    "fnArea1 = ((rectArea1 * float(ctr)) / numPoints) * 2 * np.pi * 6.022e23 * 1e6\n",
    "print('Area for the second part =', fnArea1, 'cm\\u00b3/mol')\n",
    "\n",
    "Xe_MC = fnArea-fnArea1\n",
    "print('Monte Carlo Area =',Xe_MC, 'cm\\u00b3/mol') # Prints Monte Carlo area.\n",
    "print('Literature Value: -131.41 cm\\u00b3/mol')"
   ]
  },
  {
   "cell_type": "markdown",
   "metadata": {},
   "source": [
    "### Numerical Integration for Xenon"
   ]
  },
  {
   "cell_type": "code",
   "execution_count": 17,
   "metadata": {},
   "outputs": [
    {
     "data": {
      "image/png": "[encoded data removed]",
      "text/plain": [
       "<Figure size 432x288 with 1 Axes>"
      ]
     },
     "metadata": {
      "needs_background": "light"
     },
     "output_type": "display_data"
    },
    {
     "name": "stdout",
     "output_type": "stream",
     "text": [
      "First area: 77.1483343164905 cm³/mol\n",
      "Second area: 209.49408133762498 cm³/mol\n",
      "Actual area: -132.34574702113446 cm³/mol\n",
      "Literature Value: -131.41 cm³ mol⁻¹\n"
     ]
    }
   ],
   "source": [
    "r = np.linspace(0.0001e-10, 20e-10, 10000)\n",
    "Xe_pos = abs(Xe_f(r))\n",
    "\n",
    "plt.plot(r, Xe_pos, 'lightsalmon') \n",
    "plt.axhline(y = 0, color = 'steelblue', linestyle = '--')\n",
    "plt.axvline(x = 4.07e-10, color = 'steelblue', linestyle = '--') # The sigma value where the potential is 0\n",
    "\n",
    "plt.show()\n",
    "\n",
    "def integrand(r):\n",
    "    return abs(Xe_f(r))\n",
    "\n",
    "ans, err = quad(integrand, 0, 4.07e-10)\n",
    "# This converts to units of cm^3 mol^-1 from units of m^-3 and finishes the integral by multiplying by 2 Pi\n",
    "b2_Xe1 = ans * (6.02214E23) * (1e6) * (2 * np.pi)\n",
    "print('First area:',b2_Xe1, 'cm\\u00b3/mol')\n",
    "\n",
    "ans, err = quad(integrand, 4.07E-10, 20e-10)\n",
    "# This converts to units of cm^3 mol^-1 from units of m^-3 and finishes the integral by multiplying by 2 Pi\n",
    "b2_Xe2 = ans * (6.02214E23) * (1e6) * (2 * np.pi)\n",
    "print('Second area:',b2_Xe2, 'cm\\u00b3/mol')\n",
    "\n",
    "print('Actual area:',b2_Xe1-b2_Xe2, 'cm\\u00b3/mol')\n",
    "print('Literature Value: -131.41 cm\\u00b3 mol\\u207b\\u00b9')"
   ]
  },
  {
   "cell_type": "markdown",
   "metadata": {},
   "source": [
    "### Accuracy of Results.<br>\n",
    "For the monte carlo, I found that as I increased the number of points guesses above and below the curve, the more it matched the value that the integration gave me.<br><br>\n",
    "For Helium, more often than not when I ran the code the monte carlo value was more accurate than the numerical integration. The integration gave close values for the b$_{2}$ but if the integration was not correct or near to the value of the the literature virial coefficient, then the monte carlo would be off as it is a way to integrate without actually doing the process of integration.<br><br> More accurate values of sigma and epsilon are required to get better results."
   ]
  },
  {
   "cell_type": "markdown",
   "metadata": {},
   "source": [
    "### (a) Ideal Molar Volume<br>(b) Virial Molar Volume"
   ]
  },
  {
   "cell_type": "code",
   "execution_count": 18,
   "metadata": {},
   "outputs": [
    {
     "name": "stdout",
     "output_type": "stream",
     "text": [
      "The ideal molar volume of He is 83.145 cm³ mol⁻¹\n"
     ]
    }
   ],
   "source": [
    "p = 600e5 # Pressure in Pa\n",
    "\n",
    "R = 8.3145e6 # Gas constant in m^3 Pa mol^-1 K^-1\n",
    "\n",
    "T = 600 # Temperature in K\n",
    "\n",
    "ideal_MV = ((R*T)/p)\n",
    "\n",
    "print(\"The ideal molar volume of He is\",ideal_MV,\"cm\\u00b3 mol\\u207b\\u00b9\")"
   ]
  },
  {
   "cell_type": "code",
   "execution_count": 19,
   "metadata": {},
   "outputs": [
    {
     "name": "stdout",
     "output_type": "stream",
     "text": [
      "The viral molar volume of He is 83.14501057 cm³ mol⁻¹\n"
     ]
    }
   ],
   "source": [
    "n = 1 # Moles in mol\n",
    "V = 1e6 # Volume in cm^3 \n",
    "b = 10.57 # Virial coefficient for He in cm^3 mol^-1 at 600 K\n",
    "\n",
    "virial_MV = ((R*T/p)) + b*(n/V)\n",
    "print('The viral molar volume of He is',virial_MV,'cm\\u00b3 mol\\u207b\\u00b9')"
   ]
  },
  {
   "cell_type": "markdown",
   "metadata": {},
   "source": [
    "### Advanced question\n",
    "\n",
    "Through the expansion of the canonical partition function, the virial equation can be found. Using statistical thermodynamics, the position of the particles is defined which allows us to solve the properties of the system and calculate the B values. "
   ]
  },
  {
   "cell_type": "markdown",
   "metadata": {},
   "source": [
    "For the literature values, I found them from this paper: Numerical evaluation of second and third virial coefficients of some inert gases via classical cluster expansion\n",
    "\n",
    "For the Monte Carlo and finding the values of the potential energies, this website helped me: http://code.activestate.com/recipes/577263-numerical-integration-using-monte-carlo-method/\n",
    "\n",
    "When doing the integration for the curves I couldn't figure out how to integrate when the Y values were below 0, so I made the whole graph positive by plotting the absolute graph and then integrating in 2 parts, before and after the sigma value, as the potential was 0 at that point. I used this website when I was looking for a method on how to integrate in python. https://docs.scipy.org/doc/scipy/reference/tutorial/integrate.html\n",
    "\n",
    "### Self Assessment \n",
    "\n",
    "For the task I would give myself 8.5/10, because I put quite a lot of work into this and I feel that my values for the monte carlo and the integration are very accurate. The last question could have been answered better<br><br>I helped a few people when working together.<br><br>I think that if someone were to look at my code and the graphs plotted they would be able to see what I was trying to do.<br>Something to be improved would be my method of integration, as it seems a bit inefficient to plot the absolute values and then fiddle around with the numbers at the end rather than integrating the entire curve. If I were to do this again I would put more time into trying to integrate when y < 0. As well as working on loops to make the code more efficent, rather than having to copy and paste for each element and change it slightly to cater for the difference."
   ]
  },
  {
   "cell_type": "code",
   "execution_count": null,
   "metadata": {},
   "outputs": [],
   "source": []
  },
  {
   "cell_type": "code",
   "execution_count": null,
   "metadata": {},
   "outputs": [],
   "source": []
  }
 ],
 "metadata": {
  "kernelspec": {
   "display_name": "Python 3",
   "language": "python",
   "name": "python3"
  },
  "language_info": {
   "codemirror_mode": {
    "name": "ipython",
    "version": 3
   },
   "file_extension": ".py",
   "mimetype": "text/x-python",
   "name": "python",
   "nbconvert_exporter": "python",
   "pygments_lexer": "ipython3",
   "version": "3.7.1"
  }
 },
 "nbformat": 4,
 "nbformat_minor": 2
}
