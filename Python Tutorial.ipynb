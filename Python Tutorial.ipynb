{
 "cells": [
  {
   "cell_type": "markdown",
   "metadata": {},
   "source": [
    "## Variables"
   ]
  },
  {
   "cell_type": "code",
   "execution_count": 1,
   "metadata": {},
   "outputs": [
    {
     "name": "stdout",
     "output_type": "stream",
     "text": [
      "Variable   Type    Data/Info\n",
      "----------------------------\n",
      "x          int     3\n"
     ]
    }
   ],
   "source": [
    "x = 3\n",
    "%whos \n",
    "#allows you to see all the variables in the system in alphabetical order"
   ]
  },
  {
   "cell_type": "code",
   "execution_count": 2,
   "metadata": {},
   "outputs": [
    {
     "name": "stdout",
     "output_type": "stream",
     "text": [
      "<class 'int'>\n"
     ]
    }
   ],
   "source": [
    "print(type(x))\n",
    "#allows you to see the type of one variable explicitly"
   ]
  },
  {
   "cell_type": "code",
   "execution_count": 3,
   "metadata": {},
   "outputs": [],
   "source": [
    "a,b,c,d,e = 3,5,6.3,7.4,-7\n",
    "i = 2+4j\n",
    "#commas seperate variables "
   ]
  },
  {
   "cell_type": "code",
   "execution_count": 4,
   "metadata": {},
   "outputs": [
    {
     "name": "stdout",
     "output_type": "stream",
     "text": [
      "Variable   Type       Data/Info\n",
      "-------------------------------\n",
      "a          int        3\n",
      "b          int        5\n",
      "c          float      6.3\n",
      "d          float      7.4\n",
      "e          int        -7\n",
      "i          complex    (2+4j)\n",
      "x          int        3\n"
     ]
    }
   ],
   "source": [
    "%whos\n",
    "#supports complex variables as well"
   ]
  },
  {
   "cell_type": "code",
   "execution_count": 5,
   "metadata": {},
   "outputs": [
    {
     "ename": "NameError",
     "evalue": "name 'a' is not defined",
     "output_type": "error",
     "traceback": [
      "\u001b[0;31m---------------------------------------------------------------------------\u001b[0m",
      "\u001b[0;31mNameError\u001b[0m                                 Traceback (most recent call last)",
      "\u001b[0;32m<ipython-input-5-30fd5f3d371e>\u001b[0m in \u001b[0;36m<module>\u001b[0;34m\u001b[0m\n\u001b[1;32m      1\u001b[0m \u001b[0;31m#To delete a variable\u001b[0m\u001b[0;34m\u001b[0m\u001b[0;34m\u001b[0m\u001b[0;34m\u001b[0m\u001b[0m\n\u001b[1;32m      2\u001b[0m \u001b[0;32mdel\u001b[0m \u001b[0ma\u001b[0m\u001b[0;34m\u001b[0m\u001b[0;34m\u001b[0m\u001b[0m\n\u001b[0;32m----> 3\u001b[0;31m \u001b[0mprint\u001b[0m\u001b[0;34m(\u001b[0m\u001b[0ma\u001b[0m\u001b[0;34m)\u001b[0m\u001b[0;34m\u001b[0m\u001b[0;34m\u001b[0m\u001b[0m\n\u001b[0m",
      "\u001b[0;31mNameError\u001b[0m: name 'a' is not defined"
     ]
    }
   ],
   "source": [
    "#To delete a variable \n",
    "del a\n",
    "print(a)"
   ]
  },
  {
   "cell_type": "markdown",
   "metadata": {},
   "source": [
    "## Variables and Operators"
   ]
  },
  {
   "cell_type": "code",
   "execution_count": 6,
   "metadata": {},
   "outputs": [
    {
     "data": {
      "text/plain": [
       "1"
      ]
     },
     "execution_count": 6,
     "metadata": {},
     "output_type": "execute_result"
    }
   ],
   "source": [
    "73%9 #Calculates the remainder "
   ]
  },
  {
   "cell_type": "code",
   "execution_count": 7,
   "metadata": {},
   "outputs": [
    {
     "data": {
      "text/plain": [
       "8"
      ]
     },
     "execution_count": 7,
     "metadata": {},
     "output_type": "execute_result"
    }
   ],
   "source": [
    "73//9 #Floor division"
   ]
  },
  {
   "cell_type": "code",
   "execution_count": 8,
   "metadata": {},
   "outputs": [],
   "source": [
    "#Good to have variable names that are descriptive to make code more readable.\n",
    "sumCandB = c+b"
   ]
  },
  {
   "cell_type": "code",
   "execution_count": 9,
   "metadata": {},
   "outputs": [
    {
     "data": {
      "text/plain": [
       "float"
      ]
     },
     "execution_count": 9,
     "metadata": {},
     "output_type": "execute_result"
    }
   ],
   "source": [
    "type(sumCandB)\n",
    "#Pressing tab allows you to autofill like in the command line."
   ]
  },
  {
   "cell_type": "code",
   "execution_count": 10,
   "metadata": {},
   "outputs": [],
   "source": [
    "y = ((x+b)**4)/4 \n",
    "#We can do basic things like multiply and divide variables"
   ]
  },
  {
   "cell_type": "code",
   "execution_count": 11,
   "metadata": {},
   "outputs": [
    {
     "name": "stdout",
     "output_type": "stream",
     "text": [
      "1024.0\n"
     ]
    }
   ],
   "source": [
    "print(y)"
   ]
  },
  {
   "cell_type": "code",
   "execution_count": 12,
   "metadata": {},
   "outputs": [
    {
     "name": "stdout",
     "output_type": "stream",
     "text": [
      "hello world\n"
     ]
    }
   ],
   "source": [
    "s1 = \"hello\"\n",
    "s2 = \" world\"\n",
    "s = s1+s2\n",
    "print(s)\n",
    "#We can combine strings as well as variables"
   ]
  },
  {
   "cell_type": "code",
   "execution_count": 13,
   "metadata": {},
   "outputs": [
    {
     "data": {
      "text/plain": [
       "3"
      ]
     },
     "execution_count": 13,
     "metadata": {},
     "output_type": "execute_result"
    }
   ],
   "source": [
    "10//3"
   ]
  },
  {
   "cell_type": "code",
   "execution_count": 14,
   "metadata": {},
   "outputs": [
    {
     "data": {
      "text/plain": [
       "3.3333333333333335"
      ]
     },
     "execution_count": 14,
     "metadata": {},
     "output_type": "execute_result"
    }
   ],
   "source": [
    "10/3\n",
    "#If you don't assign a result to a variable it self assigns the last unassigned variable as an underscore"
   ]
  },
  {
   "cell_type": "code",
   "execution_count": 15,
   "metadata": {},
   "outputs": [
    {
     "data": {
      "text/plain": [
       "3.3333333333333335"
      ]
     },
     "execution_count": 15,
     "metadata": {},
     "output_type": "execute_result"
    }
   ],
   "source": [
    "_"
   ]
  },
  {
   "cell_type": "markdown",
   "metadata": {},
   "source": [
    "Variables cannot start with numbers or symbols, except for underscore"
   ]
  },
  {
   "cell_type": "code",
   "execution_count": 16,
   "metadata": {},
   "outputs": [],
   "source": [
    "#A good way is to use camel notation for starting out\n",
    "#Keep it short and understandable\n",
    "#I prefer using underscores to separate words\n",
    "startingTimeOfTheCourse = 2.0"
   ]
  },
  {
   "cell_type": "code",
   "execution_count": 17,
   "metadata": {},
   "outputs": [
    {
     "name": "stdout",
     "output_type": "stream",
     "text": [
      "Variable                  Type       Data/Info\n",
      "----------------------------------------------\n",
      "b                         int        5\n",
      "c                         float      6.3\n",
      "d                         float      7.4\n",
      "e                         int        -7\n",
      "i                         complex    (2+4j)\n",
      "s                         str        hello world\n",
      "s1                        str        hello\n",
      "s2                        str         world\n",
      "startingTimeOfTheCourse   float      2.0\n",
      "sumCandB                  float      11.3\n",
      "x                         int        3\n",
      "y                         float      1024.0\n"
     ]
    }
   ],
   "source": [
    "%whos"
   ]
  },
  {
   "cell_type": "markdown",
   "metadata": {},
   "source": [
    "## Bool\n",
    "##### Most famous data type"
   ]
  },
  {
   "cell_type": "raw",
   "metadata": {},
   "source": [
    "Just has two states, true and false\n",
    "== : True, if it is equal\n",
    "!= : True, if not equal to\n",
    "< : Less than \n",
    "> : greater than\n",
    "<= : Less than or equal to\n",
    ">= : Greater than or equal to"
   ]
  },
  {
   "cell_type": "markdown",
   "metadata": {},
   "source": [
    "Unless both operators are *True*, it is False is, using **and**, when combining variables.<br>\n",
    "Unless both operators are *False*, is is True, using **or**, when combining variables.<br>\n",
    "The not operator assigns true to false and visa versa\n"
   ]
  },
  {
   "cell_type": "code",
   "execution_count": 18,
   "metadata": {},
   "outputs": [],
   "source": [
    "a = True\n",
    "b = True\n",
    "c = False"
   ]
  },
  {
   "cell_type": "code",
   "execution_count": 19,
   "metadata": {},
   "outputs": [
    {
     "name": "stdout",
     "output_type": "stream",
     "text": [
      "Variable                  Type       Data/Info\n",
      "----------------------------------------------\n",
      "a                         bool       True\n",
      "b                         bool       True\n",
      "c                         bool       False\n",
      "d                         float      7.4\n",
      "e                         int        -7\n",
      "i                         complex    (2+4j)\n",
      "s                         str        hello world\n",
      "s1                        str        hello\n",
      "s2                        str         world\n",
      "startingTimeOfTheCourse   float      2.0\n",
      "sumCandB                  float      11.3\n",
      "x                         int        3\n",
      "y                         float      1024.0\n"
     ]
    }
   ],
   "source": [
    "%whos"
   ]
  },
  {
   "cell_type": "code",
   "execution_count": 20,
   "metadata": {},
   "outputs": [
    {
     "name": "stdout",
     "output_type": "stream",
     "text": [
      "True\n",
      "False\n",
      "False\n"
     ]
    }
   ],
   "source": [
    "print(a and b)\n",
    "print(a and c)\n",
    "print(c and a)\n",
    "#We can test the and operator + the or operator"
   ]
  },
  {
   "cell_type": "code",
   "execution_count": 21,
   "metadata": {},
   "outputs": [
    {
     "name": "stdout",
     "output_type": "stream",
     "text": [
      "True\n",
      "True\n",
      "True\n"
     ]
    }
   ],
   "source": [
    "d = a or b\n",
    "e = a or c\n",
    "f = c or a\n",
    "\n",
    "print(d)\n",
    "print(e)\n",
    "print(f)"
   ]
  },
  {
   "cell_type": "code",
   "execution_count": 22,
   "metadata": {},
   "outputs": [
    {
     "data": {
      "text/plain": [
       "False"
      ]
     },
     "execution_count": 22,
     "metadata": {},
     "output_type": "execute_result"
    }
   ],
   "source": [
    "not(a)"
   ]
  },
  {
   "cell_type": "code",
   "execution_count": 23,
   "metadata": {},
   "outputs": [
    {
     "data": {
      "text/plain": [
       "True"
      ]
     },
     "execution_count": 23,
     "metadata": {},
     "output_type": "execute_result"
    }
   ],
   "source": [
    "not(c)"
   ]
  },
  {
   "cell_type": "code",
   "execution_count": 24,
   "metadata": {},
   "outputs": [
    {
     "data": {
      "text/plain": [
       "False"
      ]
     },
     "execution_count": 24,
     "metadata": {},
     "output_type": "execute_result"
    }
   ],
   "source": [
    "not((a and b) or (c or d))"
   ]
  },
  {
   "cell_type": "markdown",
   "metadata": {},
   "source": [
    "# Comparisons"
   ]
  },
  {
   "cell_type": "code",
   "execution_count": 25,
   "metadata": {},
   "outputs": [
    {
     "name": "stdout",
     "output_type": "stream",
     "text": [
      "True\n"
     ]
    }
   ],
   "source": [
    "print(2<3)\n",
    "#The result of a comparison operator is always Boolean"
   ]
  },
  {
   "cell_type": "code",
   "execution_count": 26,
   "metadata": {},
   "outputs": [
    {
     "name": "stdout",
     "output_type": "stream",
     "text": [
      "<class 'bool'>\n",
      "True\n"
     ]
    }
   ],
   "source": [
    "c = 2<3\n",
    "print(type(c))\n",
    "print(c)"
   ]
  },
  {
   "cell_type": "code",
   "execution_count": 27,
   "metadata": {},
   "outputs": [
    {
     "name": "stdout",
     "output_type": "stream",
     "text": [
      "False\n"
     ]
    }
   ],
   "source": [
    "d = 3==4\n",
    "print(d)"
   ]
  },
  {
   "cell_type": "code",
   "execution_count": 28,
   "metadata": {},
   "outputs": [
    {
     "name": "stdout",
     "output_type": "stream",
     "text": [
      "True\n"
     ]
    }
   ],
   "source": [
    "e = 3==3.0\n",
    "print(e)\n",
    "#Compares values by discarding decimal operation"
   ]
  },
  {
   "cell_type": "code",
   "execution_count": 29,
   "metadata": {},
   "outputs": [],
   "source": [
    "#New Variables\n",
    "x = 4\n",
    "y = 7 \n",
    "z = 6.3\n",
    "r = -9"
   ]
  },
  {
   "cell_type": "code",
   "execution_count": 30,
   "metadata": {},
   "outputs": [
    {
     "data": {
      "text/plain": [
       "True"
      ]
     },
     "execution_count": 30,
     "metadata": {},
     "output_type": "execute_result"
    }
   ],
   "source": [
    "(x<y) and (z<y) or (r==x)\n",
    "#True, True, False \n",
    "#But because of the or operator, it remains as true"
   ]
  },
  {
   "cell_type": "code",
   "execution_count": 31,
   "metadata": {},
   "outputs": [
    {
     "data": {
      "text/plain": [
       "False"
      ]
     },
     "execution_count": 31,
     "metadata": {},
     "output_type": "execute_result"
    }
   ],
   "source": [
    "(r==x) and (x<y) or (z>y) \n",
    "#False, True, False"
   ]
  },
  {
   "cell_type": "code",
   "execution_count": 32,
   "metadata": {},
   "outputs": [
    {
     "data": {
      "text/plain": [
       "True"
      ]
     },
     "execution_count": 32,
     "metadata": {},
     "output_type": "execute_result"
    }
   ],
   "source": [
    "True or False and True\n",
    "#Or operates first and the output is True"
   ]
  },
  {
   "cell_type": "code",
   "execution_count": 33,
   "metadata": {},
   "outputs": [
    {
     "data": {
      "text/plain": [
       "False"
      ]
     },
     "execution_count": 33,
     "metadata": {},
     "output_type": "execute_result"
    }
   ],
   "source": [
    "False or False and True\n",
    "#Or operates first and the output is False"
   ]
  },
  {
   "cell_type": "code",
   "execution_count": 34,
   "metadata": {},
   "outputs": [
    {
     "data": {
      "text/plain": [
       "True"
      ]
     },
     "execution_count": 34,
     "metadata": {},
     "output_type": "execute_result"
    }
   ],
   "source": [
    "False and False or True\n",
    "#And operates first, leading to a False answer which leads to a true answer when using the and operator"
   ]
  },
  {
   "cell_type": "code",
   "execution_count": 35,
   "metadata": {},
   "outputs": [
    {
     "name": "stdout",
     "output_type": "stream",
     "text": [
      "False\n"
     ]
    }
   ],
   "source": [
    "print((not(2!=3)and True) or (False and True))\n",
    "#First bracket is False, Not True\n",
    "#False and True is false, first bracket done.\n",
    "#Second bracket is False\n",
    "#Boils down to False or False\n",
    "#False"
   ]
  },
  {
   "cell_type": "markdown",
   "metadata": {},
   "source": [
    "## Some Useful Functions"
   ]
  },
  {
   "cell_type": "code",
   "execution_count": 36,
   "metadata": {},
   "outputs": [
    {
     "data": {
      "text/plain": [
       "4"
      ]
     },
     "execution_count": 36,
     "metadata": {},
     "output_type": "execute_result"
    }
   ],
   "source": [
    "round(4.2069)\n",
    "#Rounds to nearest whole integer value"
   ]
  },
  {
   "cell_type": "code",
   "execution_count": 37,
   "metadata": {},
   "outputs": [
    {
     "name": "stdout",
     "output_type": "stream",
     "text": [
      "4\n"
     ]
    }
   ],
   "source": [
    "print(round(4.2069))"
   ]
  },
  {
   "cell_type": "code",
   "execution_count": 38,
   "metadata": {},
   "outputs": [
    {
     "name": "stdout",
     "output_type": "stream",
     "text": [
      "4.206\n"
     ]
    }
   ],
   "source": [
    "#We can specify the number of decimal places\n",
    "#In this one 3 decimal places are chosen\n",
    "#This can also be specified as a negative value\n",
    "print(round(4.20603047492747274,3))"
   ]
  },
  {
   "cell_type": "code",
   "execution_count": 39,
   "metadata": {},
   "outputs": [
    {
     "name": "stdout",
     "output_type": "stream",
     "text": [
      "(8, 1)\n",
      "<class 'tuple'>\n"
     ]
    }
   ],
   "source": [
    "#The divmod function outputs the quotient and the remainder as a tuple.\n",
    "G = divmod(73,9)\n",
    "#More on tuples later\n",
    "#8 remainder 1\n",
    "print(G)\n",
    "print(type(G))\n",
    "#This is instead of floor division and the remainder as shwown earlier"
   ]
  },
  {
   "cell_type": "code",
   "execution_count": 40,
   "metadata": {},
   "outputs": [
    {
     "name": "stdout",
     "output_type": "stream",
     "text": [
      "True\n",
      "True\n",
      "False\n",
      "True\n"
     ]
    }
   ],
   "source": [
    "#The isinstance function can check the type of function that you have\n",
    "#Returns the answer as true or false\n",
    "print(isinstance(1,int)) #Is 1 an integer?\n",
    "print(isinstance(G,tuple)) #Is G a tuple?\n",
    "print(isinstance(1.3,int)) #Is 1.3 an integer?\n",
    "#You can check multiple classes at the same time \n",
    "print(isinstance(1.3,(int,float))) #Now you know it is one of those\n",
    "#This is useful to check what a variable is if you don't know when checking different code"
   ]
  },
  {
   "cell_type": "code",
   "execution_count": 41,
   "metadata": {},
   "outputs": [
    {
     "name": "stdout",
     "output_type": "stream",
     "text": [
      "16\n",
      "16\n",
      "8\n"
     ]
    }
   ],
   "source": [
    "#The pow function raises values to powers\n",
    "print(pow(2,4))\n",
    "print(2**4)\n",
    "#We can divide the argument by another number in the same line \n",
    "print(pow(2,7,10)) #2 to the power 7, Modulus 10"
   ]
  },
  {
   "cell_type": "code",
   "execution_count": 124,
   "metadata": {},
   "outputs": [
    {
     "name": "stdout",
     "output_type": "stream",
     "text": [
      "Enter Something : lol\n"
     ]
    }
   ],
   "source": [
    "#The input function allows you to input\n",
    "K = input(\"Enter Something : \") #Always displays as a string\n",
    "#You can convert to a numerical value if there is a number"
   ]
  },
  {
   "cell_type": "code",
   "execution_count": 125,
   "metadata": {},
   "outputs": [
    {
     "data": {
      "text/plain": [
       "str"
      ]
     },
     "execution_count": 125,
     "metadata": {},
     "output_type": "execute_result"
    }
   ],
   "source": [
    "type(K)"
   ]
  },
  {
   "cell_type": "code",
   "execution_count": 126,
   "metadata": {},
   "outputs": [
    {
     "name": "stdout",
     "output_type": "stream",
     "text": [
      "Pick a lucky number : \n"
     ]
    }
   ],
   "source": [
    "L = input(\"Pick a lucky number : \")\n",
    "#How to convert a string to a number, when there is a number inside the string"
   ]
  },
  {
   "cell_type": "code",
   "execution_count": 127,
   "metadata": {},
   "outputs": [
    {
     "ename": "ValueError",
     "evalue": "invalid literal for int() with base 10: ''",
     "output_type": "error",
     "traceback": [
      "\u001b[0;31m---------------------------------------------------------------------------\u001b[0m",
      "\u001b[0;31mValueError\u001b[0m                                Traceback (most recent call last)",
      "\u001b[0;32m<ipython-input-127-5d964edba314>\u001b[0m in \u001b[0;36m<module>\u001b[0;34m\u001b[0m\n\u001b[0;32m----> 1\u001b[0;31m \u001b[0mL\u001b[0m \u001b[0;34m=\u001b[0m \u001b[0mint\u001b[0m\u001b[0;34m(\u001b[0m\u001b[0mL\u001b[0m\u001b[0;34m)\u001b[0m\u001b[0;34m\u001b[0m\u001b[0;34m\u001b[0m\u001b[0m\n\u001b[0m\u001b[1;32m      2\u001b[0m \u001b[0mprint\u001b[0m\u001b[0;34m(\u001b[0m\u001b[0mL\u001b[0m\u001b[0;34m-\u001b[0m\u001b[0;36m30\u001b[0m\u001b[0;34m)\u001b[0m\u001b[0;34m\u001b[0m\u001b[0;34m\u001b[0m\u001b[0m\n",
      "\u001b[0;31mValueError\u001b[0m: invalid literal for int() with base 10: ''"
     ]
    }
   ],
   "source": [
    "L = int(L)\n",
    "print(L-30)"
   ]
  },
  {
   "cell_type": "code",
   "execution_count": 128,
   "metadata": {},
   "outputs": [
    {
     "name": "stdout",
     "output_type": "stream",
     "text": [
      "<class 'str'>\n"
     ]
    }
   ],
   "source": [
    "print(type(L))"
   ]
  },
  {
   "cell_type": "code",
   "execution_count": 129,
   "metadata": {},
   "outputs": [
    {
     "name": "stdout",
     "output_type": "stream",
     "text": [
      "Pick a lucky number : \n"
     ]
    },
    {
     "ename": "ValueError",
     "evalue": "could not convert string to float: ",
     "output_type": "error",
     "traceback": [
      "\u001b[0;31m---------------------------------------------------------------------------\u001b[0m",
      "\u001b[0;31mValueError\u001b[0m                                Traceback (most recent call last)",
      "\u001b[0;32m<ipython-input-129-c32479869a6c>\u001b[0m in \u001b[0;36m<module>\u001b[0;34m\u001b[0m\n\u001b[1;32m      1\u001b[0m \u001b[0;31m#To set the input as something besides a string this can be easily done\u001b[0m\u001b[0;34m\u001b[0m\u001b[0;34m\u001b[0m\u001b[0;34m\u001b[0m\u001b[0m\n\u001b[0;32m----> 2\u001b[0;31m \u001b[0mM\u001b[0m \u001b[0;34m=\u001b[0m \u001b[0mfloat\u001b[0m\u001b[0;34m(\u001b[0m\u001b[0minput\u001b[0m\u001b[0;34m(\u001b[0m\u001b[0;34m\"Pick a lucky number : \"\u001b[0m\u001b[0;34m)\u001b[0m\u001b[0;34m)\u001b[0m\u001b[0;34m\u001b[0m\u001b[0;34m\u001b[0m\u001b[0m\n\u001b[0m\u001b[1;32m      3\u001b[0m \u001b[0;31m#However, the data that the user inputs has to correlate to the data type as shown in the next cell\u001b[0m\u001b[0;34m\u001b[0m\u001b[0;34m\u001b[0m\u001b[0;34m\u001b[0m\u001b[0m\n",
      "\u001b[0;31mValueError\u001b[0m: could not convert string to float: "
     ]
    }
   ],
   "source": [
    "#To set the input as something besides a string this can be easily done\n",
    "M = float(input(\"Pick a lucky number : \"))\n",
    "#However, the data that the user inputs has to correlate to the data type as shown in the next cell"
   ]
  },
  {
   "cell_type": "code",
   "execution_count": 130,
   "metadata": {},
   "outputs": [
    {
     "name": "stdout",
     "output_type": "stream",
     "text": [
      "Pick a lucky number : \n"
     ]
    },
    {
     "ename": "ValueError",
     "evalue": "could not convert string to float: ",
     "output_type": "error",
     "traceback": [
      "\u001b[0;31m---------------------------------------------------------------------------\u001b[0m",
      "\u001b[0;31mValueError\u001b[0m                                Traceback (most recent call last)",
      "\u001b[0;32m<ipython-input-130-c3bf50a185c4>\u001b[0m in \u001b[0;36m<module>\u001b[0;34m\u001b[0m\n\u001b[0;32m----> 1\u001b[0;31m \u001b[0mN\u001b[0m \u001b[0;34m=\u001b[0m \u001b[0mfloat\u001b[0m\u001b[0;34m(\u001b[0m\u001b[0minput\u001b[0m\u001b[0;34m(\u001b[0m\u001b[0;34m\"Pick a lucky number : \"\u001b[0m\u001b[0;34m)\u001b[0m\u001b[0;34m)\u001b[0m\u001b[0;34m\u001b[0m\u001b[0;34m\u001b[0m\u001b[0m\n\u001b[0m",
      "\u001b[0;31mValueError\u001b[0m: could not convert string to float: "
     ]
    }
   ],
   "source": [
    "N = float(input(\"Pick a lucky number : \"))"
   ]
  },
  {
   "cell_type": "code",
   "execution_count": null,
   "metadata": {},
   "outputs": [],
   "source": [
    "#If it can be converted to a data type easily e.g int to float it doesn't matter as much "
   ]
  },
  {
   "cell_type": "code",
   "execution_count": null,
   "metadata": {},
   "outputs": [],
   "source": [
    "#If you don't know how to use a function or want to learn more, type a question mark after\n",
    "#More information for more complex functions can be accessed by using 2 q marks\n",
    "#or the help('function') command can be used\n",
    "round?"
   ]
  },
  {
   "cell_type": "code",
   "execution_count": null,
   "metadata": {},
   "outputs": [],
   "source": [
    "help(round) #I find this method more useful as it doesn't bring up a pop-up and you can delete the cell after."
   ]
  },
  {
   "cell_type": "markdown",
   "metadata": {},
   "source": [
    "# Control Flow"
   ]
  },
  {
   "cell_type": "code",
   "execution_count": 131,
   "metadata": {},
   "outputs": [],
   "source": [
    "#Task: print the bigger number that the user inputs "
   ]
  },
  {
   "cell_type": "code",
   "execution_count": 132,
   "metadata": {},
   "outputs": [
    {
     "name": "stdout",
     "output_type": "stream",
     "text": [
      "\n",
      "\n"
     ]
    }
   ],
   "source": [
    "#This uses the if condition\n",
    "a = input()\n",
    "b = input()\n",
    "if b > a:\n",
    "    print(b)\n",
    "    print(b > a)\n",
    "    "
   ]
  },
  {
   "cell_type": "code",
   "execution_count": 133,
   "metadata": {},
   "outputs": [
    {
     "name": "stdout",
     "output_type": "stream",
     "text": [
      "\n",
      "\n"
     ]
    }
   ],
   "source": [
    "#To just have the output of a or b at the bottom\n",
    "a = input()\n",
    "b = input()\n",
    "if a > b:\n",
    "    print(a)\n",
    "if b > a:\n",
    "    print(b)"
   ]
  },
  {
   "cell_type": "code",
   "execution_count": 134,
   "metadata": {},
   "outputs": [
    {
     "name": "stdout",
     "output_type": "stream",
     "text": [
      "\n",
      "\n",
      "b is not greater than a\n"
     ]
    }
   ],
   "source": [
    "#Using else statements\n",
    "a = input()\n",
    "b = input()\n",
    "if b > a:\n",
    "    print(\"b is greater than a\")\n",
    "else:\n",
    "    print(\"b is not greater than a\")"
   ]
  },
  {
   "cell_type": "code",
   "execution_count": 135,
   "metadata": {},
   "outputs": [
    {
     "name": "stdout",
     "output_type": "stream",
     "text": [
      "A\n"
     ]
    }
   ],
   "source": [
    "#Using elif statements\n",
    "a = 1\n",
    "b = -5\n",
    "if a==b:\n",
    "    print(\"equal\")\n",
    "elif a > b: #Condition must be true or false\n",
    "    print(\"A\")\n",
    "else: \n",
    "    print(\"B\")\n",
    "    print(\"Not in if\")"
   ]
  },
  {
   "cell_type": "code",
   "execution_count": 136,
   "metadata": {},
   "outputs": [
    {
     "name": "stdout",
     "output_type": "stream",
     "text": [
      "A\n"
     ]
    }
   ],
   "source": [
    "#### For a shorter form, code with less lines this can be used.\n",
    "a = 1\n",
    "b = -1\n",
    "print(\"A\") if a > b else print(\"Equal\") if a == b else print(\"B\")\n",
    "#it does use less lines but it is not as readable as the previous cell\n",
    "#Good for short lines "
   ]
  },
  {
   "cell_type": "code",
   "execution_count": 137,
   "metadata": {},
   "outputs": [
    {
     "name": "stdout",
     "output_type": "stream",
     "text": [
      "Grade: \n"
     ]
    },
    {
     "ename": "ValueError",
     "evalue": "could not convert string to float: ",
     "output_type": "error",
     "traceback": [
      "\u001b[0;31m---------------------------------------------------------------------------\u001b[0m",
      "\u001b[0;31mValueError\u001b[0m                                Traceback (most recent call last)",
      "\u001b[0;32m<ipython-input-137-c0563d191eb2>\u001b[0m in \u001b[0;36m<module>\u001b[0;34m\u001b[0m\n\u001b[1;32m      1\u001b[0m \u001b[0;31m#The user inputs a number, if the number passes a threshold a value is generated e.g a uni grade\u001b[0m\u001b[0;34m\u001b[0m\u001b[0;34m\u001b[0m\u001b[0;34m\u001b[0m\u001b[0m\n\u001b[0;32m----> 2\u001b[0;31m \u001b[0ma\u001b[0m \u001b[0;34m=\u001b[0m \u001b[0mfloat\u001b[0m\u001b[0;34m(\u001b[0m\u001b[0minput\u001b[0m\u001b[0;34m(\u001b[0m\u001b[0;34m\"Grade: \"\u001b[0m\u001b[0;34m)\u001b[0m\u001b[0;34m)\u001b[0m\u001b[0;34m\u001b[0m\u001b[0;34m\u001b[0m\u001b[0m\n\u001b[0m\u001b[1;32m      3\u001b[0m \u001b[0;32mif\u001b[0m \u001b[0ma\u001b[0m \u001b[0;34m>=\u001b[0m \u001b[0;36m70\u001b[0m\u001b[0;34m:\u001b[0m\u001b[0;34m\u001b[0m\u001b[0;34m\u001b[0m\u001b[0m\n\u001b[1;32m      4\u001b[0m     \u001b[0mprint\u001b[0m\u001b[0;34m(\u001b[0m\u001b[0;34m\"First\"\u001b[0m\u001b[0;34m)\u001b[0m\u001b[0;34m\u001b[0m\u001b[0;34m\u001b[0m\u001b[0m\n\u001b[1;32m      5\u001b[0m \u001b[0;32melif\u001b[0m \u001b[0ma\u001b[0m \u001b[0;34m>=\u001b[0m \u001b[0;36m60\u001b[0m \u001b[0;32mand\u001b[0m \u001b[0ma\u001b[0m \u001b[0;34m<=\u001b[0m \u001b[0;36m70\u001b[0m\u001b[0;34m:\u001b[0m\u001b[0;34m\u001b[0m\u001b[0;34m\u001b[0m\u001b[0m\n",
      "\u001b[0;31mValueError\u001b[0m: could not convert string to float: "
     ]
    }
   ],
   "source": [
    "#The user inputs a number, if the number passes a threshold a value is generated e.g a uni grade\n",
    "a = float(input(\"Grade: \"))\n",
    "if a >= 70:\n",
    "    print(\"First\")\n",
    "elif a >= 60 and a <= 70:\n",
    "    print(\"2:1\")\n",
    "elif a >= 50 and a <= 60:\n",
    "    print(\"2:2\")\n",
    "elif (a >= 40) and (a <= 50):\n",
    "    print(\"Third\")\n",
    "else:\n",
    "    print(\"Fail\")\n",
    "#You can have brackets around the statements to make it more readable as shown in one line"
   ]
  },
  {
   "cell_type": "code",
   "execution_count": null,
   "metadata": {},
   "outputs": [],
   "source": [
    "#How to use else without writing else by using the not function\n",
    "a = 3 \n",
    "if a > 10:\n",
    "    print(\"Variable is greater than 10\")\n",
    "elif not(a > 10):\n",
    "    print(\"Variable is smaller than 10\")"
   ]
  },
  {
   "cell_type": "code",
   "execution_count": null,
   "metadata": {},
   "outputs": [],
   "source": [
    "#The nested if condition\n",
    "x = int(input(\"Enter a number : \"))\n",
    "if x > 10:\n",
    "    print(\"Your number is larger than 10 \")\n",
    "    if x > 20:\n",
    "        print(\"and also above 20!\")\n",
    "        if x == 69:\n",
    "            print(\"nice\")  \n",
    "    else:\n",
    "        print(\"but not above 20\")\n",
    "#Watch where the indentation is, don't put the final else statement as a part of the nest"
   ]
  },
  {
   "cell_type": "code",
   "execution_count": null,
   "metadata": {},
   "outputs": [],
   "source": [
    "\"\"\"\n",
    "To do a multi line comment you put it inbetween 3 quote symbols\n",
    "like so \n",
    "voila \n",
    "Rather than using multiple hash symbols\n",
    "\"\"\"\n",
    "\n",
    "#This outputs however if there is no code in the cell"
   ]
  },
  {
   "cell_type": "code",
   "execution_count": null,
   "metadata": {},
   "outputs": [],
   "source": [
    "\"\"\"\n",
    "For this example, the code will check any number that is entered and find the integer portion\n",
    "and then subsequently check if the integer is even or odd. \n",
    "\"\"\"\n",
    "\n",
    "x = float(input(\"Enter a random number : \")) #Assumes user will enter a real number \n",
    "y = round(x)\n",
    "if x > 0:\n",
    "    if y > x:\n",
    "        intPortion = (y - 1) #If it rounds up, the integer increases by one e.g 4.7 would be 5    \n",
    "    else:\n",
    "        intPortion = y #If it stays the same, nothing happens to the first portion\n",
    "else:\n",
    "    if x > y:\n",
    "        intPortion = (y + 1) #Works opposite for negative numbers\n",
    "    else:\n",
    "        intPortion = y #This code can be refined as this line reappears.\n",
    "\n",
    "print(\"The integer value is\",intPortion)\n",
    "\n",
    "if intPortion%2 == 0:\n",
    "    print(intPortion, \"is even\")\n",
    "else:\n",
    "    print(intPortion, \"is odd\")"
   ]
  },
  {
   "cell_type": "markdown",
   "metadata": {},
   "source": [
    "## Loops"
   ]
  },
  {
   "cell_type": "code",
   "execution_count": null,
   "metadata": {},
   "outputs": [],
   "source": [
    "n = int(input('Max iterations :')) #This is a while loop\n",
    "i = 1\n",
    "while (i < n):\n",
    "    print(i)\n",
    "    i += 1\n",
    "print('Your number is', n)\n",
    "\n",
    "#This loop counts the numbers in integer steps up until i = n "
   ]
  },
  {
   "cell_type": "code",
   "execution_count": null,
   "metadata": {},
   "outputs": [],
   "source": [
    "n = int(input()) #This loop prints square numbers\n",
    "i = 1\n",
    "while (i < n):\n",
    "    print(i**2)\n",
    "    print('This is iteration no.', i)\n",
    "    i += 1 #This is the same as i = i+1\n",
    "print(\"Loop Finished\")"
   ]
  },
  {
   "cell_type": "code",
   "execution_count": null,
   "metadata": {},
   "outputs": [],
   "source": [
    "#This loop prints all multiples of 2 below the input integer\n",
    "\n",
    "n = int(input())\n",
    "i = 1 \n",
    "while i < n:\n",
    "    if i%2 == 0:\n",
    "        print(i)\n",
    "    else:\n",
    "        pass\n",
    "    i += 1\n",
    "print('done')\n"
   ]
  },
  {
   "cell_type": "code",
   "execution_count": null,
   "metadata": {},
   "outputs": [],
   "source": [
    "\"\"\"\n",
    "2 important statements in Loops: break and continue\n",
    "break tells the code to exit the loop immediately and brings you outside the loop. \n",
    "continue tells the code to skip the remaining iterations and starts a new one. \n",
    "\"\"\"\n",
    "\n",
    "i = 3\n",
    "n = 10\n",
    "while True:\n",
    "    if i%9 == 0:\n",
    "        print('break') #This tells us if we are in the break loop\n",
    "        break\n",
    "    else:\n",
    "        print('E') #This tells us how long we are in the else loop until i is divisible by 9\n",
    "        i += 1\n",
    "        continue\n",
    "    print('I am inside the loop') #This never gets printed as when we reach break we exit the loop\n",
    "print('done')"
   ]
  },
  {
   "cell_type": "code",
   "execution_count": null,
   "metadata": {},
   "outputs": [],
   "source": [
    "i = 2\n",
    "n = 10\n",
    "while True:\n",
    "    if i%9 != 0:\n",
    "        print('inside') #How many times we are inside the if statement\n",
    "        i += 1\n",
    "        continue #Forces the code to continue forever until the condition is satisfied\n",
    "    print(\"something\")\n",
    "    print(\"something else\")\n",
    "    break\n",
    "print('done')"
   ]
  },
  {
   "cell_type": "code",
   "execution_count": null,
   "metadata": {},
   "outputs": [],
   "source": [
    "#For Loops\n",
    "L = [] #Empty list\n",
    "for i in range(0, 32, 1): \n",
    "    #Starts at 0, ends at 10, in steps of 2\n",
    "    print(i+1)\n",
    "    L.append(i**3) #Prints the numbers one by one until it completes the range\n",
    "print(L) #This prints the cubes of the list we have appended"
   ]
  },
  {
   "cell_type": "code",
   "execution_count": null,
   "metadata": {},
   "outputs": [],
   "source": [
    "#Else in For Loops\n",
    "S = {\"banana\", 4.90, \"pear\"} #This set is defined later on in the tutorial\n",
    "for x in S:\n",
    "    print(x)\n",
    "else: #As soon as all the elements in the set are accounted for, the loop finishes and does the else loop\n",
    "    print(\"loop complete\")\n"
   ]
  },
  {
   "cell_type": "code",
   "execution_count": null,
   "metadata": {},
   "outputs": [],
   "source": [
    "S = {\"banana\", 4.90, \"pear\"} #This set is defined later on in the tutorial\n",
    "i = 1\n",
    "for x in S:\n",
    "    print(x)\n",
    "    i += 1\n",
    "    if i == 3:\n",
    "        break\n",
    "    else:\n",
    "        pass\n",
    "else: #Always use a colon\n",
    "    print(\"loop complete\")\n",
    "#The second else statement never prints because of the break\n",
    "#The pass simply just lets the code continue and move on\n",
    "#Only use else when you have to at the start"
   ]
  },
  {
   "cell_type": "code",
   "execution_count": null,
   "metadata": {},
   "outputs": [],
   "source": [
    "#Exploring a dictionary\n",
    "Dict = {\"A\":1, \"B\":2, \"C\":3}\n",
    "for x in Dict:\n",
    "    print(x,Dict[x])"
   ]
  },
  {
   "cell_type": "code",
   "execution_count": null,
   "metadata": {},
   "outputs": [],
   "source": [
    "\"\"\"\n",
    "Exercise:\n",
    "Given a list of numbers i.e [1, 2,4, -5, 7, 9, 3, 2], make another list that contains \n",
    "all the items in sorted order from minimum to maximum. The result will be another list.\n",
    "\"\"\"\n",
    "L = [1, 2, 4, -5, 7, 9, 3, 2]\n",
    "minimum = L[0]\n",
    "idx = 0\n",
    "c = 0\n",
    "for i in L:\n",
    "    if i < minimum:\n",
    "        minimum = i\n",
    "        idx = c\n",
    "    c += 1\n",
    "print(idx, minimum) #This gives us the smallest number in the list and the position in the list\n",
    "#The position is the 4th position "
   ]
  },
  {
   "cell_type": "code",
   "execution_count": null,
   "metadata": {},
   "outputs": [],
   "source": [
    "L = [1, 2, 4, -5, 7, 9, 3, 2]\n",
    "minimum = L[0]\n",
    "idx = 0\n",
    "c = 0\n",
    "for i in L:\n",
    "    if i < minimum:\n",
    "        minimum = i\n",
    "        idx = c\n",
    "    c += 1\n",
    "tmp = L[0]\n",
    "L[0] = minimum\n",
    "L[idx] = tmp\n",
    "print(L[0])\n",
    "print(L) \n",
    "#At the moment, this code just swaps the starting number with the smallest number "
   ]
  },
  {
   "cell_type": "code",
   "execution_count": null,
   "metadata": {},
   "outputs": [],
   "source": [
    "L = [1, 2, 4, -5, 7, 9, 3, 2, -288, 483, 6, 99, -2894]\n",
    "print('List 1 =', L)\n",
    "for j in range(len(L)): #This says for a number in the range of the list in steps of 1\n",
    "    minimum = L[j] #The minimum is this one\n",
    "    idx = j\n",
    "    c = j #The counter starts at j \n",
    "    for i in range(j, len(L)):\n",
    "        if L[i] < minimum:\n",
    "            minimum = L[i] #Replaces the minimum value continually\n",
    "            idx = c\n",
    "        c += 1\n",
    "    tmp = L[j]\n",
    "    L[j] = minimum\n",
    "    L[idx] = tmp\n",
    "print('List 2 =', L) \n",
    "#Prints the sorted list."
   ]
  },
  {
   "cell_type": "markdown",
   "metadata": {},
   "source": [
    "## Functions in Python"
   ]
  },
  {
   "cell_type": "code",
   "execution_count": null,
   "metadata": {},
   "outputs": [],
   "source": [
    "#You can make your own functions.\n",
    "\n",
    "def printSuccess(): #You can call this anything and the code indented will run whenever you call the function.\n",
    "    print(\"Task Complete!\")\n",
    "    print(\"Move onto the next task.\")\n",
    "    print(\"Click here.\")\n",
    "\n",
    "printSuccess()\n",
    "#You need the brackets and the colon, functions are named like variables \n",
    "#Similar to loops\n",
    "#Good if you want to call multiple things at the same time, saves on debugging as it makes the code simple"
   ]
  },
  {
   "cell_type": "code",
   "execution_count": null,
   "metadata": {},
   "outputs": [],
   "source": [
    "#Doc String\n",
    "\n",
    "def printSuccess():\n",
    "    \"\"\"This function prints a message.\"\"\"\n",
    "    print('The task was successful!')\n",
    "\n",
    "printSuccess()\n",
    "\n",
    "#The doc string allows you to recall what your function does, the comment is not executed\n",
    "#Similar to a multiline comment "
   ]
  },
  {
   "cell_type": "code",
   "execution_count": null,
   "metadata": {},
   "outputs": [],
   "source": [
    "help(printSuccess)\n",
    "\"\"\"\n",
    "If the function is not yours or you lose track of the cell it was made in you can use the \n",
    "help function to access the docstring which summarises what the function does.\n",
    "\n",
    "Good to get into the habit of doing this as you can check other people's functions, a double\n",
    "question mark also can give more in depth information.\n",
    "\n",
    "\"\"\"\n",
    "\n",
    "printSuccess()"
   ]
  },
  {
   "cell_type": "code",
   "execution_count": null,
   "metadata": {},
   "outputs": [],
   "source": [
    "#Input Arguments\n",
    "#Receives an argument and does something\n",
    "\n",
    "def printMessage(msg):\n",
    "    \"\"\"Example of a input argument if it does execute, it says if it is a string, \n",
    "    if not it prints the data type i.e Integer, Float, Complex... \"\"\"\n",
    "    if isinstance(msg, str):\n",
    "        print(msg)\n",
    "    else:\n",
    "        print(\"Your input argument is not a string\")\n",
    "        print(\"Here is the data type :\",type(msg))\n",
    "printMessage(True)"
   ]
  },
  {
   "cell_type": "code",
   "execution_count": null,
   "metadata": {},
   "outputs": [],
   "source": [
    "printMessage('lol')\n",
    "y = 'slippy'\n",
    "printMessage(y)\n",
    "#You can put in more than 1 argument at a time."
   ]
  },
  {
   "cell_type": "code",
   "execution_count": null,
   "metadata": {},
   "outputs": [],
   "source": [
    "#\n",
    "\n",
    "def mypow(a, b):\n",
    "    \"\"\"This function raises a to the power of b\"\"\"\n",
    "    c = a**b\n",
    "    print(c)\n"
   ]
  },
  {
   "cell_type": "code",
   "execution_count": null,
   "metadata": {},
   "outputs": [],
   "source": [
    "mypow(3, 2)\n",
    "help(mypow)"
   ]
  },
  {
   "cell_type": "code",
   "execution_count": null,
   "metadata": {},
   "outputs": [],
   "source": [
    "def checkArgs5(a, b, c, d, e):\n",
    "    \"\"\"This will check the arguments for 5 inputs\"\"\"\n",
    "    print(\"Argument 1 :\",type(a))\n",
    "    print(\"Argument 2 :\",type(b))\n",
    "    print(\"Argument 3 :\",type(c))\n",
    "    print(\"Argument 4 :\",type(d))\n",
    "    print(\"Argument 5 :\",type(e))\n"
   ]
  },
  {
   "cell_type": "code",
   "execution_count": 138,
   "metadata": {},
   "outputs": [
    {
     "name": "stdout",
     "output_type": "stream",
     "text": [
      "Argument 1 : <class 'int'>\n",
      "Argument 2 : <class 'str'>\n",
      "Argument 3 : <class 'float'>\n",
      "Argument 4 : <class 'complex'>\n",
      "Argument 5 : <class 'bool'>\n"
     ]
    }
   ],
   "source": [
    "checkArgs5(1, \"print\", 73.2, 2+4j, True)\n",
    "#As you can see the number of arguments you put into the function is important"
   ]
  },
  {
   "cell_type": "code",
   "execution_count": 139,
   "metadata": {},
   "outputs": [
    {
     "ename": "TypeError",
     "evalue": "checkArgs5() takes 5 positional arguments but 6 were given",
     "output_type": "error",
     "traceback": [
      "\u001b[0;31m---------------------------------------------------------------------------\u001b[0m",
      "\u001b[0;31mTypeError\u001b[0m                                 Traceback (most recent call last)",
      "\u001b[0;32m<ipython-input-139-42024b7e2dff>\u001b[0m in \u001b[0;36m<module>\u001b[0;34m\u001b[0m\n\u001b[0;32m----> 1\u001b[0;31m \u001b[0mcheckArgs5\u001b[0m\u001b[0;34m(\u001b[0m\u001b[0;36m1\u001b[0m\u001b[0;34m,\u001b[0m \u001b[0;34m\"print\"\u001b[0m\u001b[0;34m,\u001b[0m \u001b[0;36m73.2\u001b[0m\u001b[0;34m,\u001b[0m \u001b[0;36m2\u001b[0m\u001b[0;34m+\u001b[0m\u001b[0;36m4j\u001b[0m\u001b[0;34m,\u001b[0m \u001b[0;32mTrue\u001b[0m\u001b[0;34m,\u001b[0m \u001b[0;32mFalse\u001b[0m\u001b[0;34m)\u001b[0m\u001b[0;34m\u001b[0m\u001b[0;34m\u001b[0m\u001b[0m\n\u001b[0m\u001b[1;32m      2\u001b[0m \"\"\"\n\u001b[1;32m      3\u001b[0m \u001b[0mAs\u001b[0m \u001b[0myou\u001b[0m \u001b[0mcan\u001b[0m \u001b[0msee\u001b[0m\u001b[0;34m,\u001b[0m \u001b[0mthe\u001b[0m \u001b[0mnumber\u001b[0m \u001b[0mof\u001b[0m \u001b[0marguments\u001b[0m \u001b[0myou\u001b[0m \u001b[0mput\u001b[0m \u001b[0minto\u001b[0m \u001b[0mthe\u001b[0m \u001b[0mfunction\u001b[0m \u001b[0;32mis\u001b[0m \u001b[0mimportant\u001b[0m\u001b[0;34m.\u001b[0m\u001b[0;34m\u001b[0m\u001b[0;34m\u001b[0m\u001b[0m\n\u001b[1;32m      4\u001b[0m \u001b[0mNeeds\u001b[0m \u001b[0;36m5\u001b[0m \u001b[0mexactly\u001b[0m\u001b[0;34m,\u001b[0m \u001b[0meven\u001b[0m \u001b[0;36m4\u001b[0m \u001b[0marguments\u001b[0m \u001b[0mwould\u001b[0m \u001b[0mgive\u001b[0m \u001b[0ma\u001b[0m \u001b[0msimilar\u001b[0m \u001b[0merror\u001b[0m\u001b[0;34m.\u001b[0m\u001b[0;34m\u001b[0m\u001b[0;34m\u001b[0m\u001b[0m\n\u001b[1;32m      5\u001b[0m \u001b[0mWill\u001b[0m \u001b[0mcome\u001b[0m \u001b[0monto\u001b[0m \u001b[0mhow\u001b[0m \u001b[0mto\u001b[0m \u001b[0mget\u001b[0m \u001b[0maround\u001b[0m \u001b[0mthis\u001b[0m \u001b[0mlater\u001b[0m\u001b[0;34m.\u001b[0m\u001b[0;34m\u001b[0m\u001b[0;34m\u001b[0m\u001b[0m\n",
      "\u001b[0;31mTypeError\u001b[0m: checkArgs5() takes 5 positional arguments but 6 were given"
     ]
    }
   ],
   "source": [
    "checkArgs5(1, \"print\", 73.2, 2+4j, True, False)\n",
    "\"\"\"\n",
    "As you can see, the number of arguments you put into the function is important.\n",
    "Needs 5 exactly, even 4 arguments would give a similar error.\n",
    "Will come onto how to get around this later.\n",
    "\"\"\" "
   ]
  },
  {
   "cell_type": "code",
   "execution_count": 140,
   "metadata": {},
   "outputs": [
    {
     "name": "stdout",
     "output_type": "stream",
     "text": [
      "9 7 10\n"
     ]
    }
   ],
   "source": [
    "#The order of inputting arguments\n",
    "def func(a, b, c):\n",
    "    \"\"\"This will print a jumbled up order from the defined argument\"\"\"\n",
    "    print(b, a, c)\n",
    "func(7, 9, 10)\n",
    "\n",
    "#As you can see, the output is disordered."
   ]
  },
  {
   "cell_type": "code",
   "execution_count": 141,
   "metadata": {},
   "outputs": [
    {
     "data": {
      "text/plain": [
       "3.14"
      ]
     },
     "execution_count": 141,
     "metadata": {},
     "output_type": "execute_result"
    }
   ],
   "source": [
    "#As soon as the function executes, the memory is lost, any variables defined inside are forgotten.\n",
    "#This is called a local variable, if it was defined beforehand it will overwrite it.\n",
    "#To retrieve the function, the return argument is used.\n",
    "\n",
    "def add(x, y):\n",
    "    \"\"\"This will add 2 numbers and return the answer\"\"\"\n",
    "    return x+y\n",
    "\n",
    "add(0.314,0.314*(9))"
   ]
  },
  {
   "cell_type": "code",
   "execution_count": 142,
   "metadata": {},
   "outputs": [],
   "source": [
    "outside = 4"
   ]
  },
  {
   "cell_type": "code",
   "execution_count": 143,
   "metadata": {},
   "outputs": [],
   "source": [
    "def overwrite():\n",
    "    \"\"\"This function will overwrite the 'outside' variable and make a local version\"\"\"\n",
    "    outside = 5\n",
    "    print(outside)"
   ]
  },
  {
   "cell_type": "code",
   "execution_count": 144,
   "metadata": {},
   "outputs": [
    {
     "name": "stdout",
     "output_type": "stream",
     "text": [
      "5\n"
     ]
    }
   ],
   "source": [
    "overwrite()"
   ]
  },
  {
   "cell_type": "code",
   "execution_count": 145,
   "metadata": {},
   "outputs": [
    {
     "name": "stdout",
     "output_type": "stream",
     "text": [
      "4\n"
     ]
    }
   ],
   "source": [
    "print(outside)"
   ]
  },
  {
   "cell_type": "code",
   "execution_count": 146,
   "metadata": {},
   "outputs": [
    {
     "name": "stdout",
     "output_type": "stream",
     "text": [
      "None\n",
      "<class 'NoneType'>\n"
     ]
    }
   ],
   "source": [
    "#A function always returns something, even it it is empty.\n",
    "\n",
    "def empty():\n",
    "    \"\"\"Empty function\"\"\"\n",
    "    outside = 3\n",
    "print(empty())\n",
    "\n",
    "#As the function only has a variable and is not doing anything, it has nothing to return.\n",
    "#Only returns if you explicity ask it to return something\n",
    "\n",
    "print(type(empty()))"
   ]
  },
  {
   "cell_type": "code",
   "execution_count": 147,
   "metadata": {},
   "outputs": [],
   "source": [
    "#The return command in a function acts like the break command in a loop.\n",
    "\n",
    "def h():\n",
    "    print(\"a\")\n",
    "    a = 69\n",
    "    b = \"nice\"\n",
    "    c = (\"You are\" + \" \" + (str(a))+ \", \"+b)\n",
    "    print(c)\n",
    "    return \n",
    "    print(\"This text won't print\")"
   ]
  },
  {
   "cell_type": "code",
   "execution_count": 148,
   "metadata": {},
   "outputs": [
    {
     "name": "stdout",
     "output_type": "stream",
     "text": [
      "a\n",
      "You are 69, nice\n"
     ]
    }
   ],
   "source": [
    "h()\n",
    "#As you can see, the second print statement did not execute."
   ]
  },
  {
   "cell_type": "code",
   "execution_count": 149,
   "metadata": {},
   "outputs": [
    {
     "name": "stdout",
     "output_type": "stream",
     "text": [
      "a\n",
      "You are 69, nice\n",
      "<class 'NoneType'>\n"
     ]
    }
   ],
   "source": [
    "print(type(h()))\n",
    "#Prints NoneType because there is nothing immediately beside return.\n",
    "#If we asked it to return c, the class would be string."
   ]
  },
  {
   "cell_type": "code",
   "execution_count": 150,
   "metadata": {},
   "outputs": [],
   "source": [
    "#You can return multiple values as well.\n",
    "\n",
    "def r():\n",
    "    \"\"\"This function will return 3 values when they are assigned, this can be used for\n",
    "    coordinate systems e.g cartesian to polar coordinates\"\"\"\n",
    "    a = 5\n",
    "    b = 7\n",
    "    d = \"something\"\n",
    "    return a,b,d"
   ]
  },
  {
   "cell_type": "code",
   "execution_count": 151,
   "metadata": {},
   "outputs": [
    {
     "name": "stdout",
     "output_type": "stream",
     "text": [
      "My height is\n",
      "5 7 something\n"
     ]
    }
   ],
   "source": [
    "x,y,z = r()\n",
    "print(\"My height is\")\n",
    "print(x,y,z)"
   ]
  },
  {
   "cell_type": "code",
   "execution_count": 152,
   "metadata": {},
   "outputs": [
    {
     "data": {
      "text/plain": [
       "3023.31"
      ]
     },
     "execution_count": 152,
     "metadata": {},
     "output_type": "execute_result"
    }
   ],
   "source": [
    "#If we don't want to run into the error we had previously when we submitted too little/many args\n",
    "#i.e to have an arbruitrary number of arguments\n",
    "\n",
    "def add(*args): #The asterisk is key for this \n",
    "    \"\"\"This will add any amount of numbers inputted to the function\"\"\"\n",
    "    s = 0\n",
    "    for i in range(len(args)):\n",
    "        s += args[i]\n",
    "    return s\n",
    "add(3,485,234.4,2293,7.91)"
   ]
  },
  {
   "cell_type": "code",
   "execution_count": 153,
   "metadata": {},
   "outputs": [
    {
     "name": "stdout",
     "output_type": "stream",
     "text": [
      "Variable name is a And the value is : 3\n",
      "Variable name is b And the value is : b\n",
      "Variable name is c And the value is : (2+4j)\n",
      "Variable name is y And the value is : 7.8\n"
     ]
    }
   ],
   "source": [
    "#To have a variable number of input arguments \n",
    "\n",
    "def printAllVariablesNamesAndValues(**args): #In practice this function has a far too long name\n",
    "    \"\"\"Prints a variable number of input arguments\"\"\"\n",
    "    for x in args:\n",
    "        print(\"Variable name is\",x,\"And the value is :\",args[x])\n",
    "printAllVariablesNamesAndValues(a = 3, b = \"b\", c = 2+4j, y = 7.8)"
   ]
  },
  {
   "cell_type": "code",
   "execution_count": 154,
   "metadata": {},
   "outputs": [],
   "source": [
    "#Default values for a function\n",
    "\n",
    "def gg(s = 4):\n",
    "    \"\"\"This function will print the default value\"\"\"\n",
    "    print(s)"
   ]
  },
  {
   "cell_type": "code",
   "execution_count": 155,
   "metadata": {},
   "outputs": [
    {
     "name": "stdout",
     "output_type": "stream",
     "text": [
      "4\n"
     ]
    }
   ],
   "source": [
    "gg()"
   ]
  },
  {
   "cell_type": "code",
   "execution_count": 156,
   "metadata": {},
   "outputs": [
    {
     "name": "stdout",
     "output_type": "stream",
     "text": [
      "56\n"
     ]
    }
   ],
   "source": [
    "gg(56)"
   ]
  },
  {
   "cell_type": "code",
   "execution_count": 157,
   "metadata": {},
   "outputs": [
    {
     "name": "stdout",
     "output_type": "stream",
     "text": [
      "[-9, 2, 3]\n"
     ]
    }
   ],
   "source": [
    "L = [1,2,3] #Works through the cell systematically, initially L2 and L are equal but we changed the first value.\n",
    "L2 = L\n",
    "L2[0] = -9\n",
    "print(L)"
   ]
  },
  {
   "cell_type": "code",
   "execution_count": 158,
   "metadata": {},
   "outputs": [],
   "source": [
    "def ff(L=[1,2]):\n",
    "    for i in L:\n",
    "        print(i)"
   ]
  },
  {
   "cell_type": "code",
   "execution_count": 159,
   "metadata": {},
   "outputs": [
    {
     "name": "stdout",
     "output_type": "stream",
     "text": [
      "12\n",
      "3\n",
      "4\n"
     ]
    }
   ],
   "source": [
    "L2 = [12,3,4]\n",
    "ff(L2)"
   ]
  },
  {
   "cell_type": "code",
   "execution_count": 160,
   "metadata": {},
   "outputs": [
    {
     "name": "stdout",
     "output_type": "stream",
     "text": [
      "1\n",
      "2\n"
     ]
    }
   ],
   "source": [
    "ff()"
   ]
  },
  {
   "cell_type": "markdown",
   "metadata": {},
   "source": [
    "## Modules"
   ]
  },
  {
   "cell_type": "code",
   "execution_count": 161,
   "metadata": {},
   "outputs": [],
   "source": [
    "\"\"\"\n",
    "If you want to retrieve code when working in a different project from a previous project\n",
    "without copying and pasting, could be 1 or 100 different functions. Modules are very good \n",
    "for applying different functions, such as pandas, matplotlib, numpy... etc.\n",
    "This is how to make and use modules rather than just importing them from Anaconda.\n",
    "Make the function and download as a .py file\n",
    "\"\"\"\n",
    "import sys\n",
    "sys.path.append('/Users/aadil/Downloads/Python/')"
   ]
  },
  {
   "cell_type": "code",
   "execution_count": 162,
   "metadata": {},
   "outputs": [],
   "source": [
    "import tutorial_function as myfunc\n",
    "#Now we can use all the functions we made as a module"
   ]
  },
  {
   "cell_type": "code",
   "execution_count": 163,
   "metadata": {},
   "outputs": [
    {
     "data": {
      "text/plain": [
       "'Python Course'"
      ]
     },
     "execution_count": 163,
     "metadata": {},
     "output_type": "execute_result"
    }
   ],
   "source": [
    "myfunc.myName\n",
    "#You can import anything as long as it's in the module"
   ]
  },
  {
   "cell_type": "markdown",
   "metadata": {},
   "source": [
    "## Practice functions"
   ]
  },
  {
   "cell_type": "code",
   "execution_count": 164,
   "metadata": {},
   "outputs": [],
   "source": [
    "\"\"\"\n",
    "Exercise:\n",
    "Given a list of numbers i.e [1, 2,4, -5, 7, 9, 3, 2], make another list that contains \n",
    "all the items in sorted order from minimum to maximum. The result will be another list.\n",
    "\"\"\"\n",
    "\n",
    "def findMin(L, startIndx):\n",
    "    \"\"\"This function finds the minimum value of a numeric list.\"\"\"\n",
    "    m = L[startIndx]\n",
    "    idx = startIndx\n",
    "    c = startIndx\n",
    "    for x in L:\n",
    "        if x < m:\n",
    "            m = x\n",
    "            idx = c\n",
    "        else: #The else and pass part is optional\n",
    "            pass\n",
    "        c += 1\n",
    "    return m, idx"
   ]
  },
  {
   "cell_type": "code",
   "execution_count": 165,
   "metadata": {},
   "outputs": [
    {
     "ename": "TypeError",
     "evalue": "findMin() missing 1 required positional argument: 'startIndx'",
     "output_type": "error",
     "traceback": [
      "\u001b[0;31m---------------------------------------------------------------------------\u001b[0m",
      "\u001b[0;31mTypeError\u001b[0m                                 Traceback (most recent call last)",
      "\u001b[0;32m<ipython-input-165-889ce1b2ae4c>\u001b[0m in \u001b[0;36m<module>\u001b[0;34m\u001b[0m\n\u001b[0;32m----> 1\u001b[0;31m \u001b[0ma\u001b[0m\u001b[0;34m,\u001b[0m\u001b[0mb\u001b[0m \u001b[0;34m=\u001b[0m \u001b[0mfindMin\u001b[0m\u001b[0;34m(\u001b[0m\u001b[0;34m[\u001b[0m\u001b[0;36m1\u001b[0m\u001b[0;34m,\u001b[0m\u001b[0;36m3\u001b[0m\u001b[0;34m,\u001b[0m\u001b[0;36m6\u001b[0m\u001b[0;34m,\u001b[0m\u001b[0;34m-\u001b[0m\u001b[0;36m4\u001b[0m\u001b[0;34m,\u001b[0m\u001b[0;36m28\u001b[0m\u001b[0;34m,\u001b[0m\u001b[0;36m68\u001b[0m\u001b[0;34m,\u001b[0m\u001b[0;34m-\u001b[0m\u001b[0;36m294\u001b[0m\u001b[0;34m]\u001b[0m\u001b[0;34m)\u001b[0m\u001b[0;34m\u001b[0m\u001b[0;34m\u001b[0m\u001b[0m\n\u001b[0m",
      "\u001b[0;31mTypeError\u001b[0m: findMin() missing 1 required positional argument: 'startIndx'"
     ]
    }
   ],
   "source": [
    "a,b = findMin([1,3,6,-4,28,68,-294])"
   ]
  },
  {
   "cell_type": "code",
   "execution_count": 166,
   "metadata": {},
   "outputs": [
    {
     "name": "stdout",
     "output_type": "stream",
     "text": [
      "1 -1\n"
     ]
    }
   ],
   "source": [
    "print(a,b)"
   ]
  },
  {
   "cell_type": "code",
   "execution_count": 167,
   "metadata": {},
   "outputs": [],
   "source": [
    "def swapVals(L, idx1, idx2):\n",
    "    \"\"\"This function will swap values in a list\"\"\"\n",
    "    tmp = L[idx1]\n",
    "    L[idx1] = L[idx2]\n",
    "    L[idx2] = tmp\n",
    "    return L"
   ]
  },
  {
   "cell_type": "code",
   "execution_count": 168,
   "metadata": {},
   "outputs": [
    {
     "name": "stdout",
     "output_type": "stream",
     "text": [
      "[2, 99, 6, 3]\n"
     ]
    }
   ],
   "source": [
    "L = [2,3,6,99]\n",
    "L2 = swapVals(L,1,3) #Swaps the second and 4th element in the list\n",
    "print(L2)"
   ]
  },
  {
   "cell_type": "code",
   "execution_count": 169,
   "metadata": {},
   "outputs": [],
   "source": [
    "from tutorial_function import checkNumeric\n",
    "\n",
    "def sortList(L):\n",
    "    if not(checkNumericVal(L)):\n",
    "        print(\"Error: List does not contain numeric values\")\n",
    "        return\n",
    "    else:\n",
    "        c = 0\n",
    "        for x in L:\n",
    "            m, idx = findMin(L, c)\n",
    "            L = swapVals(L,c,idx)\n",
    "            c += 1\n",
    "    return L    "
   ]
  },
  {
   "cell_type": "code",
   "execution_count": 170,
   "metadata": {},
   "outputs": [
    {
     "name": "stdout",
     "output_type": "stream",
     "text": [
      "[-8, 1, 5, 3, 2, 17]\n"
     ]
    }
   ],
   "source": [
    "L2 = sortList([2,1,5,3,-8,17])\n",
    "print(L2)"
   ]
  },
  {
   "cell_type": "code",
   "execution_count": 171,
   "metadata": {},
   "outputs": [],
   "source": [
    "def checkNumericVal(L):\n",
    "    \"\"\"This function will tell you if an argument is numeric\"\"\"\n",
    "    for x in L:\n",
    "        if not(isinstance(x,(int,float))):\n",
    "            return False\n",
    "    return True"
   ]
  },
  {
   "cell_type": "markdown",
   "metadata": {},
   "source": [
    "## Strings in Python"
   ]
  },
  {
   "cell_type": "code",
   "execution_count": 172,
   "metadata": {},
   "outputs": [
    {
     "name": "stdout",
     "output_type": "stream",
     "text": [
      "Strings are very useful and informative.\n"
     ]
    },
    {
     "data": {
      "text/plain": [
       "str"
      ]
     },
     "execution_count": 172,
     "metadata": {},
     "output_type": "execute_result"
    }
   ],
   "source": [
    "#Very powerful datatype in Python\n",
    "s = \"Strings are very useful\"\n",
    "t = \"informative.\"\n",
    "print(s+' and '+t) #The plus sign glues the two strings together, need an extra space when doing this\n",
    "type(t)"
   ]
  },
  {
   "cell_type": "code",
   "execution_count": 173,
   "metadata": {},
   "outputs": [
    {
     "name": "stdout",
     "output_type": "stream",
     "text": [
      "Strings are very usefulinformative.\n",
      "Strings are very useful, informative.\n"
     ]
    }
   ],
   "source": [
    "v = s+t\n",
    "print(v) #As you can see space is important as the strings just attach to eachother \n",
    "u = \", \"\n",
    "w = s+u+t\n",
    "print(w)"
   ]
  },
  {
   "cell_type": "code",
   "execution_count": 174,
   "metadata": {},
   "outputs": [
    {
     "name": "stdout",
     "output_type": "stream",
     "text": [
      "The price of this book is: £12\n"
     ]
    }
   ],
   "source": [
    "price = 12\n",
    "s = \"The price of this book\"\n",
    "v = s + ' is: £' + str(price) \n",
    "print(v) #The print function adds the space by default when different arguments are inputted."
   ]
  },
  {
   "cell_type": "code",
   "execution_count": 175,
   "metadata": {},
   "outputs": [
    {
     "name": "stdout",
     "output_type": "stream",
     "text": [
      "This is the first line,\n",
      "this is the second line,\n",
      "this is the final line.\n"
     ]
    }
   ],
   "source": [
    "multiLineString = \"\"\"This is the first line,\n",
    "this is the second line,\n",
    "this is the final line.\"\"\"\n",
    "print(multiLineString)\n",
    "#You can do longer strings and have more information to hand."
   ]
  },
  {
   "cell_type": "code",
   "execution_count": 176,
   "metadata": {},
   "outputs": [
    {
     "name": "stdout",
     "output_type": "stream",
     "text": [
      "The following options are available:\n",
      "a - Nothing\n",
      "b - Makes you watch Time Trap on Netflix\n"
     ]
    }
   ],
   "source": [
    "print(\"\"\"The following options are available:\n",
    "a - Nothing\n",
    "b - Makes you watch Time Trap on Netflix\"\"\")"
   ]
  },
  {
   "cell_type": "code",
   "execution_count": 177,
   "metadata": {},
   "outputs": [
    {
     "name": "stdout",
     "output_type": "stream",
     "text": [
      " and \n",
      "20\n",
      "How and who are you?\n",
      "are you?\n"
     ]
    }
   ],
   "source": [
    "#Indexing and Slicing\n",
    "a = \"How and who are you?\"\n",
    "print(a[3:8]) #The spaces are the 4th and 7th positions, H is index 0\n",
    "print(len(a))\n",
    "print(a[:]) #This prints the whole string when indexing\n",
    "print(a[-8:])"
   ]
  },
  {
   "cell_type": "code",
   "execution_count": 178,
   "metadata": {},
   "outputs": [
    {
     "ename": "TypeError",
     "evalue": "'str' object does not support item assignment",
     "output_type": "error",
     "traceback": [
      "\u001b[0;31m---------------------------------------------------------------------------\u001b[0m",
      "\u001b[0;31mTypeError\u001b[0m                                 Traceback (most recent call last)",
      "\u001b[0;32m<ipython-input-178-059d38b5109d>\u001b[0m in \u001b[0;36m<module>\u001b[0;34m\u001b[0m\n\u001b[1;32m      1\u001b[0m \u001b[0;31m#Strings are immutable, unchangeable and so you can't chance once created.\u001b[0m\u001b[0;34m\u001b[0m\u001b[0;34m\u001b[0m\u001b[0;34m\u001b[0m\u001b[0m\n\u001b[0;32m----> 2\u001b[0;31m \u001b[0ma\u001b[0m\u001b[0;34m[\u001b[0m\u001b[0;36m4\u001b[0m\u001b[0;34m]\u001b[0m \u001b[0;34m=\u001b[0m \u001b[0;34m\"m\"\u001b[0m\u001b[0;34m\u001b[0m\u001b[0;34m\u001b[0m\u001b[0m\n\u001b[0m",
      "\u001b[0;31mTypeError\u001b[0m: 'str' object does not support item assignment"
     ]
    }
   ],
   "source": [
    "#Strings are immutable, unchangeable and so you can't chance once created. \n",
    "a[4] = \"m\""
   ]
  },
  {
   "cell_type": "code",
   "execution_count": 179,
   "metadata": {},
   "outputs": [
    {
     "name": "stdout",
     "output_type": "stream",
     "text": [
      "Hwadwo\n",
      "How and who are you?\n"
     ]
    }
   ],
   "source": [
    "print(a[0:12:2]) #This starts at index 0 and then does this in jumps of 2 from 0-12\n",
    "print(a)\n",
    "#a[start:end:step]\n",
    "#If you don't mention the starting or ending index, it will assume you start from the start and so on."
   ]
  },
  {
   "cell_type": "code",
   "execution_count": 180,
   "metadata": {},
   "outputs": [
    {
     "name": "stdout",
     "output_type": "stream",
     "text": [
      "?uoy era ohw dna woH\n"
     ]
    },
    {
     "data": {
      "text/plain": [
       "20"
      ]
     },
     "execution_count": 180,
     "metadata": {},
     "output_type": "execute_result"
    }
   ],
   "source": [
    "print(a[::-1]) #This is how to type a string backwards\n",
    "len(a)"
   ]
  },
  {
   "cell_type": "code",
   "execution_count": 181,
   "metadata": {},
   "outputs": [
    {
     "name": "stdout",
     "output_type": "stream",
     "text": [
      "There are a Lot of     spaces in this string\n"
     ]
    }
   ],
   "source": [
    "#If you have a lot of space in a string you can use the strip function\n",
    "b = \"         There are a Lot of     spaces in this string      \"\n",
    "c = b.strip() #This removes only empty space at the beginning and end of the string\n",
    "print(c)"
   ]
  },
  {
   "cell_type": "code",
   "execution_count": 182,
   "metadata": {},
   "outputs": [
    {
     "name": "stdout",
     "output_type": "stream",
     "text": [
      "brexit means brexit\n",
      "BLACK LIVES MATTER.\n",
      "B*ExiT MeAnS B*eXiT\n"
     ]
    }
   ],
   "source": [
    "b = \"BrExiT MeAnS BreXiT\"\n",
    "c = b.lower() #This makes the string in all lower case \n",
    "print(c)\n",
    "d = \"black lives matter.\"\n",
    "e = d.upper() #This converts all the characters into upper case\n",
    "print(e)\n",
    "f = b.replace(\"r\",\"*\") #for the replace function you have to be case specific, working with c would be easier\n",
    "print(f)"
   ]
  },
  {
   "cell_type": "code",
   "execution_count": 183,
   "metadata": {},
   "outputs": [
    {
     "name": "stdout",
     "output_type": "stream",
     "text": [
      "['abc', 'def', 'hgyashd', 'wnf882']\n"
     ]
    }
   ],
   "source": [
    "a = \"abc;def;hgyashd;wnf882\"\n",
    "L = a.split(\";\") #This makes a list that splits the string whenever a semi colon is detected.\n",
    "print(L) #You can then index this list now "
   ]
  },
  {
   "cell_type": "code",
   "execution_count": 184,
   "metadata": {},
   "outputs": [
    {
     "name": "stdout",
     "output_type": "stream",
     "text": [
      "Help on class str in module builtins:\n",
      "\n",
      "class str(object)\n",
      " |  str(object='') -> str\n",
      " |  str(bytes_or_buffer[, encoding[, errors]]) -> str\n",
      " |  \n",
      " |  Create a new string object from the given object. If encoding or\n",
      " |  errors is specified, then the object must expose a data buffer\n",
      " |  that will be decoded using the given encoding and error handler.\n",
      " |  Otherwise, returns the result of object.__str__() (if defined)\n",
      " |  or repr(object).\n",
      " |  encoding defaults to sys.getdefaultencoding().\n",
      " |  errors defaults to 'strict'.\n",
      " |  \n",
      " |  Methods defined here:\n",
      " |  \n",
      " |  __add__(self, value, /)\n",
      " |      Return self+value.\n",
      " |  \n",
      " |  __contains__(self, key, /)\n",
      " |      Return key in self.\n",
      " |  \n",
      " |  __eq__(self, value, /)\n",
      " |      Return self==value.\n",
      " |  \n",
      " |  __format__(self, format_spec, /)\n",
      " |      Return a formatted version of the string as described by format_spec.\n",
      " |  \n",
      " |  __ge__(self, value, /)\n",
      " |      Return self>=value.\n",
      " |  \n",
      " |  __getattribute__(self, name, /)\n",
      " |      Return getattr(self, name).\n",
      " |  \n",
      " |  __getitem__(self, key, /)\n",
      " |      Return self[key].\n",
      " |  \n",
      " |  __getnewargs__(...)\n",
      " |  \n",
      " |  __gt__(self, value, /)\n",
      " |      Return self>value.\n",
      " |  \n",
      " |  __hash__(self, /)\n",
      " |      Return hash(self).\n",
      " |  \n",
      " |  __iter__(self, /)\n",
      " |      Implement iter(self).\n",
      " |  \n",
      " |  __le__(self, value, /)\n",
      " |      Return self<=value.\n",
      " |  \n",
      " |  __len__(self, /)\n",
      " |      Return len(self).\n",
      " |  \n",
      " |  __lt__(self, value, /)\n",
      " |      Return self<value.\n",
      " |  \n",
      " |  __mod__(self, value, /)\n",
      " |      Return self%value.\n",
      " |  \n",
      " |  __mul__(self, value, /)\n",
      " |      Return self*value.\n",
      " |  \n",
      " |  __ne__(self, value, /)\n",
      " |      Return self!=value.\n",
      " |  \n",
      " |  __repr__(self, /)\n",
      " |      Return repr(self).\n",
      " |  \n",
      " |  __rmod__(self, value, /)\n",
      " |      Return value%self.\n",
      " |  \n",
      " |  __rmul__(self, value, /)\n",
      " |      Return value*self.\n",
      " |  \n",
      " |  __sizeof__(self, /)\n",
      " |      Return the size of the string in memory, in bytes.\n",
      " |  \n",
      " |  __str__(self, /)\n",
      " |      Return str(self).\n",
      " |  \n",
      " |  capitalize(self, /)\n",
      " |      Return a capitalized version of the string.\n",
      " |      \n",
      " |      More specifically, make the first character have upper case and the rest lower\n",
      " |      case.\n",
      " |  \n",
      " |  casefold(self, /)\n",
      " |      Return a version of the string suitable for caseless comparisons.\n",
      " |  \n",
      " |  center(self, width, fillchar=' ', /)\n",
      " |      Return a centered string of length width.\n",
      " |      \n",
      " |      Padding is done using the specified fill character (default is a space).\n",
      " |  \n",
      " |  count(...)\n",
      " |      S.count(sub[, start[, end]]) -> int\n",
      " |      \n",
      " |      Return the number of non-overlapping occurrences of substring sub in\n",
      " |      string S[start:end].  Optional arguments start and end are\n",
      " |      interpreted as in slice notation.\n",
      " |  \n",
      " |  encode(self, /, encoding='utf-8', errors='strict')\n",
      " |      Encode the string using the codec registered for encoding.\n",
      " |      \n",
      " |      encoding\n",
      " |        The encoding in which to encode the string.\n",
      " |      errors\n",
      " |        The error handling scheme to use for encoding errors.\n",
      " |        The default is 'strict' meaning that encoding errors raise a\n",
      " |        UnicodeEncodeError.  Other possible values are 'ignore', 'replace' and\n",
      " |        'xmlcharrefreplace' as well as any other name registered with\n",
      " |        codecs.register_error that can handle UnicodeEncodeErrors.\n",
      " |  \n",
      " |  endswith(...)\n",
      " |      S.endswith(suffix[, start[, end]]) -> bool\n",
      " |      \n",
      " |      Return True if S ends with the specified suffix, False otherwise.\n",
      " |      With optional start, test S beginning at that position.\n",
      " |      With optional end, stop comparing S at that position.\n",
      " |      suffix can also be a tuple of strings to try.\n",
      " |  \n",
      " |  expandtabs(self, /, tabsize=8)\n",
      " |      Return a copy where all tab characters are expanded using spaces.\n",
      " |      \n",
      " |      If tabsize is not given, a tab size of 8 characters is assumed.\n",
      " |  \n",
      " |  find(...)\n",
      " |      S.find(sub[, start[, end]]) -> int\n",
      " |      \n",
      " |      Return the lowest index in S where substring sub is found,\n",
      " |      such that sub is contained within S[start:end].  Optional\n",
      " |      arguments start and end are interpreted as in slice notation.\n",
      " |      \n",
      " |      Return -1 on failure.\n",
      " |  \n",
      " |  format(...)\n",
      " |      S.format(*args, **kwargs) -> str\n",
      " |      \n",
      " |      Return a formatted version of S, using substitutions from args and kwargs.\n",
      " |      The substitutions are identified by braces ('{' and '}').\n",
      " |  \n",
      " |  format_map(...)\n",
      " |      S.format_map(mapping) -> str\n",
      " |      \n",
      " |      Return a formatted version of S, using substitutions from mapping.\n",
      " |      The substitutions are identified by braces ('{' and '}').\n",
      " |  \n",
      " |  index(...)\n",
      " |      S.index(sub[, start[, end]]) -> int\n",
      " |      \n",
      " |      Return the lowest index in S where substring sub is found, \n",
      " |      such that sub is contained within S[start:end].  Optional\n",
      " |      arguments start and end are interpreted as in slice notation.\n",
      " |      \n",
      " |      Raises ValueError when the substring is not found.\n",
      " |  \n",
      " |  isalnum(self, /)\n",
      " |      Return True if the string is an alpha-numeric string, False otherwise.\n",
      " |      \n",
      " |      A string is alpha-numeric if all characters in the string are alpha-numeric and\n",
      " |      there is at least one character in the string.\n",
      " |  \n",
      " |  isalpha(self, /)\n",
      " |      Return True if the string is an alphabetic string, False otherwise.\n",
      " |      \n",
      " |      A string is alphabetic if all characters in the string are alphabetic and there\n",
      " |      is at least one character in the string.\n",
      " |  \n",
      " |  isascii(self, /)\n",
      " |      Return True if all characters in the string are ASCII, False otherwise.\n",
      " |      \n",
      " |      ASCII characters have code points in the range U+0000-U+007F.\n",
      " |      Empty string is ASCII too.\n",
      " |  \n",
      " |  isdecimal(self, /)\n",
      " |      Return True if the string is a decimal string, False otherwise.\n",
      " |      \n",
      " |      A string is a decimal string if all characters in the string are decimal and\n",
      " |      there is at least one character in the string.\n",
      " |  \n",
      " |  isdigit(self, /)\n",
      " |      Return True if the string is a digit string, False otherwise.\n",
      " |      \n",
      " |      A string is a digit string if all characters in the string are digits and there\n",
      " |      is at least one character in the string.\n",
      " |  \n",
      " |  isidentifier(self, /)\n",
      " |      Return True if the string is a valid Python identifier, False otherwise.\n",
      " |      \n",
      " |      Use keyword.iskeyword() to test for reserved identifiers such as \"def\" and\n",
      " |      \"class\".\n",
      " |  \n",
      " |  islower(self, /)\n",
      " |      Return True if the string is a lowercase string, False otherwise.\n",
      " |      \n",
      " |      A string is lowercase if all cased characters in the string are lowercase and\n",
      " |      there is at least one cased character in the string.\n",
      " |  \n",
      " |  isnumeric(self, /)\n",
      " |      Return True if the string is a numeric string, False otherwise.\n",
      " |      \n",
      " |      A string is numeric if all characters in the string are numeric and there is at\n",
      " |      least one character in the string.\n",
      " |  \n",
      " |  isprintable(self, /)\n",
      " |      Return True if the string is printable, False otherwise.\n",
      " |      \n",
      " |      A string is printable if all of its characters are considered printable in\n",
      " |      repr() or if it is empty.\n",
      " |  \n",
      " |  isspace(self, /)\n",
      " |      Return True if the string is a whitespace string, False otherwise.\n",
      " |      \n",
      " |      A string is whitespace if all characters in the string are whitespace and there\n",
      " |      is at least one character in the string.\n",
      " |  \n",
      " |  istitle(self, /)\n",
      " |      Return True if the string is a title-cased string, False otherwise.\n",
      " |      \n",
      " |      In a title-cased string, upper- and title-case characters may only\n",
      " |      follow uncased characters and lowercase characters only cased ones.\n",
      " |  \n",
      " |  isupper(self, /)\n",
      " |      Return True if the string is an uppercase string, False otherwise.\n",
      " |      \n",
      " |      A string is uppercase if all cased characters in the string are uppercase and\n",
      " |      there is at least one cased character in the string.\n",
      " |  \n",
      " |  join(self, iterable, /)\n",
      " |      Concatenate any number of strings.\n",
      " |      \n",
      " |      The string whose method is called is inserted in between each given string.\n",
      " |      The result is returned as a new string.\n",
      " |      \n",
      " |      Example: '.'.join(['ab', 'pq', 'rs']) -> 'ab.pq.rs'\n",
      " |  \n",
      " |  ljust(self, width, fillchar=' ', /)\n",
      " |      Return a left-justified string of length width.\n",
      " |      \n",
      " |      Padding is done using the specified fill character (default is a space).\n",
      " |  \n",
      " |  lower(self, /)\n",
      " |      Return a copy of the string converted to lowercase.\n",
      " |  \n",
      " |  lstrip(self, chars=None, /)\n",
      " |      Return a copy of the string with leading whitespace removed.\n",
      " |      \n",
      " |      If chars is given and not None, remove characters in chars instead.\n",
      " |  \n",
      " |  partition(self, sep, /)\n",
      " |      Partition the string into three parts using the given separator.\n",
      " |      \n",
      " |      This will search for the separator in the string.  If the separator is found,\n",
      " |      returns a 3-tuple containing the part before the separator, the separator\n",
      " |      itself, and the part after it.\n",
      " |      \n",
      " |      If the separator is not found, returns a 3-tuple containing the original string\n",
      " |      and two empty strings.\n",
      " |  \n",
      " |  replace(self, old, new, count=-1, /)\n",
      " |      Return a copy with all occurrences of substring old replaced by new.\n",
      " |      \n",
      " |        count\n",
      " |          Maximum number of occurrences to replace.\n",
      " |          -1 (the default value) means replace all occurrences.\n",
      " |      \n",
      " |      If the optional argument count is given, only the first count occurrences are\n",
      " |      replaced.\n",
      " |  \n",
      " |  rfind(...)\n",
      " |      S.rfind(sub[, start[, end]]) -> int\n",
      " |      \n",
      " |      Return the highest index in S where substring sub is found,\n",
      " |      such that sub is contained within S[start:end].  Optional\n",
      " |      arguments start and end are interpreted as in slice notation.\n",
      " |      \n",
      " |      Return -1 on failure.\n",
      " |  \n",
      " |  rindex(...)\n",
      " |      S.rindex(sub[, start[, end]]) -> int\n",
      " |      \n",
      " |      Return the highest index in S where substring sub is found,\n",
      " |      such that sub is contained within S[start:end].  Optional\n",
      " |      arguments start and end are interpreted as in slice notation.\n",
      " |      \n",
      " |      Raises ValueError when the substring is not found.\n",
      " |  \n",
      " |  rjust(self, width, fillchar=' ', /)\n",
      " |      Return a right-justified string of length width.\n",
      " |      \n",
      " |      Padding is done using the specified fill character (default is a space).\n",
      " |  \n",
      " |  rpartition(self, sep, /)\n",
      " |      Partition the string into three parts using the given separator.\n",
      " |      \n",
      " |      This will search for the separator in the string, starting at the end. If\n",
      " |      the separator is found, returns a 3-tuple containing the part before the\n",
      " |      separator, the separator itself, and the part after it.\n",
      " |      \n",
      " |      If the separator is not found, returns a 3-tuple containing two empty strings\n",
      " |      and the original string.\n",
      " |  \n",
      " |  rsplit(self, /, sep=None, maxsplit=-1)\n",
      " |      Return a list of the words in the string, using sep as the delimiter string.\n",
      " |      \n",
      " |        sep\n",
      " |          The delimiter according which to split the string.\n",
      " |          None (the default value) means split according to any whitespace,\n",
      " |          and discard empty strings from the result.\n",
      " |        maxsplit\n",
      " |          Maximum number of splits to do.\n",
      " |          -1 (the default value) means no limit.\n",
      " |      \n",
      " |      Splits are done starting at the end of the string and working to the front.\n",
      " |  \n",
      " |  rstrip(self, chars=None, /)\n",
      " |      Return a copy of the string with trailing whitespace removed.\n",
      " |      \n",
      " |      If chars is given and not None, remove characters in chars instead.\n",
      " |  \n",
      " |  split(self, /, sep=None, maxsplit=-1)\n",
      " |      Return a list of the words in the string, using sep as the delimiter string.\n",
      " |      \n",
      " |      sep\n",
      " |        The delimiter according which to split the string.\n",
      " |        None (the default value) means split according to any whitespace,\n",
      " |        and discard empty strings from the result.\n",
      " |      maxsplit\n",
      " |        Maximum number of splits to do.\n",
      " |        -1 (the default value) means no limit.\n",
      " |  \n",
      " |  splitlines(self, /, keepends=False)\n",
      " |      Return a list of the lines in the string, breaking at line boundaries.\n",
      " |      \n",
      " |      Line breaks are not included in the resulting list unless keepends is given and\n",
      " |      true.\n",
      " |  \n",
      " |  startswith(...)\n",
      " |      S.startswith(prefix[, start[, end]]) -> bool\n",
      " |      \n",
      " |      Return True if S starts with the specified prefix, False otherwise.\n",
      " |      With optional start, test S beginning at that position.\n",
      " |      With optional end, stop comparing S at that position.\n",
      " |      prefix can also be a tuple of strings to try.\n",
      " |  \n",
      " |  strip(self, chars=None, /)\n",
      " |      Return a copy of the string with leading and trailing whitespace remove.\n",
      " |      \n",
      " |      If chars is given and not None, remove characters in chars instead.\n",
      " |  \n",
      " |  swapcase(self, /)\n",
      " |      Convert uppercase characters to lowercase and lowercase characters to uppercase.\n",
      " |  \n",
      " |  title(self, /)\n",
      " |      Return a version of the string where each word is titlecased.\n",
      " |      \n",
      " |      More specifically, words start with uppercased characters and all remaining\n",
      " |      cased characters have lower case.\n",
      " |  \n",
      " |  translate(self, table, /)\n",
      " |      Replace each character in the string using the given translation table.\n",
      " |      \n",
      " |        table\n",
      " |          Translation table, which must be a mapping of Unicode ordinals to\n",
      " |          Unicode ordinals, strings, or None.\n",
      " |      \n",
      " |      The table must implement lookup/indexing via __getitem__, for instance a\n",
      " |      dictionary or list.  If this operation raises LookupError, the character is\n",
      " |      left untouched.  Characters mapped to None are deleted.\n",
      " |  \n",
      " |  upper(self, /)\n",
      " |      Return a copy of the string converted to uppercase.\n",
      " |  \n",
      " |  zfill(self, width, /)\n",
      " |      Pad a numeric string with zeros on the left, to fill a field of the given width.\n",
      " |      \n",
      " |      The string is never truncated.\n",
      " |  \n",
      " |  ----------------------------------------------------------------------\n",
      " |  Static methods defined here:\n",
      " |  \n",
      " |  __new__(*args, **kwargs) from builtins.type\n",
      " |      Create and return a new object.  See help(type) for accurate signature.\n",
      " |  \n",
      " |  maketrans(x, y=None, z=None, /)\n",
      " |      Return a translation table usable for str.translate().\n",
      " |      \n",
      " |      If there is only one argument, it must be a dictionary mapping Unicode\n",
      " |      ordinals (integers) or characters to Unicode ordinals, strings or None.\n",
      " |      Character keys will be then converted to ordinals.\n",
      " |      If there are two arguments, they must be strings of equal length, and\n",
      " |      in the resulting dictionary, each character in x will be mapped to the\n",
      " |      character at the same position in y. If there is a third argument, it\n",
      " |      must be a string, whose characters will be mapped to None in the result.\n",
      "\n"
     ]
    }
   ],
   "source": [
    "\"\"\"\n",
    "There are many things you can do with strings, to see the full amount of options without\n",
    "having to google and conduct further research you can do this in the Jupyter Notebook.\n",
    "Using the help function gives you a list without having to go anywhere.\n",
    "\"\"\"\n",
    "help(str) \n",
    " "
   ]
  },
  {
   "cell_type": "code",
   "execution_count": 185,
   "metadata": {},
   "outputs": [
    {
     "data": {
      "text/plain": [
       "'Black lives matter.'"
      ]
     },
     "execution_count": 185,
     "metadata": {},
     "output_type": "execute_result"
    }
   ],
   "source": [
    "d.capitalize()\n",
    "#This capitalises the first character rather than making all of the string in uppercase\n",
    "#This was able to be "
   ]
  },
  {
   "cell_type": "code",
   "execution_count": 186,
   "metadata": {},
   "outputs": [
    {
     "data": {
      "text/plain": [
       "True"
      ]
     },
     "execution_count": 186,
     "metadata": {},
     "output_type": "execute_result"
    }
   ],
   "source": [
    "#You can use booleans to see if phrases or words are in strings\n",
    "a = \"Alec Shelbrooke is an incel\"\n",
    "\"incel\" in \"Alec Shelbrooke is an incel\"\n"
   ]
  },
  {
   "cell_type": "code",
   "execution_count": 187,
   "metadata": {},
   "outputs": [
    {
     "data": {
      "text/plain": [
       "True"
      ]
     },
     "execution_count": 187,
     "metadata": {},
     "output_type": "execute_result"
    }
   ],
   "source": [
    "\"incel\" in a"
   ]
  },
  {
   "cell_type": "code",
   "execution_count": 188,
   "metadata": {},
   "outputs": [
    {
     "data": {
      "text/plain": [
       "True"
      ]
     },
     "execution_count": 188,
     "metadata": {},
     "output_type": "execute_result"
    }
   ],
   "source": [
    "\"abc\" == \"abc\""
   ]
  },
  {
   "cell_type": "code",
   "execution_count": 189,
   "metadata": {},
   "outputs": [
    {
     "data": {
      "text/plain": [
       "False"
      ]
     },
     "execution_count": 189,
     "metadata": {},
     "output_type": "execute_result"
    }
   ],
   "source": [
    "\"abc\" > \"defg\" "
   ]
  },
  {
   "cell_type": "code",
   "execution_count": 190,
   "metadata": {},
   "outputs": [
    {
     "data": {
      "text/plain": [
       "True"
      ]
     },
     "execution_count": 190,
     "metadata": {},
     "output_type": "execute_result"
    }
   ],
   "source": [
    "\"abc\" < \"def\"\n",
    "#Does this with string length and alphabetic order"
   ]
  },
  {
   "cell_type": "code",
   "execution_count": 191,
   "metadata": {},
   "outputs": [
    {
     "ename": "SyntaxError",
     "evalue": "invalid syntax (<ipython-input-191-9910bc1e4dbe>, line 1)",
     "output_type": "error",
     "traceback": [
      "\u001b[0;36m  File \u001b[0;32m\"<ipython-input-191-9910bc1e4dbe>\"\u001b[0;36m, line \u001b[0;32m1\u001b[0m\n\u001b[0;31m    print(\"we are learning\"string\"here\")\u001b[0m\n\u001b[0m                                ^\u001b[0m\n\u001b[0;31mSyntaxError\u001b[0m\u001b[0;31m:\u001b[0m invalid syntax\n"
     ]
    }
   ],
   "source": [
    "print(\"we are learning\"string\"here\") "
   ]
  },
  {
   "cell_type": "code",
   "execution_count": 192,
   "metadata": {},
   "outputs": [
    {
     "name": "stdout",
     "output_type": "stream",
     "text": [
      "we are learning \"strings\" here\n",
      "we are learning \"strings\" here\n",
      "line one \n",
      "line two\n",
      "c:/Users/aadil/Downloads/Python\\novels\n"
     ]
    }
   ],
   "source": [
    "print(\"we are learning \\\"strings\\\" here\") #The back slash highlights this\n",
    "print('we are learning \"strings\" here') #Less convoluted with single and double quotes\n",
    "print(\"line one \\nline two\") #How to do a multi line string with short strings\n",
    "print(r\"c:/Users/aadil/Downloads/Python\\novels\") #The r\"string\" allows you to print a raw string if you have a \\n in and don't want to make a new line "
   ]
  },
  {
   "cell_type": "markdown",
   "metadata": {},
   "source": [
    "# Data Structures\n",
    "\n",
    "### Lists: Ordered, Muteable, Allows Duplicates\n",
    "### Tuples: Ordered, Immuteable, Allows Duplicates\n",
    "### Sets: Unordered, addable/removeable, No Duplicates\n",
    "### Dictionary: Unordered, Muteable, No Duplicates"
   ]
  },
  {
   "cell_type": "code",
   "execution_count": 193,
   "metadata": {},
   "outputs": [
    {
     "name": "stdout",
     "output_type": "stream",
     "text": [
      "The data structure of L is: <class 'list'>\n",
      "The data structure of T is: <class 'tuple'>\n",
      "The data structure of S is: <class 'set'>\n",
      "The data structure of D is: <class 'dict'>\n"
     ]
    }
   ],
   "source": [
    "L = [1,3,4,9,\"name\",5,3,2+4j,4.9,True] \n",
    "\"\"\"\n",
    "You define a list by using square brackets and different elements are separated by a comma.\n",
    "You can have multiple data types in the list.\n",
    "\"\"\"\n",
    "print(\"The data structure of L is:\",type(L))\n",
    "\n",
    "T = (1,3,4.9,\"name\",3)\n",
    "\"\"\" Tuples have normal brackets \"\"\"\n",
    "print(\"The data structure of T is:\",type(T))\n",
    "\n",
    "S = {1,3,4.9,\"name\",3}\n",
    "\"\"\" Sets have curly brackets, the duplicate 3 will not show when we call this later. \"\"\"\n",
    "print(\"The data structure of S is:\",type(S))\n",
    "\n",
    "D = {23:\"twothree\", \"LEE\":\"Leeds United\", \"THz-TDS\":\"Terahertz Time Domain Spectroscopy\"}\n",
    "\"\"\" \n",
    "Dictionary's operate in pairs separated by a colon as keys which can be of different data\n",
    "types to eachother, the main difference is in a dictionary where 1 element consists of 2 vals.\n",
    "\"\"\"\n",
    "print(\"The data structure of D is:\",type(D))"
   ]
  },
  {
   "cell_type": "code",
   "execution_count": 194,
   "metadata": {},
   "outputs": [
    {
     "name": "stdout",
     "output_type": "stream",
     "text": [
      "1\n",
      "1\n",
      "True\n"
     ]
    },
    {
     "data": {
      "text/plain": [
       "'Leeds United'"
      ]
     },
     "execution_count": 194,
     "metadata": {},
     "output_type": "execute_result"
    }
   ],
   "source": [
    "\"\"\" To access different elements from these data structures\n",
    "    Lists and Tuples can be indexed\n",
    "    Sets however can not be indexed but you can check if an element is in there\n",
    "    To access the element in a dictionary you need to input the key to get the value\n",
    "    All of these data structures can contain eachother e.g a list in a tuple in a set...\n",
    "\"\"\"\n",
    "\n",
    "print(L[0])\n",
    "print(T[0])\n",
    "print(\"name\" in S)\n",
    "D[\"LEE\"] #Only the key works, you can't use the value to get the key."
   ]
  },
  {
   "cell_type": "code",
   "execution_count": 195,
   "metadata": {},
   "outputs": [
    {
     "name": "stdout",
     "output_type": "stream",
     "text": [
      "[1, 3, 4, 9, 'name', 5, 3, (2+4j), 4.9, True]\n",
      "[3, 4]\n"
     ]
    }
   ],
   "source": [
    "#Lists and Tuples are easily indexable like strings but you can't change a tuple\n",
    "#Indexing in python is usually identical with data types.\n",
    "print(L)\n",
    "print(L[1:3])"
   ]
  },
  {
   "cell_type": "code",
   "execution_count": 196,
   "metadata": {},
   "outputs": [
    {
     "name": "stdout",
     "output_type": "stream",
     "text": [
      "(1, 3, 4.9, 'name', 3)\n",
      "(3, 'name', 4.9, 3, 1)\n"
     ]
    }
   ],
   "source": [
    "print(T)\n",
    "print(T[::-1])"
   ]
  },
  {
   "cell_type": "code",
   "execution_count": 197,
   "metadata": {},
   "outputs": [
    {
     "name": "stdout",
     "output_type": "stream",
     "text": [
      "[1, 3, 4, 9, 'name', 5, 3, (2+4j), 4.9, True, False]\n"
     ]
    }
   ],
   "source": [
    "#You can add to a list in the same way that you can add to a string\n",
    "L = L + [False]\n",
    "print(L)"
   ]
  },
  {
   "cell_type": "code",
   "execution_count": 198,
   "metadata": {},
   "outputs": [
    {
     "name": "stdout",
     "output_type": "stream",
     "text": [
      "(1, 3, 4.9, 'name', 3, 'Tuple 2', 2)\n"
     ]
    }
   ],
   "source": [
    "#You can't do insert anything into a tuple, you can combine two tuples together by adding\n",
    "T1 = (\"Tuple 2\",2) #Must not be only one variable in the other tuple\n",
    "T2 = T + T1\n",
    "print(T2)"
   ]
  },
  {
   "cell_type": "code",
   "execution_count": 199,
   "metadata": {},
   "outputs": [
    {
     "name": "stdout",
     "output_type": "stream",
     "text": [
      "{1, 3, 4.9, 'name'}\n",
      "{'New Item', 1, 3, 4.9, 'name'}\n"
     ]
    }
   ],
   "source": [
    "#To add to a set you have to use the .add function\n",
    "#to add multiple items the .update function is used\n",
    "print(S)\n",
    "S.add('New Item')\n",
    "print(S)"
   ]
  },
  {
   "cell_type": "code",
   "execution_count": 200,
   "metadata": {},
   "outputs": [
    {
     "name": "stdout",
     "output_type": "stream",
     "text": [
      "{23: 'twothree', 'LEE': 'Leeds United', 'THz-TDS': 'Terahertz Time Domain Spectroscopy'}\n",
      "{23: 'twothree', 'LEE': 'Leeds United', 'THz-TDS': 'Terahertz Time Domain Spectroscopy', 'PCA': 'Photoconductive Antannae'}\n"
     ]
    }
   ],
   "source": [
    "#To add a new key in a dictionary you assign it.\n",
    "print(D)\n",
    "D[\"PCA\"] = \"Photoconductive Antannae\"\n",
    "print(D)\n",
    "# D[\"New Key\"] = \"New Value\""
   ]
  },
  {
   "cell_type": "code",
   "execution_count": 201,
   "metadata": {},
   "outputs": [
    {
     "name": "stdout",
     "output_type": "stream",
     "text": [
      "[1, 3, 4, 9, 'name', 5, 3, (2+4j), 4.9, True, False]\n",
      "[1, 4, 9, 'name', 5, 3, (2+4j), 4.9, True, False]\n",
      "(1, 3, 4.9, 'name', 3, 'Tuple 2', 2)\n",
      "{'New Item', 1, 3, 4.9, 'name'}\n",
      "{'New Item', 1, 3, 'name'}\n",
      "{23: 'twothree', 'LEE': 'Leeds United', 'THz-TDS': 'Terahertz Time Domain Spectroscopy', 'PCA': 'Photoconductive Antannae'}\n",
      "{'LEE': 'Leeds United', 'THz-TDS': 'Terahertz Time Domain Spectroscopy', 'PCA': 'Photoconductive Antannae'}\n"
     ]
    }
   ],
   "source": [
    "#Deleting items \n",
    "\n",
    "print(L)\n",
    "del L[1] #You can also delete the entire list, this deleted the second element\n",
    "print(L)\n",
    "\n",
    "#You can't delete individual items in a tuple as it is immutable, you can only delete the tuple.\n",
    "print(T2)\n",
    "del T2\n",
    "\n",
    "#For a set the .remove function is used\n",
    "print(S)\n",
    "S.remove(4.9)\n",
    "print(S)\n",
    "\n",
    "#For a dictionary you delete the key \n",
    "print(D)\n",
    "del D[23]\n",
    "print(D)\n",
    "\n",
    "#There are many other ways to do this but these are the most similar to eachother.\n",
    "\n"
   ]
  },
  {
   "cell_type": "code",
   "execution_count": 202,
   "metadata": {},
   "outputs": [
    {
     "name": "stdout",
     "output_type": "stream",
     "text": [
      "[1, 4, 9, 'name', 5, 3, (2+4j), 4.9, True, False, 'first', 'second', 'third', 'fourth']\n"
     ]
    }
   ],
   "source": [
    "L = L + [\"first\",\"second\",\"third\"] #Add multiple elements\n",
    "L.append(\"fourth\") #Add only a single element\n",
    "print(L)"
   ]
  },
  {
   "cell_type": "code",
   "execution_count": 203,
   "metadata": {},
   "outputs": [
    {
     "name": "stdout",
     "output_type": "stream",
     "text": [
      "(1, 3, 4.9, 'name', 3, 'a', 'b', 73)\n"
     ]
    }
   ],
   "source": [
    "T2 = (\"a\", \"b\", 73)\n",
    "T3 = T + T2\n",
    "print(T3)"
   ]
  },
  {
   "cell_type": "code",
   "execution_count": 204,
   "metadata": {},
   "outputs": [
    {
     "name": "stdout",
     "output_type": "stream",
     "text": [
      "{'New Item', 1, 'Pak Choi', 3, 47, 'Nani!!', 'name'}\n",
      "{1, 'Pak Choi', 3, 47, 'Nani!!', 'name'}\n"
     ]
    }
   ],
   "source": [
    "S.update({47,\"Pak Choi\",\"Nani!!\",1}) #The .update function allows you to add multuple \n",
    "print(S) # 1 was already in the set, when we add it again it does not make a difference.\n",
    "S.remove(\"New Item\") #This removes only one item\n",
    "print(S)"
   ]
  },
  {
   "cell_type": "code",
   "execution_count": 205,
   "metadata": {},
   "outputs": [
    {
     "data": {
      "text/plain": [
       "{'LEE': 'Leeds United',\n",
       " 'THz-TDS': 'Terahertz Time Domain Spectroscopy',\n",
       " 'PCA': 'Photoconductive Antannae'}"
      ]
     },
     "execution_count": 205,
     "metadata": {},
     "output_type": "execute_result"
    }
   ],
   "source": [
    "D"
   ]
  },
  {
   "cell_type": "code",
   "execution_count": 206,
   "metadata": {},
   "outputs": [
    {
     "ename": "TypeError",
     "evalue": "unsupported operand type(s) for +: 'dict' and 'dict'",
     "output_type": "error",
     "traceback": [
      "\u001b[0;31m---------------------------------------------------------------------------\u001b[0m",
      "\u001b[0;31mTypeError\u001b[0m                                 Traceback (most recent call last)",
      "\u001b[0;32m<ipython-input-206-7fcb3f4f2269>\u001b[0m in \u001b[0;36m<module>\u001b[0;34m\u001b[0m\n\u001b[1;32m      1\u001b[0m \u001b[0mD1\u001b[0m \u001b[0;34m=\u001b[0m \u001b[0;34m{\u001b[0m\u001b[0;34m\"y\"\u001b[0m\u001b[0;34m:\u001b[0m\u001b[0;34m\"yy\"\u001b[0m\u001b[0;34m,\u001b[0m\u001b[0;34m\"z\"\u001b[0m\u001b[0;34m:\u001b[0m\u001b[0;36m10\u001b[0m\u001b[0;34m}\u001b[0m\u001b[0;34m\u001b[0m\u001b[0;34m\u001b[0m\u001b[0m\n\u001b[0;32m----> 2\u001b[0;31m \u001b[0mD2\u001b[0m \u001b[0;34m=\u001b[0m \u001b[0mD1\u001b[0m \u001b[0;34m+\u001b[0m \u001b[0mD\u001b[0m\u001b[0;34m\u001b[0m\u001b[0;34m\u001b[0m\u001b[0m\n\u001b[0m\u001b[1;32m      3\u001b[0m \u001b[0mprint\u001b[0m\u001b[0;34m(\u001b[0m\u001b[0mD\u001b[0m\u001b[0;34m)\u001b[0m \u001b[0;31m#You can't simply add dictionaries together\u001b[0m\u001b[0;34m\u001b[0m\u001b[0;34m\u001b[0m\u001b[0m\n",
      "\u001b[0;31mTypeError\u001b[0m: unsupported operand type(s) for +: 'dict' and 'dict'"
     ]
    }
   ],
   "source": [
    "D1 = {\"y\":\"yy\",\"z\":10}\n",
    "D2 = D1 + D\n",
    "print(D) #You can't simply add dictionaries together "
   ]
  },
  {
   "cell_type": "code",
   "execution_count": 207,
   "metadata": {},
   "outputs": [
    {
     "name": "stdout",
     "output_type": "stream",
     "text": [
      "{'LEE': 'Leeds United', 'THz-TDS': 'Terahertz Time Domain Spectroscopy', 'PCA': 'Photoconductive Antannae', 'y': 'yy', 'z': 10}\n"
     ]
    }
   ],
   "source": [
    "#Instead we use the update function to insert the dictionary into the other one \n",
    "D.update(D1)\n",
    "print(D)"
   ]
  },
  {
   "cell_type": "code",
   "execution_count": 208,
   "metadata": {},
   "outputs": [
    {
     "name": "stdout",
     "output_type": "stream",
     "text": [
      "[1, 4, 9, 'name', 5, 3, (2+4j), 4.9, True, False, 'first', 'second', 'third', 'fourth']\n"
     ]
    }
   ],
   "source": [
    "print(L)"
   ]
  },
  {
   "cell_type": "code",
   "execution_count": 209,
   "metadata": {},
   "outputs": [],
   "source": [
    "L2 = L"
   ]
  },
  {
   "cell_type": "code",
   "execution_count": 210,
   "metadata": {},
   "outputs": [
    {
     "name": "stdout",
     "output_type": "stream",
     "text": [
      "[1, 4, 9, 'name', 5, 3, (2+4j), 4.9, True, False, 'first', 'second', 'third', 'fourth']\n"
     ]
    }
   ],
   "source": [
    "print(L2)"
   ]
  },
  {
   "cell_type": "code",
   "execution_count": 211,
   "metadata": {},
   "outputs": [],
   "source": [
    "L2[2] = \"nine\""
   ]
  },
  {
   "cell_type": "code",
   "execution_count": 212,
   "metadata": {
    "scrolled": true
   },
   "outputs": [
    {
     "name": "stdout",
     "output_type": "stream",
     "text": [
      "[1, 4, 'nine', 'name', 5, 3, (2+4j), 4.9, True, False, 'first', 'second', 'third', 'fourth']\n"
     ]
    }
   ],
   "source": [
    "print(L2)"
   ]
  },
  {
   "cell_type": "code",
   "execution_count": 213,
   "metadata": {},
   "outputs": [],
   "source": [
    "L\n",
    "#Referencing, creates new datat for the same information\n",
    "#The .copy function would make the lists independent from one another\n",
    "L2 = L.copy()"
   ]
  },
  {
   "cell_type": "code",
   "execution_count": 214,
   "metadata": {},
   "outputs": [
    {
     "name": "stdout",
     "output_type": "stream",
     "text": [
      "[1, 4, 'nine', 'name', 5, 3, (2+4j), 4.9, True, False, 'first', 'second', 'third', 'fourth']\n",
      "[1, 4, 9, 'name', 5, 3, (2+4j), 4.9, True, False, 'first', 'second', 'third', 'fourth']\n"
     ]
    }
   ],
   "source": [
    "L2[2] = 9\n",
    "print(L)\n",
    "print(L2)"
   ]
  },
  {
   "cell_type": "code",
   "execution_count": 215,
   "metadata": {},
   "outputs": [],
   "source": [
    "L3 = L[3:] #Slicing"
   ]
  },
  {
   "cell_type": "code",
   "execution_count": 216,
   "metadata": {},
   "outputs": [
    {
     "name": "stdout",
     "output_type": "stream",
     "text": [
      "['name', 5, 3, (2+4j), 4.9, True, False, 'first', 'second', 'third', 'fourth']\n"
     ]
    }
   ],
   "source": [
    "print(L3)"
   ]
  },
  {
   "cell_type": "code",
   "execution_count": 217,
   "metadata": {},
   "outputs": [
    {
     "name": "stdout",
     "output_type": "stream",
     "text": [
      "['one', 5, 3, (2+4j), 4.9, True, False, 'first', 'second', 'third', '4th']\n",
      "[1, 4, 'nine', 'name', 5, 3, (2+4j), 4.9, True, False, 'first', 'second', 'third', 'fourth']\n"
     ]
    }
   ],
   "source": [
    "L3[0] = \"one\"\n",
    "L3[-1] = \"4th\"\n",
    "print(L3)\n",
    "print(L)"
   ]
  },
  {
   "cell_type": "code",
   "execution_count": 218,
   "metadata": {},
   "outputs": [
    {
     "name": "stdout",
     "output_type": "stream",
     "text": [
      "Help on built-in function append:\n",
      "\n",
      "append(object, /) method of builtins.list instance\n",
      "    Append object to the end of the list.\n",
      "\n",
      "Help on built-in function clear:\n",
      "\n",
      "clear() method of builtins.list instance\n",
      "    Remove all items from list.\n",
      "\n",
      "Help on built-in function pop:\n",
      "\n",
      "pop(index=-1, /) method of builtins.list instance\n",
      "    Remove and return item at index (default last).\n",
      "    \n",
      "    Raises IndexError if list is empty or index is out of range.\n",
      "\n"
     ]
    }
   ],
   "source": [
    "#Using the tab function can autofill what you can do with functions\n",
    "help(L.append)\n",
    "help(L.clear)\n",
    "help(L.pop)"
   ]
  },
  {
   "cell_type": "code",
   "execution_count": 219,
   "metadata": {},
   "outputs": [
    {
     "data": {
      "text/plain": [
       "dict_items([('LEE', 'Leeds United'), ('THz-TDS', 'Terahertz Time Domain Spectroscopy'), ('PCA', 'Photoconductive Antannae'), ('y', 'yy'), ('z', 10)])"
      ]
     },
     "execution_count": 219,
     "metadata": {},
     "output_type": "execute_result"
    }
   ],
   "source": [
    "D.items()"
   ]
  },
  {
   "cell_type": "code",
   "execution_count": 220,
   "metadata": {},
   "outputs": [
    {
     "name": "stdout",
     "output_type": "stream",
     "text": [
      "List: [1, 4, 'nine', 'name', 5, 3, (2+4j), 4.9, True, False, 'first', 'second', 'third', 'fourth']\n",
      "Tuple: (1, 3, 4.9, 'name', 3)\n",
      "Set: {1, 'Pak Choi', 3, 47, 'Nani!!', 'name'}\n",
      "Dictionary: {'LEE': 'Leeds United', 'THz-TDS': 'Terahertz Time Domain Spectroscopy', 'PCA': 'Photoconductive Antannae', 'y': 'yy', 'z': 10}\n"
     ]
    }
   ],
   "source": [
    "#Problem solving\n",
    "print(\"List:\",L)\n",
    "print(\"Tuple:\",T)\n",
    "print(\"Set:\",S)\n",
    "print(\"Dictionary:\",D)"
   ]
  },
  {
   "cell_type": "code",
   "execution_count": 221,
   "metadata": {},
   "outputs": [],
   "source": [
    "D2 = {'A':L,'B':T,'C':S, 'D':D}\n",
    "#We can have any data type in any data structure as mentioned previously."
   ]
  },
  {
   "cell_type": "code",
   "execution_count": 222,
   "metadata": {},
   "outputs": [
    {
     "data": {
      "text/plain": [
       "'name'"
      ]
     },
     "execution_count": 222,
     "metadata": {},
     "output_type": "execute_result"
    }
   ],
   "source": [
    "D2['A'][3] #This lets us access the list and the 5th element "
   ]
  },
  {
   "cell_type": "code",
   "execution_count": 223,
   "metadata": {},
   "outputs": [],
   "source": [
    "L3 = [L,T,S,D2]"
   ]
  },
  {
   "cell_type": "code",
   "execution_count": 224,
   "metadata": {},
   "outputs": [
    {
     "data": {
      "text/plain": [
       "dict"
      ]
     },
     "execution_count": 224,
     "metadata": {},
     "output_type": "execute_result"
    }
   ],
   "source": [
    "type(L3[3])"
   ]
  },
  {
   "cell_type": "code",
   "execution_count": 1,
   "metadata": {},
   "outputs": [
    {
     "name": "stdout",
     "output_type": "stream",
     "text": [
      "[0, 1, 8, 27, 64, 125, 216, 343, 512, 729, 1000]\n"
     ]
    }
   ],
   "source": [
    "#You can make a list of cube numbers \n",
    "L4 = [x**3 for x in range(11)]\n",
    "print(L4)"
   ]
  },
  {
   "cell_type": "code",
   "execution_count": 2,
   "metadata": {},
   "outputs": [
    {
     "data": {
      "text/plain": [
       "{8, 125, 512, 1331, 2744, 4913}"
      ]
     },
     "execution_count": 2,
     "metadata": {},
     "output_type": "execute_result"
    }
   ],
   "source": [
    "S4 = {x**3 for x in range(2,20,3)}\n",
    "S4"
   ]
  },
  {
   "cell_type": "code",
   "execution_count": 3,
   "metadata": {},
   "outputs": [],
   "source": [
    "\"\"\" Imagine you are a teacher and you have different student records containing the \n",
    "    student ID and the marks in each subject where different students have taken different\n",
    "    subjects. All these records are in a hard copy and you want a digital copy and want to \n",
    "    compute the average mark of each student and display them.\n",
    "\"\"\"\n",
    "\n",
    "def StudentGrades():\n",
    "    D = {}\n",
    "    while True:\n",
    "        Student_ID = input(\"Enter Student ID: \")\n",
    "        Marks_List = input(\"Enter the marks by comma separated values: \")\n",
    "        More_Students = input('Enter \"no\" if there are no more students: ')\n",
    "        if Student_ID in D:\n",
    "            print(Student_ID, \"is already here.\")\n",
    "        else:\n",
    "            D[Student_ID] = Marks_List.split(\",\")\n",
    "        if More_Students.lower() == \"no\":\n",
    "            return D\n",
    "        "
   ]
  },
  {
   "cell_type": "code",
   "execution_count": 11,
   "metadata": {},
   "outputs": [
    {
     "name": "stdout",
     "output_type": "stream",
     "text": [
      "Enter Student ID: Alan\n",
      "Enter the marks by comma separated values: 77,93,45,99\n",
      "Enter \"no\" if there are no more students: no\n"
     ]
    }
   ],
   "source": [
    "Student_Data = StudentGrades()"
   ]
  },
  {
   "cell_type": "code",
   "execution_count": 12,
   "metadata": {},
   "outputs": [
    {
     "data": {
      "text/plain": [
       "{'Alan': ['77', '93', '45', '99']}"
      ]
     },
     "execution_count": 12,
     "metadata": {},
     "output_type": "execute_result"
    }
   ],
   "source": [
    "Student_Data"
   ]
  },
  {
   "cell_type": "code",
   "execution_count": 13,
   "metadata": {},
   "outputs": [],
   "source": [
    "def AverageMarks(D):\n",
    "    avgMarks = {}\n",
    "    for x in D:\n",
    "        L = D[x]\n",
    "        s = 0\n",
    "        for marks in L:\n",
    "            s += int(marks)\n",
    "        avgMarks[x] = s/len(L)\n",
    "    return avgMarks\n",
    "            "
   ]
  },
  {
   "cell_type": "code",
   "execution_count": 15,
   "metadata": {},
   "outputs": [
    {
     "name": "stdout",
     "output_type": "stream",
     "text": [
      "Alan achieved an average of: 78.5\n"
     ]
    }
   ],
   "source": [
    "Average = AverageMarks(Student_Data)\n",
    "\n",
    "for x in Average:\n",
    "    print(x,\"achieved an average of:\",Average[x])"
   ]
  }
 ],
 "metadata": {
  "kernelspec": {
   "display_name": "Python 3",
   "language": "python",
   "name": "python3"
  },
  "language_info": {
   "codemirror_mode": {
    "name": "ipython",
    "version": 3
   },
   "file_extension": ".py",
   "mimetype": "text/x-python",
   "name": "python",
   "nbconvert_exporter": "python",
   "pygments_lexer": "ipython3",
   "version": "3.7.1"
  }
 },
 "nbformat": 4,
 "nbformat_minor": 2
}
