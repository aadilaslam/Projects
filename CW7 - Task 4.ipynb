{
 "cells": [
  {
   "cell_type": "markdown",
   "metadata": {},
   "source": [
    "# CW7 - Statistical Thermodynamics\n",
    "## Problem Set 4\n",
    "### Aadil Aslam"
   ]
  },
  {
   "cell_type": "code",
   "execution_count": 1,
   "metadata": {},
   "outputs": [],
   "source": [
    "%matplotlib inline \n",
    "import numpy as np\n",
    "import matplotlib.pyplot as plt\n",
    "import scipy.integrate as integrate\n",
    "import math\n",
    "import random\n",
    "import pandas as pd\n",
    "from scipy import random\n",
    "import math, random\n",
    "from scipy.integrate import quad\n",
    "import sympy\n",
    "from random import randrange "
   ]
  },
  {
   "cell_type": "markdown",
   "metadata": {},
   "source": [
    "## Question 1 \n",
    "\n",
    "Perform Monte Carlo simulations to make the corresponding plot for the\n",
    "heat capacity, i.e. plot〈$C_{V}$〉/ kN vs. temperature with J / k = 0.5 K, and compare to corresponding\n",
    "analytical solution. What is the effect of decreasing the coupling energy and why?"
   ]
  },
  {
   "cell_type": "code",
   "execution_count": 2,
   "metadata": {},
   "outputs": [
    {
     "name": "stdout",
     "output_type": "stream",
     "text": [
      "[0.05, 0.1, 0.2, 0.3, 0.4, 0.5, 0.75, 1.0, 1.5, 2.0, 2.5, 3.0, 4.0, 5.0, 6.0, 7.0, 8.0, 9.0, 10]\n"
     ]
    }
   ],
   "source": [
    "# Defining Constants\n",
    "N = 500 # Number of sites\n",
    "L = N*2000 # 2000 calculations per site \n",
    "J = 0.5 # Energy in Joules\n",
    "k = 1.0 # Boltzmann constant in AU\n",
    "\n",
    "Temp = [0.05, 0.1, 0.2, 0.3, 0.4, 0.5, 0.75, 1.0, 1.5, 2.0, 2.5, 3.0, 4.0, 5.0, 6.0, 7.0, 8.0, 9.0, 10]\n",
    "print(Temp)\n",
    "\n",
    "Heat_Capacities = []\n",
    "Spins = []\n",
    "Temperatures = []\n",
    "Entropies = []"
   ]
  },
  {
   "cell_type": "code",
   "execution_count": 3,
   "metadata": {},
   "outputs": [],
   "source": [
    "def fact(x):\n",
    "    f = 1\n",
    "    for num in range(1, x+1):\n",
    "        f *= num\n",
    "    return f"
   ]
  },
  {
   "cell_type": "code",
   "execution_count": 4,
   "metadata": {},
   "outputs": [
    {
     "data": {
      "text/html": [
       "<style  type=\"text/css\" >\n",
       "</style>  \n",
       "<table id=\"T_41c2e192_20ee_11ea_bf84_aae9fe878a21\" > \n",
       "<thead>    <tr> \n",
       "        <th class=\"blank level0\" ></th> \n",
       "        <th class=\"col_heading level0 col0\" >temp (K)</th> \n",
       "        <th class=\"col_heading level0 col1\" >Heat cap (J/K)</th> \n",
       "        <th class=\"col_heading level0 col2\" >Energy per spin</th> \n",
       "        <th class=\"col_heading level0 col3\" >Entropy</th> \n",
       "    </tr></thead> \n",
       "<tbody>    <tr> \n",
       "        <th id=\"T_41c2e192_20ee_11ea_bf84_aae9fe878a21level0_row0\" class=\"row_heading level0 row0\" >0</th> \n",
       "        <td id=\"T_41c2e192_20ee_11ea_bf84_aae9fe878a21row0_col0\" class=\"data row0 col0\" >0.05</td> \n",
       "        <td id=\"T_41c2e192_20ee_11ea_bf84_aae9fe878a21row0_col1\" class=\"data row0 col1\" >0</td> \n",
       "        <td id=\"T_41c2e192_20ee_11ea_bf84_aae9fe878a21row0_col2\" class=\"data row0 col2\" >-0.5</td> \n",
       "        <td id=\"T_41c2e192_20ee_11ea_bf84_aae9fe878a21row0_col3\" class=\"data row0 col3\" >0.0124292</td> \n",
       "    </tr>    <tr> \n",
       "        <th id=\"T_41c2e192_20ee_11ea_bf84_aae9fe878a21level0_row1\" class=\"row_heading level0 row1\" >1</th> \n",
       "        <td id=\"T_41c2e192_20ee_11ea_bf84_aae9fe878a21row1_col0\" class=\"data row1 col0\" >0.1</td> \n",
       "        <td id=\"T_41c2e192_20ee_11ea_bf84_aae9fe878a21row1_col1\" class=\"data row1 col1\" >0</td> \n",
       "        <td id=\"T_41c2e192_20ee_11ea_bf84_aae9fe878a21row1_col2\" class=\"data row1 col2\" >-0.5</td> \n",
       "        <td id=\"T_41c2e192_20ee_11ea_bf84_aae9fe878a21row1_col3\" class=\"data row1 col3\" >0.0124292</td> \n",
       "    </tr>    <tr> \n",
       "        <th id=\"T_41c2e192_20ee_11ea_bf84_aae9fe878a21level0_row2\" class=\"row_heading level0 row2\" >2</th> \n",
       "        <td id=\"T_41c2e192_20ee_11ea_bf84_aae9fe878a21row2_col0\" class=\"data row2 col0\" >0.2</td> \n",
       "        <td id=\"T_41c2e192_20ee_11ea_bf84_aae9fe878a21row2_col1\" class=\"data row2 col1\" >0.107284</td> \n",
       "        <td id=\"T_41c2e192_20ee_11ea_bf84_aae9fe878a21row2_col2\" class=\"data row2 col2\" >-0.497634</td> \n",
       "        <td id=\"T_41c2e192_20ee_11ea_bf84_aae9fe878a21row2_col3\" class=\"data row2 col3\" >0.0336921</td> \n",
       "    </tr>    <tr> \n",
       "        <th id=\"T_41c2e192_20ee_11ea_bf84_aae9fe878a21level0_row3\" class=\"row_heading level0 row3\" >3</th> \n",
       "        <td id=\"T_41c2e192_20ee_11ea_bf84_aae9fe878a21row3_col0\" class=\"data row3 col0\" >0.3</td> \n",
       "        <td id=\"T_41c2e192_20ee_11ea_bf84_aae9fe878a21row3_col1\" class=\"data row3 col1\" >0.489749</td> \n",
       "        <td id=\"T_41c2e192_20ee_11ea_bf84_aae9fe878a21row3_col2\" class=\"data row3 col2\" >-0.46226</td> \n",
       "        <td id=\"T_41c2e192_20ee_11ea_bf84_aae9fe878a21row3_col3\" class=\"data row3 col3\" >0.216277</td> \n",
       "    </tr>    <tr> \n",
       "        <th id=\"T_41c2e192_20ee_11ea_bf84_aae9fe878a21level0_row4\" class=\"row_heading level0 row4\" >4</th> \n",
       "        <td id=\"T_41c2e192_20ee_11ea_bf84_aae9fe878a21row4_col0\" class=\"data row4 col0\" >0.4</td> \n",
       "        <td id=\"T_41c2e192_20ee_11ea_bf84_aae9fe878a21row4_col1\" class=\"data row4 col1\" >0.508395</td> \n",
       "        <td id=\"T_41c2e192_20ee_11ea_bf84_aae9fe878a21row4_col2\" class=\"data row4 col2\" >-0.423969</td> \n",
       "        <td id=\"T_41c2e192_20ee_11ea_bf84_aae9fe878a21row4_col3\" class=\"data row4 col3\" >0.248314</td> \n",
       "    </tr>    <tr> \n",
       "        <th id=\"T_41c2e192_20ee_11ea_bf84_aae9fe878a21level0_row5\" class=\"row_heading level0 row5\" >5</th> \n",
       "        <td id=\"T_41c2e192_20ee_11ea_bf84_aae9fe878a21row5_col0\" class=\"data row5 col0\" >0.5</td> \n",
       "        <td id=\"T_41c2e192_20ee_11ea_bf84_aae9fe878a21row5_col1\" class=\"data row5 col1\" >0.418633</td> \n",
       "        <td id=\"T_41c2e192_20ee_11ea_bf84_aae9fe878a21row5_col2\" class=\"data row5 col2\" >-0.382221</td> \n",
       "        <td id=\"T_41c2e192_20ee_11ea_bf84_aae9fe878a21row5_col3\" class=\"data row5 col3\" >0.372862</td> \n",
       "    </tr>    <tr> \n",
       "        <th id=\"T_41c2e192_20ee_11ea_bf84_aae9fe878a21level0_row6\" class=\"row_heading level0 row6\" >6</th> \n",
       "        <td id=\"T_41c2e192_20ee_11ea_bf84_aae9fe878a21row6_col0\" class=\"data row6 col0\" >0.75</td> \n",
       "        <td id=\"T_41c2e192_20ee_11ea_bf84_aae9fe878a21row6_col1\" class=\"data row6 col1\" >0.314945</td> \n",
       "        <td id=\"T_41c2e192_20ee_11ea_bf84_aae9fe878a21row6_col2\" class=\"data row6 col2\" >-0.292542</td> \n",
       "        <td id=\"T_41c2e192_20ee_11ea_bf84_aae9fe878a21row6_col3\" class=\"data row6 col3\" >0.474204</td> \n",
       "    </tr>    <tr> \n",
       "        <th id=\"T_41c2e192_20ee_11ea_bf84_aae9fe878a21level0_row7\" class=\"row_heading level0 row7\" >7</th> \n",
       "        <td id=\"T_41c2e192_20ee_11ea_bf84_aae9fe878a21row7_col0\" class=\"data row7 col0\" >1</td> \n",
       "        <td id=\"T_41c2e192_20ee_11ea_bf84_aae9fe878a21row7_col1\" class=\"data row7 col1\" >0.195341</td> \n",
       "        <td id=\"T_41c2e192_20ee_11ea_bf84_aae9fe878a21row7_col2\" class=\"data row7 col2\" >-0.232548</td> \n",
       "        <td id=\"T_41c2e192_20ee_11ea_bf84_aae9fe878a21row7_col3\" class=\"data row7 col3\" >0.568728</td> \n",
       "    </tr>    <tr> \n",
       "        <th id=\"T_41c2e192_20ee_11ea_bf84_aae9fe878a21level0_row8\" class=\"row_heading level0 row8\" >8</th> \n",
       "        <td id=\"T_41c2e192_20ee_11ea_bf84_aae9fe878a21row8_col0\" class=\"data row8 col0\" >1.5</td> \n",
       "        <td id=\"T_41c2e192_20ee_11ea_bf84_aae9fe878a21row8_col1\" class=\"data row8 col1\" >0.105158</td> \n",
       "        <td id=\"T_41c2e192_20ee_11ea_bf84_aae9fe878a21row8_col2\" class=\"data row8 col2\" >-0.163138</td> \n",
       "        <td id=\"T_41c2e192_20ee_11ea_bf84_aae9fe878a21row8_col3\" class=\"data row8 col3\" >0.645676</td> \n",
       "    </tr>    <tr> \n",
       "        <th id=\"T_41c2e192_20ee_11ea_bf84_aae9fe878a21level0_row9\" class=\"row_heading level0 row9\" >9</th> \n",
       "        <td id=\"T_41c2e192_20ee_11ea_bf84_aae9fe878a21row9_col0\" class=\"data row9 col0\" >2</td> \n",
       "        <td id=\"T_41c2e192_20ee_11ea_bf84_aae9fe878a21row9_col1\" class=\"data row9 col1\" >0.0593447</td> \n",
       "        <td id=\"T_41c2e192_20ee_11ea_bf84_aae9fe878a21row9_col2\" class=\"data row9 col2\" >-0.12487</td> \n",
       "        <td id=\"T_41c2e192_20ee_11ea_bf84_aae9fe878a21row9_col3\" class=\"data row9 col3\" >0.670224</td> \n",
       "    </tr>    <tr> \n",
       "        <th id=\"T_41c2e192_20ee_11ea_bf84_aae9fe878a21level0_row10\" class=\"row_heading level0 row10\" >10</th> \n",
       "        <td id=\"T_41c2e192_20ee_11ea_bf84_aae9fe878a21row10_col0\" class=\"data row10 col0\" >2.5</td> \n",
       "        <td id=\"T_41c2e192_20ee_11ea_bf84_aae9fe878a21row10_col1\" class=\"data row10 col1\" >0.0402992</td> \n",
       "        <td id=\"T_41c2e192_20ee_11ea_bf84_aae9fe878a21row10_col2\" class=\"data row10 col2\" >-0.100608</td> \n",
       "        <td id=\"T_41c2e192_20ee_11ea_bf84_aae9fe878a21row10_col3\" class=\"data row10 col3\" >0.671644</td> \n",
       "    </tr>    <tr> \n",
       "        <th id=\"T_41c2e192_20ee_11ea_bf84_aae9fe878a21level0_row11\" class=\"row_heading level0 row11\" >11</th> \n",
       "        <td id=\"T_41c2e192_20ee_11ea_bf84_aae9fe878a21row11_col0\" class=\"data row11 col0\" >3</td> \n",
       "        <td id=\"T_41c2e192_20ee_11ea_bf84_aae9fe878a21row11_col1\" class=\"data row11 col1\" >0.0281735</td> \n",
       "        <td id=\"T_41c2e192_20ee_11ea_bf84_aae9fe878a21row11_col2\" class=\"data row11 col2\" >-0.0854858</td> \n",
       "        <td id=\"T_41c2e192_20ee_11ea_bf84_aae9fe878a21row11_col3\" class=\"data row11 col3\" >0.665568</td> \n",
       "    </tr>    <tr> \n",
       "        <th id=\"T_41c2e192_20ee_11ea_bf84_aae9fe878a21level0_row12\" class=\"row_heading level0 row12\" >12</th> \n",
       "        <td id=\"T_41c2e192_20ee_11ea_bf84_aae9fe878a21row12_col0\" class=\"data row12 col0\" >4</td> \n",
       "        <td id=\"T_41c2e192_20ee_11ea_bf84_aae9fe878a21row12_col1\" class=\"data row12 col1\" >0.0154025</td> \n",
       "        <td id=\"T_41c2e192_20ee_11ea_bf84_aae9fe878a21row12_col2\" class=\"data row12 col2\" >-0.064725</td> \n",
       "        <td id=\"T_41c2e192_20ee_11ea_bf84_aae9fe878a21row12_col3\" class=\"data row12 col3\" >0.67975</td> \n",
       "    </tr>    <tr> \n",
       "        <th id=\"T_41c2e192_20ee_11ea_bf84_aae9fe878a21level0_row13\" class=\"row_heading level0 row13\" >13</th> \n",
       "        <td id=\"T_41c2e192_20ee_11ea_bf84_aae9fe878a21row13_col0\" class=\"data row13 col0\" >5</td> \n",
       "        <td id=\"T_41c2e192_20ee_11ea_bf84_aae9fe878a21row13_col1\" class=\"data row13 col1\" >0.0102641</td> \n",
       "        <td id=\"T_41c2e192_20ee_11ea_bf84_aae9fe878a21row13_col2\" class=\"data row13 col2\" >-0.0527981</td> \n",
       "        <td id=\"T_41c2e192_20ee_11ea_bf84_aae9fe878a21row13_col3\" class=\"data row13 col3\" >0.68513</td> \n",
       "    </tr>    <tr> \n",
       "        <th id=\"T_41c2e192_20ee_11ea_bf84_aae9fe878a21level0_row14\" class=\"row_heading level0 row14\" >14</th> \n",
       "        <td id=\"T_41c2e192_20ee_11ea_bf84_aae9fe878a21row14_col0\" class=\"data row14 col0\" >6</td> \n",
       "        <td id=\"T_41c2e192_20ee_11ea_bf84_aae9fe878a21row14_col1\" class=\"data row14 col1\" >0.00720503</td> \n",
       "        <td id=\"T_41c2e192_20ee_11ea_bf84_aae9fe878a21row14_col2\" class=\"data row14 col2\" >-0.0435647</td> \n",
       "        <td id=\"T_41c2e192_20ee_11ea_bf84_aae9fe878a21row14_col3\" class=\"data row14 col3\" >0.684683</td> \n",
       "    </tr>    <tr> \n",
       "        <th id=\"T_41c2e192_20ee_11ea_bf84_aae9fe878a21level0_row15\" class=\"row_heading level0 row15\" >15</th> \n",
       "        <td id=\"T_41c2e192_20ee_11ea_bf84_aae9fe878a21row15_col0\" class=\"data row15 col0\" >7</td> \n",
       "        <td id=\"T_41c2e192_20ee_11ea_bf84_aae9fe878a21row15_col1\" class=\"data row15 col1\" >0.00525697</td> \n",
       "        <td id=\"T_41c2e192_20ee_11ea_bf84_aae9fe878a21row15_col2\" class=\"data row15 col2\" >-0.0386337</td> \n",
       "        <td id=\"T_41c2e192_20ee_11ea_bf84_aae9fe878a21row15_col3\" class=\"data row15 col3\" >0.676667</td> \n",
       "    </tr>    <tr> \n",
       "        <th id=\"T_41c2e192_20ee_11ea_bf84_aae9fe878a21level0_row16\" class=\"row_heading level0 row16\" >16</th> \n",
       "        <td id=\"T_41c2e192_20ee_11ea_bf84_aae9fe878a21row16_col0\" class=\"data row16 col0\" >8</td> \n",
       "        <td id=\"T_41c2e192_20ee_11ea_bf84_aae9fe878a21row16_col1\" class=\"data row16 col1\" >0.00412732</td> \n",
       "        <td id=\"T_41c2e192_20ee_11ea_bf84_aae9fe878a21row16_col2\" class=\"data row16 col2\" >-0.0343063</td> \n",
       "        <td id=\"T_41c2e192_20ee_11ea_bf84_aae9fe878a21row16_col3\" class=\"data row16 col3\" >0.685833</td> \n",
       "    </tr>    <tr> \n",
       "        <th id=\"T_41c2e192_20ee_11ea_bf84_aae9fe878a21level0_row17\" class=\"row_heading level0 row17\" >17</th> \n",
       "        <td id=\"T_41c2e192_20ee_11ea_bf84_aae9fe878a21row17_col0\" class=\"data row17 col0\" >9</td> \n",
       "        <td id=\"T_41c2e192_20ee_11ea_bf84_aae9fe878a21row17_col1\" class=\"data row17 col1\" >0.00318637</td> \n",
       "        <td id=\"T_41c2e192_20ee_11ea_bf84_aae9fe878a21row17_col2\" class=\"data row17 col2\" >-0.0301122</td> \n",
       "        <td id=\"T_41c2e192_20ee_11ea_bf84_aae9fe878a21row17_col3\" class=\"data row17 col3\" >0.68513</td> \n",
       "    </tr>    <tr> \n",
       "        <th id=\"T_41c2e192_20ee_11ea_bf84_aae9fe878a21level0_row18\" class=\"row_heading level0 row18\" >18</th> \n",
       "        <td id=\"T_41c2e192_20ee_11ea_bf84_aae9fe878a21row18_col0\" class=\"data row18 col0\" >10</td> \n",
       "        <td id=\"T_41c2e192_20ee_11ea_bf84_aae9fe878a21row18_col1\" class=\"data row18 col1\" >0.00252683</td> \n",
       "        <td id=\"T_41c2e192_20ee_11ea_bf84_aae9fe878a21row18_col2\" class=\"data row18 col2\" >-0.0280906</td> \n",
       "        <td id=\"T_41c2e192_20ee_11ea_bf84_aae9fe878a21row18_col3\" class=\"data row18 col3\" >0.686472</td> \n",
       "    </tr></tbody> \n",
       "</table> "
      ],
      "text/plain": [
       "<pandas.io.formats.style.Styler at 0x1517ab7400>"
      ]
     },
     "execution_count": 4,
     "metadata": {},
     "output_type": "execute_result"
    }
   ],
   "source": [
    "for T in Temp:\n",
    "\n",
    "    rnd = np.random.randint(N) # random number in range 1 to N\n",
    "    spin = np.arange(N)\n",
    "    P = np.exp(-4.0*J/(k*T)) # Probability in Metropolis test.\n",
    "\n",
    "    for i in range(N):\n",
    "        spin[i]=-1 # all spins aligned initially\n",
    "    Enrg = -J*N      \n",
    "    tot_Enrg = 0\n",
    "    tot_Enrg2 = 0\n",
    "    \n",
    "    for num in range(L): # start Metropolis\n",
    "        i = np.random.randint(N-2)   # chooses spin randomly\n",
    "\n",
    "                        # Boundary condition follow\n",
    "        index1 = i+1\n",
    "        index2 = i-1\n",
    "        rn = np.random.rand()\n",
    "        DeltaE = 2*J*spin[i]*(spin[index1] + spin[index2])\n",
    "     \n",
    "        if index1 > N: \n",
    "            index1 = 1\n",
    "        \n",
    "        elif index2 < 1:\n",
    "            index2 = N\n",
    "                              # Metropolis test next\n",
    "    \n",
    "        elif DeltaE <= 0 or rn < P: # rand between 0 and 1\n",
    "            spin[i] = -spin[i]  # flip spin\n",
    "            Enrg = Enrg + DeltaE # add in energy\n",
    "\n",
    "        tot_Enrg = tot_Enrg  + Enrg\n",
    "        tot_Enrg2 = tot_Enrg2 + (Enrg**2)  # end metropolis loop\n",
    "    avE =  tot_Enrg/L      # total <E > , N sites \n",
    "    avE2 = tot_Enrg2/L    # total <E2> , N sites\n",
    "    E = avE/N  ## energy per spin\n",
    "    E2 = avE2/N\n",
    "    \n",
    "    #    `<Energy>/spin`= avE/N\n",
    "    #    `<Energy squared>/spin`= avE2/N\n",
    "    Cv = 1/(k*T**2)*((avE2 - avE**2)/N)\n",
    "    Spins.append(E)\n",
    "    Heat_Capacities.append(Cv)\n",
    "    Temperatures.append(T)\n",
    "    \n",
    "    count2 =1\n",
    "    for s in range(1, N-1):\n",
    "       \n",
    "        if spin[s] != spin[s-1]:\n",
    "            count2 = count2 + 1\n",
    "            \n",
    "## calc factorials\n",
    "    N_fact = fact(N)    \n",
    "    count2_fact = fact(count2)\n",
    "    n_count2_fact = fact((N-count2))\n",
    "    \n",
    "    spn = N_fact/(count2_fact*n_count2_fact)\n",
    "    spn2 = (np.log(spn))/N\n",
    "    Entropies.append(spn2)\n",
    "    \n",
    "entropies = pd.Series(Entropies)\n",
    "heat_capacities = pd.Series(Heat_Capacities)\n",
    "temperatures = pd.Series(Temperatures)\n",
    "spins = pd.Series(Spins)\n",
    "\n",
    "data = {'temp (K)':temperatures, 'Heat cap (J/K)':heat_capacities, 'Energy per spin':spins, 'Entropy':entropies}\n",
    "df = pd.DataFrame(data)\n",
    "df.style"
   ]
  },
  {
   "cell_type": "code",
   "execution_count": 5,
   "metadata": {},
   "outputs": [
    {
     "data": {
      "image/png": "[encoded data removed]",
      "text/plain": [
       "<Figure size 432x288 with 1 Axes>"
      ]
     },
     "metadata": {
      "needs_background": "light"
     },
     "output_type": "display_data"
    },
    {
     "data": {
      "image/png": "[encoded data removed]",
      "text/plain": [
       "<Figure size 432x288 with 1 Axes>"
      ]
     },
     "metadata": {
      "needs_background": "light"
     },
     "output_type": "display_data"
    }
   ],
   "source": [
    "# Plot of <E>/KN against T\n",
    "\n",
    "plt.scatter(Temperatures, Spins)\n",
    "plt.xlabel('T/K')\n",
    "plt.ylabel('<E>/K$_B$N')\n",
    "plt.plot\n",
    "plt.show()\n",
    "\n",
    "# Plot of <Cv>/KN against T\n",
    "\n",
    "# Analytical Solution\n",
    "t_Cv = np.linspace(0.01, 10, 1000)\n",
    "def Cv(t_Cv):\n",
    "    return (k*4*(J**2)/((k**2)*(t_Cv**2)*(np.exp(J/(k*t_Cv))+np.exp(-J/(k*t_Cv)))**2))\n",
    "\n",
    "plt.scatter(Temperatures, Heat_Capacities) # Monte Carlo\n",
    "plt.xlabel('T/K')\n",
    "plt.ylabel('<Cv>/K$_B$N')\n",
    "plt.title('C$_v$ against T when J/k = 0.5') # Exact\n",
    "plt.plot(t_Cv, Cv(t_Cv), 'g')\n",
    "plt.show()"
   ]
  },
  {
   "cell_type": "markdown",
   "metadata": {},
   "source": [
    "Decreasing the coupling energy causes the area under the curve to reduce. When compared to figure 7B in the handout the curve is thinner. This is because the spins are easier to flip into equal populations of parallel and anti-parallel states with a decreasing coupling constant.<br> The analytical solution is quite close to the Monte Carlo, this is because of the number of values in the linspace, other than 3 values they are quite accurate."
   ]
  },
  {
   "cell_type": "markdown",
   "metadata": {},
   "source": [
    "## Question 2 \n",
    "\n",
    "Calculating the entropy"
   ]
  },
  {
   "cell_type": "code",
   "execution_count": 6,
   "metadata": {},
   "outputs": [
    {
     "name": "stdout",
     "output_type": "stream",
     "text": [
      "[0.05, 0.1, 0.2, 0.3, 0.4, 0.5, 0.75, 1.0, 1.5, 2.0, 2.5, 3.0, 4.0, 5.0, 6.0, 7.0, 8.0, 9.0, 10]\n"
     ]
    }
   ],
   "source": [
    "# Defining Constants\n",
    "N = 500 # Number of sites\n",
    "L = N*2000 # 2000 calculations per site \n",
    "J2 = 5.0 # Energy in Joules\n",
    "k = 1.0 # Boltzmann constant in AU\n",
    "\n",
    "Temp_2 = [0.05, 0.1, 0.2, 0.3, 0.4, 0.5, 0.75, 1.0, 1.5, 2.0, 2.5, 3.0, 4.0, 5.0, 6.0, 7.0, 8.0, 9.0, 10]\n",
    "print(Temp_2)\n",
    "\n",
    "Heat_Capacities_2 = []\n",
    "Spins_2 = []\n",
    "Temperatures_2 = []\n",
    "Entropies_2 = []"
   ]
  },
  {
   "cell_type": "code",
   "execution_count": 7,
   "metadata": {},
   "outputs": [
    {
     "data": {
      "text/html": [
       "<style  type=\"text/css\" >\n",
       "</style>  \n",
       "<table id=\"T_903c24c8_20ee_11ea_bf84_aae9fe878a21\" > \n",
       "<thead>    <tr> \n",
       "        <th class=\"blank level0\" ></th> \n",
       "        <th class=\"col_heading level0 col0\" >temp (K)</th> \n",
       "        <th class=\"col_heading level0 col1\" >Entropy</th> \n",
       "    </tr></thead> \n",
       "<tbody>    <tr> \n",
       "        <th id=\"T_903c24c8_20ee_11ea_bf84_aae9fe878a21level0_row0\" class=\"row_heading level0 row0\" >0</th> \n",
       "        <td id=\"T_903c24c8_20ee_11ea_bf84_aae9fe878a21row0_col0\" class=\"data row0 col0\" >0.05</td> \n",
       "        <td id=\"T_903c24c8_20ee_11ea_bf84_aae9fe878a21row0_col1\" class=\"data row0 col1\" >0.0124292</td> \n",
       "    </tr>    <tr> \n",
       "        <th id=\"T_903c24c8_20ee_11ea_bf84_aae9fe878a21level0_row1\" class=\"row_heading level0 row1\" >1</th> \n",
       "        <td id=\"T_903c24c8_20ee_11ea_bf84_aae9fe878a21row1_col0\" class=\"data row1 col0\" >0.1</td> \n",
       "        <td id=\"T_903c24c8_20ee_11ea_bf84_aae9fe878a21row1_col1\" class=\"data row1 col1\" >0.0124292</td> \n",
       "    </tr>    <tr> \n",
       "        <th id=\"T_903c24c8_20ee_11ea_bf84_aae9fe878a21level0_row2\" class=\"row_heading level0 row2\" >2</th> \n",
       "        <td id=\"T_903c24c8_20ee_11ea_bf84_aae9fe878a21row2_col0\" class=\"data row2 col0\" >0.2</td> \n",
       "        <td id=\"T_903c24c8_20ee_11ea_bf84_aae9fe878a21row2_col1\" class=\"data row2 col1\" >0.0124292</td> \n",
       "    </tr>    <tr> \n",
       "        <th id=\"T_903c24c8_20ee_11ea_bf84_aae9fe878a21level0_row3\" class=\"row_heading level0 row3\" >3</th> \n",
       "        <td id=\"T_903c24c8_20ee_11ea_bf84_aae9fe878a21row3_col0\" class=\"data row3 col0\" >0.3</td> \n",
       "        <td id=\"T_903c24c8_20ee_11ea_bf84_aae9fe878a21row3_col1\" class=\"data row3 col1\" >0.0124292</td> \n",
       "    </tr>    <tr> \n",
       "        <th id=\"T_903c24c8_20ee_11ea_bf84_aae9fe878a21level0_row4\" class=\"row_heading level0 row4\" >4</th> \n",
       "        <td id=\"T_903c24c8_20ee_11ea_bf84_aae9fe878a21row4_col0\" class=\"data row4 col0\" >0.4</td> \n",
       "        <td id=\"T_903c24c8_20ee_11ea_bf84_aae9fe878a21row4_col1\" class=\"data row4 col1\" >0.0124292</td> \n",
       "    </tr>    <tr> \n",
       "        <th id=\"T_903c24c8_20ee_11ea_bf84_aae9fe878a21level0_row5\" class=\"row_heading level0 row5\" >5</th> \n",
       "        <td id=\"T_903c24c8_20ee_11ea_bf84_aae9fe878a21row5_col0\" class=\"data row5 col0\" >0.5</td> \n",
       "        <td id=\"T_903c24c8_20ee_11ea_bf84_aae9fe878a21row5_col1\" class=\"data row5 col1\" >0.0124292</td> \n",
       "    </tr>    <tr> \n",
       "        <th id=\"T_903c24c8_20ee_11ea_bf84_aae9fe878a21level0_row6\" class=\"row_heading level0 row6\" >6</th> \n",
       "        <td id=\"T_903c24c8_20ee_11ea_bf84_aae9fe878a21row6_col0\" class=\"data row6 col0\" >0.75</td> \n",
       "        <td id=\"T_903c24c8_20ee_11ea_bf84_aae9fe878a21row6_col1\" class=\"data row6 col1\" >0.0124292</td> \n",
       "    </tr>    <tr> \n",
       "        <th id=\"T_903c24c8_20ee_11ea_bf84_aae9fe878a21level0_row7\" class=\"row_heading level0 row7\" >7</th> \n",
       "        <td id=\"T_903c24c8_20ee_11ea_bf84_aae9fe878a21row7_col0\" class=\"data row7 col0\" >1</td> \n",
       "        <td id=\"T_903c24c8_20ee_11ea_bf84_aae9fe878a21row7_col1\" class=\"data row7 col1\" >0.0124292</td> \n",
       "    </tr>    <tr> \n",
       "        <th id=\"T_903c24c8_20ee_11ea_bf84_aae9fe878a21level0_row8\" class=\"row_heading level0 row8\" >8</th> \n",
       "        <td id=\"T_903c24c8_20ee_11ea_bf84_aae9fe878a21row8_col0\" class=\"data row8 col0\" >1.5</td> \n",
       "        <td id=\"T_903c24c8_20ee_11ea_bf84_aae9fe878a21row8_col1\" class=\"data row8 col1\" >0.0124292</td> \n",
       "    </tr>    <tr> \n",
       "        <th id=\"T_903c24c8_20ee_11ea_bf84_aae9fe878a21level0_row9\" class=\"row_heading level0 row9\" >9</th> \n",
       "        <td id=\"T_903c24c8_20ee_11ea_bf84_aae9fe878a21row9_col0\" class=\"data row9 col0\" >2</td> \n",
       "        <td id=\"T_903c24c8_20ee_11ea_bf84_aae9fe878a21row9_col1\" class=\"data row9 col1\" >0.0336921</td> \n",
       "    </tr>    <tr> \n",
       "        <th id=\"T_903c24c8_20ee_11ea_bf84_aae9fe878a21level0_row10\" class=\"row_heading level0 row10\" >10</th> \n",
       "        <td id=\"T_903c24c8_20ee_11ea_bf84_aae9fe878a21row10_col0\" class=\"data row10 col0\" >2.5</td> \n",
       "        <td id=\"T_903c24c8_20ee_11ea_bf84_aae9fe878a21row10_col1\" class=\"data row10 col1\" >0.101495</td> \n",
       "    </tr>    <tr> \n",
       "        <th id=\"T_903c24c8_20ee_11ea_bf84_aae9fe878a21level0_row11\" class=\"row_heading level0 row11\" >11</th> \n",
       "        <td id=\"T_903c24c8_20ee_11ea_bf84_aae9fe878a21row11_col0\" class=\"data row11 col0\" >3</td> \n",
       "        <td id=\"T_903c24c8_20ee_11ea_bf84_aae9fe878a21row11_col1\" class=\"data row11 col1\" >0.116161</td> \n",
       "    </tr>    <tr> \n",
       "        <th id=\"T_903c24c8_20ee_11ea_bf84_aae9fe878a21level0_row12\" class=\"row_heading level0 row12\" >12</th> \n",
       "        <td id=\"T_903c24c8_20ee_11ea_bf84_aae9fe878a21row12_col0\" class=\"data row12 col0\" >4</td> \n",
       "        <td id=\"T_903c24c8_20ee_11ea_bf84_aae9fe878a21row12_col1\" class=\"data row12 col1\" >0.268433</td> \n",
       "    </tr>    <tr> \n",
       "        <th id=\"T_903c24c8_20ee_11ea_bf84_aae9fe878a21level0_row13\" class=\"row_heading level0 row13\" >13</th> \n",
       "        <td id=\"T_903c24c8_20ee_11ea_bf84_aae9fe878a21row13_col0\" class=\"data row13 col0\" >5</td> \n",
       "        <td id=\"T_903c24c8_20ee_11ea_bf84_aae9fe878a21row13_col1\" class=\"data row13 col1\" >0.380511</td> \n",
       "    </tr>    <tr> \n",
       "        <th id=\"T_903c24c8_20ee_11ea_bf84_aae9fe878a21level0_row14\" class=\"row_heading level0 row14\" >14</th> \n",
       "        <td id=\"T_903c24c8_20ee_11ea_bf84_aae9fe878a21row14_col0\" class=\"data row14 col0\" >6</td> \n",
       "        <td id=\"T_903c24c8_20ee_11ea_bf84_aae9fe878a21row14_col1\" class=\"data row14 col1\" >0.430301</td> \n",
       "    </tr>    <tr> \n",
       "        <th id=\"T_903c24c8_20ee_11ea_bf84_aae9fe878a21level0_row15\" class=\"row_heading level0 row15\" >15</th> \n",
       "        <td id=\"T_903c24c8_20ee_11ea_bf84_aae9fe878a21row15_col0\" class=\"data row15 col0\" >7</td> \n",
       "        <td id=\"T_903c24c8_20ee_11ea_bf84_aae9fe878a21row15_col1\" class=\"data row15 col1\" >0.491403</td> \n",
       "    </tr>    <tr> \n",
       "        <th id=\"T_903c24c8_20ee_11ea_bf84_aae9fe878a21level0_row16\" class=\"row_heading level0 row16\" >16</th> \n",
       "        <td id=\"T_903c24c8_20ee_11ea_bf84_aae9fe878a21row16_col0\" class=\"data row16 col0\" >8</td> \n",
       "        <td id=\"T_903c24c8_20ee_11ea_bf84_aae9fe878a21row16_col1\" class=\"data row16 col1\" >0.555955</td> \n",
       "    </tr>    <tr> \n",
       "        <th id=\"T_903c24c8_20ee_11ea_bf84_aae9fe878a21level0_row17\" class=\"row_heading level0 row17\" >17</th> \n",
       "        <td id=\"T_903c24c8_20ee_11ea_bf84_aae9fe878a21row17_col0\" class=\"data row17 col0\" >9</td> \n",
       "        <td id=\"T_903c24c8_20ee_11ea_bf84_aae9fe878a21row17_col1\" class=\"data row17 col1\" >0.576829</td> \n",
       "    </tr>    <tr> \n",
       "        <th id=\"T_903c24c8_20ee_11ea_bf84_aae9fe878a21level0_row18\" class=\"row_heading level0 row18\" >18</th> \n",
       "        <td id=\"T_903c24c8_20ee_11ea_bf84_aae9fe878a21row18_col0\" class=\"data row18 col0\" >10</td> \n",
       "        <td id=\"T_903c24c8_20ee_11ea_bf84_aae9fe878a21row18_col1\" class=\"data row18 col1\" >0.588376</td> \n",
       "    </tr></tbody> \n",
       "</table> "
      ],
      "text/plain": [
       "<pandas.io.formats.style.Styler at 0x15182044a8>"
      ]
     },
     "execution_count": 7,
     "metadata": {},
     "output_type": "execute_result"
    }
   ],
   "source": [
    "for T_2 in Temp_2:\n",
    "\n",
    "    rnd = np.random.randint(N) # random number in range 1 to N\n",
    "    spin = np.arange(N)\n",
    "    P_2 = np.exp(-4.0*J2/(k*T_2)) # Probability in Metropolis test.\n",
    "\n",
    "    for i in range(N):\n",
    "        spin[i]=-1 # all spins aligned initially\n",
    "    Enrg_2 = -J2*N      \n",
    "    tot_Enrg_2 = 0\n",
    "    tot_Enrg2_2 = 0\n",
    "    \n",
    "    for num in range(L): # start Metropolis\n",
    "        i = np.random.randint(N-2)   # chooses spin randomly\n",
    "\n",
    "                        # Boundary condition follow\n",
    "        index1 = i+1\n",
    "        index2 = i-1\n",
    "        rn = np.random.rand()\n",
    "        DeltaE_2 = 2*J2*spin[i]*(spin[index1] + spin[index2])\n",
    "     \n",
    "        if index1 > N: \n",
    "            index1 = 1\n",
    "        \n",
    "        elif index2 < 1:\n",
    "            index2 = N\n",
    "                              # Metropolis test next\n",
    "    \n",
    "        elif DeltaE_2 <= 0 or rn < P_2: # rand between 0 and 1\n",
    "            spin[i] = -spin[i]  # flip spin\n",
    "            Enrg_2 = Enrg_2 + DeltaE_2 # add in energy\n",
    "\n",
    "        tot_Enrg_2 = tot_Enrg_2  + Enrg_2\n",
    "        tot_Enrg2_2 = tot_Enrg2_2 + (Enrg_2**2)  # end metropolis loop\n",
    "    avE_2 =  tot_Enrg_2/L      # total <E > , N sites \n",
    "    avE2_2 = tot_Enrg2_2/L    # total <E2> , N sites\n",
    "    E_2 = avE_2/N  ## energy per spin\n",
    "    E2_2 = avE2_2/N\n",
    "    \n",
    "    #    `<Energy>/spin`= avE/N\n",
    "    #    `<Energy squared>/spin`= avE2/N\n",
    "    Temperatures_2.append(T_2)\n",
    "    \n",
    "    count2 =1\n",
    "    for s in range(1, N-1):\n",
    "       \n",
    "        if spin[s] != spin[s-1]:\n",
    "            count2 = count2 + 1\n",
    "            \n",
    "## calc factorials\n",
    "    N_fact = fact(N)    \n",
    "    count2_fact = fact(count2)\n",
    "    n_count2_fact = fact((N-count2))\n",
    "    \n",
    "    spn = N_fact/(count2_fact*n_count2_fact)\n",
    "    spn2 = (np.log(spn))/N\n",
    "    Entropies_2.append(spn2)\n",
    "    \n",
    "entropies_2 = pd.Series(Entropies_2)\n",
    "temperatures_2 = pd.Series(Temperatures_2)\n",
    "\n",
    "data = {'temp (K)':temperatures_2, 'Entropy':entropies_2}\n",
    "df = pd.DataFrame(data)\n",
    "df.style"
   ]
  },
  {
   "cell_type": "code",
   "execution_count": 8,
   "metadata": {},
   "outputs": [
    {
     "name": "stderr",
     "output_type": "stream",
     "text": [
      "/Applications/anaconda3/lib/python3.7/site-packages/ipykernel_launcher.py:11: RuntimeWarning: invalid value encountered in true_divide\n",
      "  # This is added back by InteractiveShellApp.init_path()\n"
     ]
    },
    {
     "data": {
      "image/png": "[encoded data removed]",
      "text/plain": [
       "<Figure size 432x288 with 1 Axes>"
      ]
     },
     "metadata": {
      "needs_background": "light"
     },
     "output_type": "display_data"
    }
   ],
   "source": [
    "# Entropy verses Temperature when J = 0.5 K and when J = 5 K\n",
    "\n",
    "# Theoretical Solution J/k = 0.5\n",
    "t_S = np.linspace(0.01,10,1000)\n",
    "def S(t_S):\n",
    "    return (k*(np.log(np.exp(2*J/(k*t_S))+1)-2*J/t_S*(np.exp(2*J/(k*t_S))/(np.exp(2*J/(k*t_S))+1))))\n",
    "\n",
    "# Theoretical Solution J/k = 5\n",
    "t_S1 = np.linspace(0.01,10,1000)\n",
    "def S1(t_S1):\n",
    "    return (k*(np.log(np.exp(2*J2/(k*t_S1))+1)-2*J2/t_S1*(np.exp(2*J2/(k*t_S1))/(np.exp(2*J2/(k*t_S1))+1))))\n",
    "\n",
    "plt.scatter(Temperatures, Entropies) # Monte Carlo J/k = 0.5\n",
    "plt.scatter(Temperatures_2, Entropies_2) # Monte Carlo J/k = 5\n",
    "plt.xlabel('T/K')\n",
    "plt.ylabel('<S>/K$_B$N')\n",
    "plt.title('Entropy against Temperature when J/k = 0.5 and 5 K')\n",
    "plt.axhline(y = 0.7, color = 'r', linestyle = '--')\n",
    "plt.axvline(x = 0.5, color = 'r', linestyle = '--')\n",
    "plt.axvline(x = 5, color = 'r', linestyle = '--')\n",
    "plt.plot(t_S, S(t_S), 'k') # Exact J/k = 0.5\n",
    "plt.plot(t_S1, S1(t_S1), 'c') # Exact J/k = 5\n",
    "plt.show()"
   ]
  },
  {
   "cell_type": "markdown",
   "metadata": {},
   "source": [
    "The entropy is close to 0 near 0 Kelvin, this is because the system is ordered with regards to all the spins being in the same state, either parallel or antiparallel. As the temperature increases, the entropy increases due to energy being supplied to the system. This causes more randomisation in the way you can arrange the spins in the system.<br> At a higher coupling energy the entropy increases at a slower rate. This is because the surrounding heat bath initially provides energy that is less than the coupling energy. When the heat bath provides more energy than the coupling energy the coupling between spins becomes less important. As shown on the graph, when the thermal energy becomes larger than the coupling energy the curve starts to plateau. Sizes of groups with similar spin states are diminished but the number of groups increase which overall increases the disorder."
   ]
  },
  {
   "cell_type": "markdown",
   "metadata": {},
   "source": [
    "## Question 3"
   ]
  },
  {
   "cell_type": "markdown",
   "metadata": {},
   "source": [
    "When J=0 there are no spin-spin interactions, only the spin-external field interaction, H, caused by the presence of the magnetic field. <br> \n",
    "\n",
    "The partition function, Z, is now found to be: <br>\n",
    "Z = (exp(β*)+exp(-β*h))$^N$ <br>\n",
    "Z = (2cosh(β*h))$^N$ <br>\n",
    "\n",
    "Hence it can be seen that now: <br>\n",
    "U = kt$^2$*(dln(2cos(h/kT))/dt) = -h*sinh(h/kT)/cosh(h/kT) = -h*tanh(h/kT) <br>\n",
    "Cv = (dU/dT) = d(-h*tanh(h/kT))/dT = h$^2$*sech$^2$(h/kT)/kT$^2$ = 4h$^2$/(kT$^2$(exp(h/kT)+exp(-h/kT))) <br>\n",
    "S = k*ln(z)+k*T(dln(z)/dT) = k*ln(exp(2h/kT)+1)-2J/T*exp(2h/kT)/(exp(2J/kT)+1) <br>"
   ]
  },
  {
   "cell_type": "markdown",
   "metadata": {},
   "source": [
    "## Self Assessment\n",
    "\n",
    "I have completed most of the tasks and performed a Monte Carlo loop to answer the questions.\n",
    "\n",
    "When running the code I ran into a problem of the programme calculating the entropy values for when J/k = 5 K multiple times, this caused lots of problems when trying to compare the two.\n",
    "\n",
    "I helped others translating the maple code to python\n",
    "\n",
    "I would give myself a 7-8 out of 10 because I feel that what I did do, I did it well."
   ]
  }
 ],
 "metadata": {
  "kernelspec": {
   "display_name": "Python 3",
   "language": "python",
   "name": "python3"
  },
  "language_info": {
   "codemirror_mode": {
    "name": "ipython",
    "version": 3
   },
   "file_extension": ".py",
   "mimetype": "text/x-python",
   "name": "python",
   "nbconvert_exporter": "python",
   "pygments_lexer": "ipython3",
   "version": "3.7.1"
  }
 },
 "nbformat": 4,
 "nbformat_minor": 2
}
